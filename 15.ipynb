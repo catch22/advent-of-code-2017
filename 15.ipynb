{
 "cells": [
  {
   "cell_type": "markdown",
   "metadata": {},
   "source": [
    "# Day 15: Dueling Generators\n",
    "\n",
    "Here, you encounter a pair of dueling generators. The generators, called generator A and generator B, are trying to agree on a sequence of numbers. However, one of them is malfunctioning, and so the sequences don't always match.\n",
    "\n",
    "As they do this, a judge waits for each of them to generate its next value, compares the lowest 16 bits of both values, and keeps track of the number of times those parts of the values match.\n",
    "\n",
    "The generators both work on the same principle. To create its next value, a generator will take the previous value it produced, multiply it by a factor (generator A uses `16807`; generator B uses `48271`), and then keep the remainder of dividing that resulting product by `2147483647`. That final remainder is the value it produces next.\n",
    "\n",
    "To calculate each generator's first value, it instead uses a specific starting value as its \"previous value\" (as listed in your puzzle input)."
   ]
  },
  {
   "cell_type": "code",
   "execution_count": 1,
   "metadata": {},
   "outputs": [],
   "source": [
    "def generator(initial, factor):\n",
    "    previous = initial\n",
    "    while True:\n",
    "        previous = (previous * factor) % 2147483647\n",
    "        yield previous\n",
    "\n",
    "\n",
    "def generator_a(initial):\n",
    "    return generator(initial, 16807)\n",
    "\n",
    "\n",
    "def generator_b(initial):\n",
    "    return generator(initial, 48271)"
   ]
  },
  {
   "cell_type": "markdown",
   "metadata": {},
   "source": [
    "For example, suppose that for starting values, generator A uses `65`, while generator B uses `8921`. Then, the first five pairs of generated values are:"
   ]
  },
  {
   "cell_type": "code",
   "execution_count": 2,
   "metadata": {},
   "outputs": [],
   "source": [
    "import itertools\n",
    "\n",
    "example = 65, 8921\n",
    "\n",
    "example_a = list(itertools.islice(generator_a(example[0]), 5))\n",
    "assert example_a == [1092455, 1181022009, 245556042, 1744312007, 1352636452]\n",
    "\n",
    "example_b = list(itertools.islice(generator_b(example[1]), 5))\n",
    "assert example_b == [430625591, 1233683848, 1431495498, 137874439, 285222916]"
   ]
  },
  {
   "cell_type": "markdown",
   "metadata": {},
   "source": [
    "In binary, these pairs are (with generator A's value first in each pair):"
   ]
  },
  {
   "cell_type": "code",
   "execution_count": 3,
   "metadata": {},
   "outputs": [],
   "source": [
    "def bits(s):\n",
    "    return bin(s)[2:].zfill(32)\n",
    "\n",
    "\n",
    "assert [(bits(s), bits(t)) for s, t in zip(example_a, example_b)] == [\n",
    "    ('00000000000100001010101101100111', '00011001101010101101001100110111'),\n",
    "    ('01000110011001001111011100111001', '01001001100010001000010110001000'),\n",
    "    ('00001110101000101110001101001010', '01010101010100101110001101001010'),\n",
    "    ('01100111111110000001011011000111', '00001000001101111100110000000111'),\n",
    "    ('01010000100111111001100000100100', '00010001000000000010100000000100'),\n",
    "]"
   ]
  },
  {
   "cell_type": "markdown",
   "metadata": {},
   "source": [
    "Here, you can see that the lowest (here, rightmost) 16 bits of the third value match: `1110001101001010`. Because of this one match, after processing these five pairs, the judge would have added only 1 to its total."
   ]
  },
  {
   "cell_type": "code",
   "execution_count": 4,
   "metadata": {},
   "outputs": [],
   "source": [
    "def count_matches(initial_a, initial_b, rounds):\n",
    "    a = generator_a(initial_a)\n",
    "    b = generator_b(initial_b)\n",
    "    n = 0\n",
    "    for _ in range(rounds):\n",
    "        n += (next(a) & 0xffff) == (next(b) & 0xffff)\n",
    "    return n\n",
    "\n",
    "\n",
    "assert count_matches(*example, 5) == 1"
   ]
  },
  {
   "cell_type": "markdown",
   "metadata": {},
   "source": [
    "To get a significant sample, the judge would like to consider 40 million pairs. (In the example above, the judge would eventually find a total of 588 pairs that match in their lowest 16 bits.)"
   ]
  },
  {
   "cell_type": "code",
   "execution_count": 5,
   "metadata": {},
   "outputs": [
    {
     "name": "stdout",
     "output_type": "stream",
     "text": [
      "CPU times: user 39.4 s, sys: 293 ms, total: 39.7 s\n",
      "Wall time: 45.3 s\n"
     ]
    }
   ],
   "source": [
    "%%time\n",
    "assert count_matches(*example, 40_000_000) == 588"
   ]
  },
  {
   "cell_type": "markdown",
   "metadata": {},
   "source": [
    "After 40 million pairs, what is the judge's final count?"
   ]
  },
  {
   "cell_type": "code",
   "execution_count": 6,
   "metadata": {},
   "outputs": [
    {
     "name": "stdout",
     "output_type": "stream",
     "text": [
      "567\n",
      "CPU times: user 36.6 s, sys: 106 ms, total: 36.7 s\n",
      "Wall time: 37 s\n"
     ]
    }
   ],
   "source": [
    "%%time\n",
    "puzzle = open('15.input').read().strip().splitlines()\n",
    "puzzle = [int(line.split()[-1]) for line in puzzle]\n",
    "print(count_matches(*puzzle, 40_000_000))"
   ]
  },
  {
   "cell_type": "markdown",
   "metadata": {},
   "source": [
    "## Part Two\n",
    "\n",
    "In the interest of trying to align a little better, the generators get more picky about the numbers they actually give to the judge.\n",
    "\n",
    "They still generate values in the same way, but now they only hand a value to the judge when it meets their criteria:\n",
    "\n",
    "- Generator A looks for values that are multiples of 4.\n",
    "- Generator B looks for values that are multiples of 8.\n",
    "\n",
    "Each generator functions completely independently: they both go through values entirely on their own, only occasionally handing an acceptable value to the judge, and otherwise working through the same sequence of values as before until they find one.\n",
    "\n",
    "The judge still waits for each generator to provide it with a value before comparing them (using the same comparison method as before). It keeps track of the order it receives values; the first values from each generator are compared, then the second values from each generator, then the third values, and so on."
   ]
  },
  {
   "cell_type": "code",
   "execution_count": 7,
   "metadata": {},
   "outputs": [],
   "source": [
    "def generator(initial, factor, multiple):\n",
    "    previous = initial\n",
    "    while True:\n",
    "        previous = (previous * factor) % 2147483647\n",
    "        if previous % multiple == 0:\n",
    "            yield previous\n",
    "\n",
    "\n",
    "def generator_a(initial):\n",
    "    return generator(initial, 16807, 4)\n",
    "\n",
    "\n",
    "def generator_b(initial):\n",
    "    return generator(initial, 48271, 8)"
   ]
  },
  {
   "cell_type": "markdown",
   "metadata": {},
   "source": [
    "Using the example starting values given above, the generators now produce the following first five values each:"
   ]
  },
  {
   "cell_type": "code",
   "execution_count": 8,
   "metadata": {},
   "outputs": [],
   "source": [
    "example_a = list(itertools.islice(generator_a(example[0]), 5))\n",
    "assert example_a == [1352636452, 1992081072, 530830436, 1980017072, 740335192]\n",
    "\n",
    "example_b = list(itertools.islice(generator_b(example[1]), 5))\n",
    "assert example_b == [1233683848, 862516352, 1159784568, 1616057672, 412269392]"
   ]
  },
  {
   "cell_type": "markdown",
   "metadata": {},
   "source": [
    "These values have the following corresponding binary values:"
   ]
  },
  {
   "cell_type": "code",
   "execution_count": 9,
   "metadata": {},
   "outputs": [],
   "source": [
    "assert [(bits(s), bits(t)) for s, t in zip(example_a, example_b)] == [\n",
    "    ('01010000100111111001100000100100', '01001001100010001000010110001000'),\n",
    "    ('01110110101111001011111010110000', '00110011011010001111010010000000'),\n",
    "    ('00011111101000111101010001100100', '01000101001000001110100001111000'),\n",
    "    ('01110110000001001010100110110000', '01100000010100110001010101001000'),\n",
    "    ('00101100001000001001111001011000', '00011000100100101011101101010000'),\n",
    "]"
   ]
  },
  {
   "cell_type": "markdown",
   "metadata": {},
   "source": [
    "Unfortunately, even though this change makes more bits similar on average, none of these values' lowest 16 bits match. \n",
    "\n",
    "Now, it's not until the 1056th pair that the judge finds the first match:\n",
    "\n",
    "```\n",
    "--Gen. A--  --Gen. B--\n",
    "1023762912   896885216\n",
    "\n",
    "00111101000001010110000111100000\n",
    "00110101011101010110000111100000\n",
    "```"
   ]
  },
  {
   "cell_type": "code",
   "execution_count": 10,
   "metadata": {},
   "outputs": [],
   "source": [
    "assert count_matches(*example, 5) == 0\n",
    "assert count_matches(*example, 1055) == 0\n",
    "assert count_matches(*example, 1056) == 1"
   ]
  },
  {
   "cell_type": "markdown",
   "metadata": {},
   "source": [
    "This change makes the generators much slower, and the judge is getting impatient; it is now only willing to consider 5 million pairs. (Using the values from the example above, after five million pairs, the judge would eventually find a total of 309 pairs that match in their lowest 16 bits.)"
   ]
  },
  {
   "cell_type": "code",
   "execution_count": 11,
   "metadata": {},
   "outputs": [
    {
     "name": "stdout",
     "output_type": "stream",
     "text": [
      "CPU times: user 18.2 s, sys: 45.6 ms, total: 18.3 s\n",
      "Wall time: 18.4 s\n"
     ]
    }
   ],
   "source": [
    "%%time\n",
    "assert count_matches(*example, 5_000_000) == 309"
   ]
  },
  {
   "cell_type": "markdown",
   "metadata": {},
   "source": [
    "After 5 million pairs, but using this new generator logic, what is the judge's final count?"
   ]
  },
  {
   "cell_type": "code",
   "execution_count": 12,
   "metadata": {},
   "outputs": [
    {
     "name": "stdout",
     "output_type": "stream",
     "text": [
      "323\n",
      "CPU times: user 18.3 s, sys: 55 ms, total: 18.4 s\n",
      "Wall time: 18.7 s\n"
     ]
    }
   ],
   "source": [
    "%%time\n",
    "print(count_matches(*puzzle, 5_000_000))"
   ]
  }
 ],
 "metadata": {
  "kernelspec": {
   "display_name": "Python 3",
   "language": "python",
   "name": "python3"
  },
  "language_info": {
   "codemirror_mode": {
    "name": "ipython",
    "version": 3
   },
   "file_extension": ".py",
   "mimetype": "text/x-python",
   "name": "python",
   "nbconvert_exporter": "python",
   "pygments_lexer": "ipython3",
   "version": "3.6.4"
  }
 },
 "nbformat": 4,
 "nbformat_minor": 2
}
