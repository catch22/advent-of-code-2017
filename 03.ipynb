{
 "cells": [
  {
   "cell_type": "markdown",
   "metadata": {},
   "source": [
    "# Day 3: Spiral Memory\n",
    "\n",
    "You come across an experimental new kind of memory stored on an infinite two-dimensional grid.\n",
    "\n",
    "Each square on the grid is allocated in a spiral pattern starting at a location marked 1 and then counting up while spiraling outward. For example, the first few squares are allocated like this:\n",
    "\n",
    "```\n",
    "17  16  15  14  13\n",
    "18   5   4   3  12\n",
    "19   6   1   2  11\n",
    "20   7   8   9  10\n",
    "21  22  23---> ...\n",
    "```\n",
    "\n",
    "While this is very space-efficient (no squares are skipped), requested data must be carried back to square 1 (the location of the only access port for this memory system) by programs that can only move up, down, left, or right. They always take the shortest path: the Manhattan Distance between the location of the data and square 1."
   ]
  },
  {
   "cell_type": "code",
   "execution_count": 1,
   "metadata": {},
   "outputs": [],
   "source": [
    "from math import sqrt, ceil\n",
    "\n",
    "\n",
    "def radius(location):\n",
    "    \"\"\"return radius of the part of the spiral that contains the given location.\"\"\"\n",
    "    return ceil((sqrt(location) - 1) / 2)\n",
    "\n",
    "\n",
    "assert radius(1) == 0\n",
    "assert all(radius(loc) == 1 for loc in range(2, 9 + 1))\n",
    "assert all(radius(loc) == 2 for loc in range(10, 25 + 1))\n",
    "assert radius(26) == 3\n",
    "\n",
    "\n",
    "def midpoints(radius):\n",
    "    \"\"\"return indices of midpoints of the spiral's edges at given radius.\"\"\"\n",
    "    if radius == 0: return [1]\n",
    "    east = (2 * radius - 1)**2 + radius\n",
    "    return [east + k * radius for k in [0, 2, 4, 6]]\n",
    "\n",
    "\n",
    "assert midpoints(0) == [1]\n",
    "assert midpoints(1) == [2, 4, 6, 8]\n",
    "assert midpoints(2) == [11, 15, 19, 23]\n",
    "\n",
    "\n",
    "def manhattan(index):\n",
    "    r = radius(index)\n",
    "    delta = min(abs(index - m) for m in midpoints(r))\n",
    "    return r + delta"
   ]
  },
  {
   "cell_type": "markdown",
   "metadata": {},
   "source": [
    "For example:"
   ]
  },
  {
   "cell_type": "code",
   "execution_count": 2,
   "metadata": {},
   "outputs": [],
   "source": [
    "# data from square 1 is carried 0 steps, since it's at the access port\n",
    "assert manhattan(1) == 0\n",
    "\n",
    "# data from square 12 is carried 3 steps, such as: down, left, left\n",
    "assert manhattan(12) == 3\n",
    "\n",
    "# data from square 23 is carried only 2 steps: up twice\n",
    "assert manhattan(23) == 2\n",
    "\n",
    "# data from square 1024 must be carried 31 steps\n",
    "assert manhattan(1024) == 31"
   ]
  },
  {
   "cell_type": "markdown",
   "metadata": {},
   "source": [
    "How many steps are required to carry the data from the square identified in your puzzle input all the way to the access port?"
   ]
  },
  {
   "cell_type": "code",
   "execution_count": 3,
   "metadata": {},
   "outputs": [
    {
     "data": {
      "text/plain": [
       "371"
      ]
     },
     "execution_count": 3,
     "metadata": {},
     "output_type": "execute_result"
    }
   ],
   "source": [
    "puzzle = 368078\n",
    "manhattan(puzzle)"
   ]
  },
  {
   "cell_type": "markdown",
   "metadata": {},
   "source": [
    "## Part Two\n",
    "\n",
    "As a stress test on the system, the programs here clear the grid and then store the value 1 in square 1. Then, in the same allocation order as shown above, they store the sum of the values in all adjacent squares, including diagonals."
   ]
  },
  {
   "cell_type": "code",
   "execution_count": 4,
   "metadata": {},
   "outputs": [],
   "source": [
    "def spiral():\n",
    "    \"\"\"Generate Cartesian coordinates of (infinite) spiral.\"\"\"\n",
    "    pos, ring, state = [0, 0], 0, 'RIGHT'\n",
    "\n",
    "    while True:\n",
    "        yield tuple(pos)\n",
    "        if state == 'UP':\n",
    "            pos[1] += 1\n",
    "            if pos[1] == ring:\n",
    "                state = 'LEFT'\n",
    "        elif state == 'LEFT':\n",
    "            pos[0] -= 1\n",
    "            if pos[0] == -ring:\n",
    "                state = 'DOWN'\n",
    "        elif state == 'DOWN':\n",
    "            pos[1] -= 1\n",
    "            if pos[1] == -ring:\n",
    "                state = 'RIGHT'\n",
    "        elif state == 'RIGHT':\n",
    "            pos[0] += 1\n",
    "            if pos[0] == ring + 1:\n",
    "                state = 'UP'\n",
    "                ring += 1\n",
    "\n",
    "\n",
    "from itertools import islice\n",
    "first_11 = list(islice(spiral(), 11))\n",
    "assert first_11 == [(0, 0), (1, 0), (1, 1), (0, 1), (-1, 1), (-1, 0), (-1, -1),\n",
    "                    (0, -1), (1, -1), (2, -1), (2, 0)]"
   ]
  },
  {
   "cell_type": "code",
   "execution_count": 5,
   "metadata": {},
   "outputs": [],
   "source": [
    "import numpy as np\n",
    "\n",
    "\n",
    "def iterate_sums_of_neighbors(max_radius, callback=None):\n",
    "    # pad with empty ring\n",
    "    k = max_radius + 1\n",
    "    padded_grid = np.zeros(shape=(2 * k + 1, 2 * k + 1), dtype=int)\n",
    "\n",
    "    # store value 1 at location 1\n",
    "    padded_grid[k, k] = 1\n",
    "\n",
    "    # iteratively compute sums of neighbors\n",
    "    sp = spiral()\n",
    "    next(sp)\n",
    "    for x, y in sp:\n",
    "        if max(x, y) > max_radius:\n",
    "            break\n",
    "\n",
    "        # compute sum of neighbors\n",
    "        s = 0\n",
    "        for dx in -1, 0, 1:\n",
    "            for dy in -1, 0, 1:\n",
    "                if dx != 0 or dy != 0:\n",
    "                    s += padded_grid[k - (y + dy), k + (x + dx)]\n",
    "        padded_grid[k - y, k + x] = s\n",
    "\n",
    "        # invoke callback?\n",
    "        if callback is not None:\n",
    "            result = callback(s)\n",
    "            if result is not None:\n",
    "                return result\n",
    "\n",
    "    return padded_grid[1:-1, 1:-1]"
   ]
  },
  {
   "cell_type": "markdown",
   "metadata": {},
   "source": [
    "So, the first few squares' values are chosen as follows:\n",
    "\n",
    "- Square 1 starts with the value 1.\n",
    "- Square 2 has only one adjacent filled square (with value 1), so it also stores 1.\n",
    "- Square 3 has both of the above squares as neighbors and stores the sum of their values, 2.\n",
    "- Square 4 has all three of the aforementioned squares as neighbors and stores the sum of their values, 4.\n",
    "- Square 5 only has the first and fourth squares as neighbors, so it gets the value 5.\n",
    "\n",
    "Once a square is written, its value does not change. Therefore, the first few squares would receive the following values:"
   ]
  },
  {
   "cell_type": "code",
   "execution_count": 6,
   "metadata": {},
   "outputs": [],
   "source": [
    "assert np.allclose(\n",
    "    iterate_sums_of_neighbors(max_radius=2), [\n",
    "        [147, 142, 133, 122, 59],\n",
    "        [304, 5, 4, 2, 57],\n",
    "        [330, 10, 1, 1, 54],\n",
    "        [351, 11, 23, 25, 26],\n",
    "        [362, 747, 806, 880, 931],\n",
    "    ])"
   ]
  },
  {
   "cell_type": "markdown",
   "metadata": {},
   "source": [
    "What is the first value written that is larger than your puzzle input?"
   ]
  },
  {
   "cell_type": "code",
   "execution_count": 7,
   "metadata": {},
   "outputs": [],
   "source": [
    "def first_value_above_threshold(max_radius, threshold):\n",
    "    def callback(sum):\n",
    "        if sum > threshold:\n",
    "            return sum\n",
    "\n",
    "    return iterate_sums_of_neighbors(max_radius, callback)\n",
    "\n",
    "\n",
    "assert first_value_above_threshold(2, 53) == 54\n",
    "assert first_value_above_threshold(2, 748) == 806"
   ]
  },
  {
   "cell_type": "markdown",
   "metadata": {},
   "source": [
    "Real puzzle:"
   ]
  },
  {
   "cell_type": "code",
   "execution_count": 8,
   "metadata": {},
   "outputs": [
    {
     "data": {
      "text/plain": [
       "369601"
      ]
     },
     "execution_count": 8,
     "metadata": {},
     "output_type": "execute_result"
    }
   ],
   "source": [
    "first_value_above_threshold(radius(puzzle), puzzle)"
   ]
  }
 ],
 "metadata": {
  "kernelspec": {
   "display_name": "Python 3",
   "language": "python",
   "name": "python3"
  },
  "language_info": {
   "codemirror_mode": {
    "name": "ipython",
    "version": 3
   },
   "file_extension": ".py",
   "mimetype": "text/x-python",
   "name": "python",
   "nbconvert_exporter": "python",
   "pygments_lexer": "ipython3",
   "version": "3.6.4"
  }
 },
 "nbformat": 4,
 "nbformat_minor": 2
}
