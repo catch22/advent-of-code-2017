{
 "cells": [
  {
   "cell_type": "markdown",
   "metadata": {},
   "source": [
    "# Day 6: Memory Reallocation\n",
    "\n",
    "A debugger program here is having an issue: it is trying to repair a memory reallocation routine, but it keeps getting stuck in an infinite loop.\n",
    "\n",
    "In this area, there are sixteen memory banks; each memory bank can hold any number of blocks. The goal of the reallocation routine is to balance the blocks between the memory banks.\n",
    "\n",
    "The reallocation routine operates in cycles. In each cycle, it finds the memory bank with the most blocks (ties won by the lowest-numbered memory bank) and redistributes those blocks among the banks. To do this, it removes all of the blocks from the selected bank, then moves to the next (by index) memory bank and inserts one of the blocks. It continues doing this until it runs out of blocks; if it reaches the last memory bank, it wraps around to the first one.\n",
    "\n",
    "The debugger would like to know how many redistributions can be done before a blocks-in-banks configuration is produced that has been seen before."
   ]
  },
  {
   "cell_type": "code",
   "execution_count": 1,
   "metadata": {},
   "outputs": [],
   "source": [
    "import numpy as np\n",
    "\n",
    "\n",
    "def realloc(banks):\n",
    "    banks = list(banks)\n",
    "\n",
    "    # clear largest bank\n",
    "    i = np.argmax(banks)\n",
    "    blocks = banks[i]\n",
    "    banks[i] = 0\n",
    "\n",
    "    # distribute in order\n",
    "    while blocks:\n",
    "        i = (i + 1) % len(banks)\n",
    "        banks[i] += 1\n",
    "        blocks -= 1\n",
    "    return tuple(banks)\n",
    "\n",
    "\n",
    "def find_cycle(banks):\n",
    "    # start with current status\n",
    "    banks = tuple(banks)\n",
    "    history = {banks: 0}\n",
    "\n",
    "    # reallocate until we loop\n",
    "    while True:\n",
    "        banks = realloc(banks)\n",
    "        if banks in history:\n",
    "            return history[banks], len(history), banks\n",
    "\n",
    "        history[banks] = len(history)"
   ]
  },
  {
   "cell_type": "markdown",
   "metadata": {},
   "source": [
    "For example, imagine a scenario with only four memory banks:\n",
    "\n",
    "The banks start with 0, 2, 7, and 0 blocks."
   ]
  },
  {
   "cell_type": "code",
   "execution_count": 2,
   "metadata": {},
   "outputs": [],
   "source": [
    "example = (0, 2, 7, 0)\n",
    "banks = list(example)\n",
    "\n",
    "# The third bank has the most blocks, so it is chosen for redistribution.\n",
    "# Starting with the next bank (the fourth bank) and then continuing to the first bank, the second bank, and so on,\n",
    "# the 7 blocks are spread out over the memory banks. The fourth, first, and second banks get two blocks each, and\n",
    "# the third bank gets one back. The final result looks like this: 2 4 1 2.\n",
    "banks = realloc(banks)\n",
    "assert banks == (2, 4, 1, 2)\n",
    "\n",
    "# Next, the second bank is chosen because it contains the most blocks (four). Because there are four memory banks,\n",
    "# each gets one block. The result is: 3 1 2 3.\n",
    "banks = realloc(banks)\n",
    "assert banks == (3, 1, 2, 3)\n",
    "\n",
    "# Now, there is a tie between the first and fourth memory banks, both of which have three blocks. The first bank\n",
    "# wins the tie, and its three blocks are distributed evenly over the other three banks, leaving it with none: 0 2 3 4.\n",
    "banks = realloc(banks)\n",
    "assert banks == (0, 2, 3, 4)\n",
    "\n",
    "# The fourth bank is chosen, and its four blocks are distributed such that each of the four banks receives one: 1 3 4 1.\n",
    "banks = realloc(banks)\n",
    "assert banks == (1, 3, 4, 1)\n",
    "\n",
    "# The third bank is chosen, and the same thing happens: 2 4 1 2.\n",
    "banks = realloc(banks)\n",
    "assert banks == (2, 4, 1, 2)"
   ]
  },
  {
   "cell_type": "markdown",
   "metadata": {},
   "source": [
    "At this point, we've reached a state we've seen before: 2 4 1 2 was already seen.\n",
    "\n",
    "The infinite loop is detected after the fifth block redistribution cycle, and so the answer in this example is 5."
   ]
  },
  {
   "cell_type": "code",
   "execution_count": 3,
   "metadata": {},
   "outputs": [],
   "source": [
    "assert find_cycle(example) == (1, 5, (2, 4, 1, 2))"
   ]
  },
  {
   "cell_type": "markdown",
   "metadata": {},
   "source": [
    "Given the initial block counts in your puzzle input, how many redistribution cycles must be completed before a configuration is produced that has been seen before?"
   ]
  },
  {
   "cell_type": "code",
   "execution_count": 4,
   "metadata": {},
   "outputs": [
    {
     "data": {
      "text/plain": [
       "3156"
      ]
     },
     "execution_count": 4,
     "metadata": {},
     "output_type": "execute_result"
    }
   ],
   "source": [
    "puzzle = [int(blocks) for blocks in open('06.input').read().strip().split()]\n",
    "find_cycle(puzzle)[1]"
   ]
  },
  {
   "cell_type": "markdown",
   "metadata": {},
   "source": [
    "# Part Two\n",
    "\n",
    "Out of curiosity, the debugger would also like to know the size of the loop: starting from a state that has already been seen, how many block redistribution cycles must be performed before that same state is seen again?"
   ]
  },
  {
   "cell_type": "code",
   "execution_count": 5,
   "metadata": {},
   "outputs": [],
   "source": [
    "def length_of_first_cycle(banks):\n",
    "    first, second, target = find_cycle(banks)\n",
    "    return second - first"
   ]
  },
  {
   "cell_type": "markdown",
   "metadata": {},
   "source": [
    "In the example above, 2 4 1 2 is seen again after four cycles, and so the answer in that example would be 4."
   ]
  },
  {
   "cell_type": "code",
   "execution_count": 6,
   "metadata": {},
   "outputs": [],
   "source": [
    "assert length_of_first_cycle(example) == 4"
   ]
  },
  {
   "cell_type": "markdown",
   "metadata": {},
   "source": [
    "How many cycles are in the infinite loop that arises from the configuration in your puzzle input?"
   ]
  },
  {
   "cell_type": "code",
   "execution_count": 7,
   "metadata": {},
   "outputs": [
    {
     "data": {
      "text/plain": [
       "1610"
      ]
     },
     "execution_count": 7,
     "metadata": {},
     "output_type": "execute_result"
    }
   ],
   "source": [
    "length_of_first_cycle(puzzle)"
   ]
  }
 ],
 "metadata": {
  "kernelspec": {
   "display_name": "Python 3",
   "language": "python",
   "name": "python3"
  },
  "language_info": {
   "codemirror_mode": {
    "name": "ipython",
    "version": 3
   },
   "file_extension": ".py",
   "mimetype": "text/x-python",
   "name": "python",
   "nbconvert_exporter": "python",
   "pygments_lexer": "ipython3",
   "version": "3.6.4"
  }
 },
 "nbformat": 4,
 "nbformat_minor": 2
}
