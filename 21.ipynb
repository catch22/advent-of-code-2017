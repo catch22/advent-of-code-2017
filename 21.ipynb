{
 "cells": [
  {
   "cell_type": "markdown",
   "metadata": {},
   "source": [
    "# Day 21: Fractal Art\n",
    "\n",
    "You find a program trying to generate some art. It uses a strange process that involves repeatedly enhancing the detail of an image through a set of rules.\n",
    "\n",
    "The image consists of a two-dimensional square grid of pixels that are either on (`#`) or off (`.`). The program always begins with this pattern:"
   ]
  },
  {
   "cell_type": "code",
   "execution_count": 1,
   "metadata": {},
   "outputs": [
    {
     "name": "stdout",
     "output_type": "stream",
     "text": [
      ".#.\n",
      "..#\n",
      "###\n"
     ]
    }
   ],
   "source": [
    "import numpy as np\n",
    "\n",
    "\n",
    "def parse(s):\n",
    "    return np.array(\n",
    "        [[1 if x == '#' else 0 for x in row] for row in s.split('/')])\n",
    "\n",
    "\n",
    "def unparse(a):\n",
    "    return '/'.join(''.join('#' if x else '.' for x in row) for row in a)\n",
    "\n",
    "\n",
    "def pretty(a):\n",
    "    return unparse(a).replace('/', '\\n')\n",
    "\n",
    "\n",
    "def parse_rulebook(s):\n",
    "    rulebook = {}\n",
    "    for line in s.strip().splitlines():\n",
    "        lhs, rhs = map(parse, line.split(' => '))\n",
    "        for cand in candidates(lhs):\n",
    "            rulebook[unparse(cand)] = rhs\n",
    "    return rulebook\n",
    "\n",
    "\n",
    "def enhance(rulebook, img):\n",
    "    N = len(img)\n",
    "    bs = 2 if N % 2 == 0 else 3\n",
    "    assert N % bs == 0\n",
    "    n = N // bs\n",
    "    img = img.reshape(n, bs, n, bs)\n",
    "    new_img = np.empty((n, bs + 1, n, bs + 1))\n",
    "    for i in range(n):\n",
    "        new_row = []\n",
    "        for j in range(n):\n",
    "            src = unparse(img[i, :, j, :])\n",
    "            dest = rulebook[src]\n",
    "            new_img[i, :, j, :] = dest\n",
    "    return new_img.reshape((bs + 1) * n, (bs + 1) * n)\n",
    "\n",
    "\n",
    "def enhance_repeatedly(rulebook, n, img=None):\n",
    "    if img is None:\n",
    "        img = INITIAL\n",
    "    for _ in range(n):\n",
    "        img = enhance(rulebook, img)\n",
    "    return img\n",
    "\n",
    "\n",
    "INITIAL = parse('.#./..#/###')\n",
    "print(pretty(INITIAL))"
   ]
  },
  {
   "cell_type": "markdown",
   "metadata": {},
   "source": [
    "Because the pattern is both 3 pixels wide and 3 pixels tall, it is said to have a size of 3.\n",
    "\n",
    "Then, the program repeats the following process:\n",
    "\n",
    "- If the size is evenly divisible by 2, break the pixels up into 2x2 squares, and convert each 2x2 square into a 3x3 square by following the corresponding enhancement rule.\n",
    "- Otherwise, the size is evenly divisible by 3; break the pixels up into 3x3 squares, and convert each 3x3 square into a 4x4 square by following the corresponding enhancement rule.\n",
    "Because each square of pixels is replaced by a larger one, the image gains pixels and so its size increases.\n",
    "\n",
    "The artist's book of enhancement rules is nearby (your puzzle input); however, it seems to be missing rules. The artist explains that sometimes, one must rotate or flip the input pattern to find a match. (Never rotate or flip the output pattern, though.) Each pattern is written concisely: rows are listed as single units, ordered top-down, and separated by slashes. For example:"
   ]
  },
  {
   "cell_type": "code",
   "execution_count": 2,
   "metadata": {},
   "outputs": [],
   "source": [
    "assert pretty(parse('../.#')) == \"\"\"\n",
    "..\n",
    ".#\n",
    "\"\"\".strip()\n",
    "\n",
    "assert pretty(parse('.#./..#/###')) == \"\"\"\n",
    ".#.\n",
    "..#\n",
    "###\n",
    "\"\"\".strip()\n",
    "\n",
    "assert pretty(parse('#..#/..../#..#/.##.')) == \"\"\"\n",
    "#..#\n",
    "....\n",
    "#..#\n",
    ".##.\n",
    "\"\"\".strip()"
   ]
  },
  {
   "cell_type": "markdown",
   "metadata": {},
   "source": [
    "When searching for a rule to use, rotate and flip the pattern as necessary. For example, all of the following patterns match the same rule:\n",
    "\n",
    "```\n",
    ".#.   .#.   #..   ###\n",
    "..#   #..   #.#   ..#\n",
    "###   ###   ##.   .#.\n",
    "```"
   ]
  },
  {
   "cell_type": "code",
   "execution_count": 3,
   "metadata": {},
   "outputs": [],
   "source": [
    "def hflip(img):\n",
    "    return np.fliplr(img)\n",
    "\n",
    "\n",
    "def rotate(img):\n",
    "    return hflip(np.transpose(img))\n",
    "\n",
    "\n",
    "def candidates(rule):\n",
    "    for _ in range(4):\n",
    "        yield rule\n",
    "        yield hflip(rule)\n",
    "        rule = rotate(rule)\n",
    "\n",
    "\n",
    "def match(rule, img):\n",
    "    for cand in candidates(rule):\n",
    "        if (cand == img).all():\n",
    "            return True\n",
    "    return False\n",
    "\n",
    "\n",
    "imgs = ['.#./..#/###', '.#./#../###', '#../#.#/##.', '###/..#/.#.']\n",
    "for i in imgs:\n",
    "    for j in imgs:\n",
    "        assert match(parse(i), parse(j))"
   ]
  },
  {
   "cell_type": "markdown",
   "metadata": {},
   "source": [
    "Suppose the book contained the following two rules:"
   ]
  },
  {
   "cell_type": "code",
   "execution_count": 5,
   "metadata": {},
   "outputs": [],
   "source": [
    "example = parse_rulebook(\"\"\"\n",
    "../.# => ##./#../...\n",
    ".#./..#/### => #..#/..../..../#..#\n",
    "\"\"\");"
   ]
  },
  {
   "cell_type": "markdown",
   "metadata": {},
   "source": [
    "As before, the program begins with this pattern:"
   ]
  },
  {
   "cell_type": "code",
   "execution_count": 6,
   "metadata": {},
   "outputs": [
    {
     "name": "stdout",
     "output_type": "stream",
     "text": [
      ".#.\n",
      "..#\n",
      "###\n"
     ]
    }
   ],
   "source": [
    "print(pretty(INITIAL))"
   ]
  },
  {
   "cell_type": "markdown",
   "metadata": {},
   "source": [
    "The size of the grid (3) is not divisible by 2, but it is divisible by 3. It divides evenly into a single square; the square matches the second rule, which produces:"
   ]
  },
  {
   "cell_type": "code",
   "execution_count": 7,
   "metadata": {},
   "outputs": [],
   "source": [
    "assert pretty(enhance_repeatedly(example, 1)) == \"\"\"\n",
    "#..#\n",
    "....\n",
    "....\n",
    "#..#\n",
    "\"\"\".strip()"
   ]
  },
  {
   "cell_type": "markdown",
   "metadata": {},
   "source": [
    "The size of this enhanced grid (4) is evenly divisible by 2, so that rule is used. It divides evenly into four squares:\n",
    "\n",
    "```\n",
    "#.|.#\n",
    "..|..\n",
    "--+--\n",
    "..|..\n",
    "#.|.#\n",
    "```\n",
    "\n",
    "Each of these squares matches the same rule (`../.# => ##./#../...`), three of which require some flipping and rotation to line up with the rule. The output for the rule is the same in all four cases:\n",
    "\n",
    "```\n",
    "##.|##.\n",
    "#..|#..\n",
    "...|...\n",
    "---+---\n",
    "##.|##.\n",
    "#..|#..\n",
    "...|...\n",
    "```\n",
    "\n",
    "Finally, the squares are joined into a new grid:\n"
   ]
  },
  {
   "cell_type": "code",
   "execution_count": 8,
   "metadata": {},
   "outputs": [],
   "source": [
    "assert pretty(enhance_repeatedly(example, 2)) == \"\"\"\n",
    "##.##.\n",
    "#..#..\n",
    "......\n",
    "##.##.\n",
    "#..#..\n",
    "......\n",
    "\"\"\".strip()"
   ]
  },
  {
   "cell_type": "markdown",
   "metadata": {},
   "source": [
    "Thus, after 2 iterations, the grid contains 12 pixels that are on."
   ]
  },
  {
   "cell_type": "code",
   "execution_count": 9,
   "metadata": {},
   "outputs": [],
   "source": [
    "assert unparse(enhance_repeatedly(example, 2)).count('#') == 12"
   ]
  },
  {
   "cell_type": "markdown",
   "metadata": {},
   "source": [
    "How many pixels stay on after 5 iterations?"
   ]
  },
  {
   "cell_type": "code",
   "execution_count": 10,
   "metadata": {},
   "outputs": [
    {
     "data": {
      "text/plain": [
       "203"
      ]
     },
     "execution_count": 10,
     "metadata": {},
     "output_type": "execute_result"
    }
   ],
   "source": [
    "puzzle = parse_rulebook(open('21.input').read())\n",
    "unparse(enhance_repeatedly(puzzle, 5)).count('#')"
   ]
  },
  {
   "cell_type": "markdown",
   "metadata": {},
   "source": [
    "## Part Two\n",
    "\n",
    "How many pixels stay on after 18 iterations?"
   ]
  },
  {
   "cell_type": "code",
   "execution_count": 11,
   "metadata": {},
   "outputs": [
    {
     "name": "stdout",
     "output_type": "stream",
     "text": [
      "CPU times: user 6.62 s, sys: 105 ms, total: 6.73 s\n",
      "Wall time: 6.79 s\n"
     ]
    },
    {
     "data": {
      "text/plain": [
       "3342470"
      ]
     },
     "execution_count": 11,
     "metadata": {},
     "output_type": "execute_result"
    }
   ],
   "source": [
    "%%time\n",
    "unparse(enhance_repeatedly(puzzle, 18)).count('#')"
   ]
  }
 ],
 "metadata": {
  "kernelspec": {
   "display_name": "Python 3",
   "language": "python",
   "name": "python3"
  },
  "language_info": {
   "codemirror_mode": {
    "name": "ipython",
    "version": 3
   },
   "file_extension": ".py",
   "mimetype": "text/x-python",
   "name": "python",
   "nbconvert_exporter": "python",
   "pygments_lexer": "ipython3",
   "version": "3.6.4"
  }
 },
 "nbformat": 4,
 "nbformat_minor": 2
}
