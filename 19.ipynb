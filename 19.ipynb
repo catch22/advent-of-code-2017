{
 "cells": [
  {
   "cell_type": "markdown",
   "metadata": {},
   "source": [
    "# Day 19: A Series of Tubes\n",
    "\n",
    "Somehow, a network packet got lost and ended up here. It's trying to follow a routing diagram (your puzzle input), but it's confused about where to go.\n",
    "\n",
    "Its starting point is just off the top of the diagram.\n",
    "Lines (drawn with `|`, `-`, and `+`) show the path it needs to take, starting by going down onto the only line connected to the top of the diagram. It needs to follow this path until it reaches the end (located somewhere within the diagram) and stop there.\n",
    "\n",
    "Sometimes, the lines cross over each other; in these cases, it needs to continue going the same direction, and only turn left or right when there's no other option. In addition, someone has left letters on the line; these also don't change its direction, but it can use them to keep track of where it's been."
   ]
  },
  {
   "cell_type": "code",
   "execution_count": 1,
   "metadata": {},
   "outputs": [],
   "source": [
    "import string\n",
    "LETTERS = string.ascii_letters\n",
    "DIRS = {\n",
    "    'down': (1, 0),\n",
    "    'up': (-1, 0),\n",
    "    'left': (0, -1),\n",
    "    'right': (0, 1),\n",
    "}\n",
    "\n",
    "\n",
    "def entry_point(maze):\n",
    "    return 0, maze[0].index('|'), 'down'\n",
    "\n",
    "\n",
    "def walk(maze):\n",
    "    row, col, dir = entry_point(maze)\n",
    "    while True:\n",
    "        x = maze[row][col]\n",
    "        if x == ' ':\n",
    "            return\n",
    "        yield x\n",
    "\n",
    "        if x in ['-', '|'] or x in LETTERS:\n",
    "            drow, dcol = DIRS[dir]\n",
    "            row += drow\n",
    "            col += dcol\n",
    "        elif x == '+':\n",
    "            attempt = ['left', 'right'] if dir in ['up',\n",
    "                                                   'down'] else ['up', 'down']\n",
    "            success = False\n",
    "            for new_dir in attempt:\n",
    "                drow, dcol = DIRS[new_dir]\n",
    "                y = maze[row + drow][col + dcol]\n",
    "                if y in ['-', '|', '+'] or y in LETTERS:\n",
    "                    row += drow\n",
    "                    col += dcol\n",
    "                    dir = new_dir\n",
    "                    success = True\n",
    "                    break\n",
    "            assert success\n",
    "        else:\n",
    "            raise Exception('Unexpected maze element %r' % x)"
   ]
  },
  {
   "cell_type": "markdown",
   "metadata": {},
   "source": [
    "For example:"
   ]
  },
  {
   "cell_type": "code",
   "execution_count": 2,
   "metadata": {},
   "outputs": [],
   "source": [
    "example = \"\"\"\n",
    "     |          \n",
    "     |  +--+    \n",
    "     A  |  C    \n",
    " F---|----E|--+ \n",
    "     |  |  |  D \n",
    "     +B-+  +--+ \n",
    "\"\"\".splitlines()[1:]\n",
    "assert entry_point(example) == (0, 5, 'down')"
   ]
  },
  {
   "cell_type": "markdown",
   "metadata": {},
   "source": [
    "Given this diagram, the packet needs to take the following path:\n",
    "\n",
    "- Starting at the only line touching the top of the diagram, it must go down, pass through `A`, and continue onward to the first `+`.\n",
    "- Travel right, up, and right, passing through `B` in the process.\n",
    "- Continue down (collecting `C`), right, and up (collecting `D`).\n",
    "- Finally, go all the way left through E and stopping at F.\n",
    "- Following the path to the end, the letters it sees on its path are `ABCDEF`."
   ]
  },
  {
   "cell_type": "code",
   "execution_count": 3,
   "metadata": {},
   "outputs": [],
   "source": [
    "def path(maze):\n",
    "    letters = [x for x in walk(maze) if x in LETTERS]\n",
    "    return ''.join(letters)\n",
    "\n",
    "\n",
    "assert path(example) == 'ABCDEF'"
   ]
  },
  {
   "cell_type": "markdown",
   "metadata": {},
   "source": [
    "The little packet looks up at you, hoping you can help it find the way. What letters will it see (in the order it would see them) if it follows the path? (The routing diagram is very wide; make sure you view it without line wrapping.)"
   ]
  },
  {
   "cell_type": "code",
   "execution_count": 4,
   "metadata": {},
   "outputs": [
    {
     "data": {
      "text/plain": [
       "'DWNBGECOMY'"
      ]
     },
     "execution_count": 4,
     "metadata": {},
     "output_type": "execute_result"
    }
   ],
   "source": [
    "puzzle = open('19.input').read().splitlines()\n",
    "path(puzzle)"
   ]
  },
  {
   "cell_type": "markdown",
   "metadata": {},
   "source": [
    "# Part Two\n",
    "\n",
    "The packet is curious how many steps it needs to go.\n",
    "\n",
    "For example, using the same routing diagram from the example above...\n",
    "\n",
    "```\n",
    "     |          \n",
    "     |  +--+    \n",
    "     A  |  C    \n",
    " F---|--|-E---+ \n",
    "     |  |  |  D \n",
    "     +B-+  +--+ \n",
    "```\n",
    "...the packet would go:\n",
    "\n",
    "- 6 steps down (including the first line at the top of the diagram).\n",
    "- 3 steps right.\n",
    "- 4 steps up.\n",
    "- 3 steps right.\n",
    "- 4 steps down.\n",
    "- 3 steps right.\n",
    "- 2 steps up.\n",
    "- 13 steps left (including the F it stops on).\n",
    "\n",
    "This would result in a total of 38 steps."
   ]
  },
  {
   "cell_type": "code",
   "execution_count": 5,
   "metadata": {},
   "outputs": [],
   "source": [
    "assert sum(1 for _ in walk(example)) == 38"
   ]
  },
  {
   "cell_type": "markdown",
   "metadata": {},
   "source": [
    "How many steps does the packet need to go?"
   ]
  },
  {
   "cell_type": "code",
   "execution_count": 6,
   "metadata": {},
   "outputs": [
    {
     "data": {
      "text/plain": [
       "17228"
      ]
     },
     "execution_count": 6,
     "metadata": {},
     "output_type": "execute_result"
    }
   ],
   "source": [
    "sum(1 for _ in walk(puzzle))"
   ]
  }
 ],
 "metadata": {
  "kernelspec": {
   "display_name": "Python 3",
   "language": "python",
   "name": "python3"
  },
  "language_info": {
   "codemirror_mode": {
    "name": "ipython",
    "version": 3
   },
   "file_extension": ".py",
   "mimetype": "text/x-python",
   "name": "python",
   "nbconvert_exporter": "python",
   "pygments_lexer": "ipython3",
   "version": "3.6.4"
  }
 },
 "nbformat": 4,
 "nbformat_minor": 2
}
