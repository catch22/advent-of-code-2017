{
 "cells": [
  {
   "cell_type": "markdown",
   "metadata": {},
   "source": [
    "# Day 11: Hex Ed\n",
    "\n",
    "Crossing the bridge, you've barely reached the other side of the stream when a program comes up to you, clearly in distress. \"It's my child process,\" she says, \"he's gotten lost in an infinite grid!\"\n",
    "\n",
    "Fortunately for her, you have plenty of experience with infinite grids.\n",
    "\n",
    "Unfortunately for you, it's a hex grid.\n",
    "\n",
    "The hexagons (\"hexes\") in this grid are aligned such that adjacent hexes can be found to the north, northeast, southeast, south, southwest, and northwest:\n",
    "\n",
    "```\n",
    "  \\ n  /\n",
    "nw +--+ ne\n",
    "  /    \\\n",
    "-+      +-\n",
    "  \\    /\n",
    "sw +--+ se\n",
    "  / s  \\\n",
    "```\n",
    "\n",
    "You have the path the child process took. Starting where he started, you need to determine the fewest number of steps required to reach him. (A \"step\" means to move from the hex you are in to any adjacent hex.)"
   ]
  },
  {
   "cell_type": "code",
   "execution_count": 1,
   "metadata": {},
   "outputs": [],
   "source": [
    "import numpy as np\n",
    "\n",
    "\n",
    "def parse(s):\n",
    "    return s.strip().split(',')\n",
    "\n",
    "\n",
    "STEP = {\n",
    "    'n': (1, -1, 0),\n",
    "    'ne': (1, 0, -1),\n",
    "    'se': (0, 1, -1),\n",
    "    's': (-1, 1, 0),\n",
    "    'sw': (-1, 0, 1),\n",
    "    'nw': (0, -1, 1),\n",
    "}\n",
    "\n",
    "\n",
    "def trail(dirs):\n",
    "    pos = np.array([0, 0, 0], dtype=int)\n",
    "    yield pos\n",
    "    for d in dirs:\n",
    "        pos += STEP[d]\n",
    "        yield pos\n",
    "\n",
    "\n",
    "def manhattan(pos):\n",
    "    s = np.abs(pos).sum()\n",
    "    assert s % 2 == 0\n",
    "    return s // 2\n",
    "\n",
    "\n",
    "def last_manhattan(dirs):\n",
    "    for last in trail(dirs):\n",
    "        pass\n",
    "    return manhattan(last)"
   ]
  },
  {
   "cell_type": "markdown",
   "metadata": {},
   "source": [
    "For example:"
   ]
  },
  {
   "cell_type": "code",
   "execution_count": 2,
   "metadata": {},
   "outputs": [],
   "source": [
    "assert last_manhattan(parse('ne,ne,ne')) == 3\n",
    "\n",
    "# back where you started\n",
    "assert last_manhattan(parse('ne,ne,sw,sw')) == 0\n",
    "\n",
    "# se,se\n",
    "assert last_manhattan(parse('ne,ne,s,s')) == 2\n",
    "\n",
    "# s,s,sw\n",
    "assert last_manhattan(parse('se,sw,se,sw,sw')) == 3"
   ]
  },
  {
   "cell_type": "markdown",
   "metadata": {},
   "source": [
    "Real puzzle:"
   ]
  },
  {
   "cell_type": "code",
   "execution_count": 3,
   "metadata": {},
   "outputs": [
    {
     "data": {
      "text/plain": [
       "682"
      ]
     },
     "execution_count": 3,
     "metadata": {},
     "output_type": "execute_result"
    }
   ],
   "source": [
    "puzzle = parse(open('11.input').read())\n",
    "last_manhattan(puzzle)"
   ]
  },
  {
   "cell_type": "markdown",
   "metadata": {},
   "source": [
    "## Part Two\n",
    "\n",
    "How many steps away is the furthest he ever got from his starting position?"
   ]
  },
  {
   "cell_type": "code",
   "execution_count": 4,
   "metadata": {},
   "outputs": [
    {
     "data": {
      "text/plain": [
       "1406"
      ]
     },
     "execution_count": 4,
     "metadata": {},
     "output_type": "execute_result"
    }
   ],
   "source": [
    "def max_manhattan(dirs):\n",
    "    return max(manhattan(pos) for pos in trail(dirs))\n",
    "\n",
    "max_manhattan(puzzle)"
   ]
  }
 ],
 "metadata": {
  "kernelspec": {
   "display_name": "Python 3",
   "language": "python",
   "name": "python3"
  },
  "language_info": {
   "codemirror_mode": {
    "name": "ipython",
    "version": 3
   },
   "file_extension": ".py",
   "mimetype": "text/x-python",
   "name": "python",
   "nbconvert_exporter": "python",
   "pygments_lexer": "ipython3",
   "version": "3.6.4"
  }
 },
 "nbformat": 4,
 "nbformat_minor": 2
}
