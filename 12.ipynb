{
 "cells": [
  {
   "cell_type": "markdown",
   "metadata": {},
   "source": [
    "# Day 12: Digital Plumber\n",
    "\n",
    "Walking along the memory banks of the stream, you find a small village that is experiencing a little confusion:\n",
    "some programs can't communicate with each other.\n",
    "\n",
    "Programs in this village communicate using a fixed system of pipes.\n",
    "Messages are passed between programs using these pipes, but most programs aren't connected to each other directly.\n",
    "Instead, programs pass messages between each other until the message reaches the intended recipient.\n",
    "\n",
    "For some reason, though, some of these messages aren't ever reaching their intended recipient, and the programs suspect that some pipes are missing.\n",
    "They would like you to investigate.\n",
    "\n",
    "You walk through the village and record the ID of each program and the IDs with which it can communicate directly (your puzzle input).\n",
    "Each program has one or more programs with which it can communicate, and these pipes are bidirectional;\n",
    "if 8 says it can communicate with 11, then 11 will say it can communicate with 8.\n",
    "\n",
    "You need to figure out how many programs are in the group that contains program ID 0."
   ]
  },
  {
   "cell_type": "code",
   "execution_count": 1,
   "metadata": {},
   "outputs": [],
   "source": [
    "def parse(s):\n",
    "    pipes = {}\n",
    "    for line in s.strip().splitlines():\n",
    "        lhs, rhs = line.split(' <-> ')\n",
    "        i = int(lhs)\n",
    "        js = [int(j) for j in rhs.split(', ')]\n",
    "        pipes[i] = set(js)\n",
    "    return pipes\n",
    "\n",
    "\n",
    "def group(pipes, root):\n",
    "    g = set()\n",
    "\n",
    "    def collect(node):\n",
    "        g.add(node)\n",
    "        for j in pipes[node]:\n",
    "            if j not in g:\n",
    "                collect(j)\n",
    "\n",
    "    collect(root)\n",
    "    return g"
   ]
  },
  {
   "cell_type": "markdown",
   "metadata": {},
   "source": [
    "For example, suppose you go door-to-door like a travelling salesman and record the following list:"
   ]
  },
  {
   "cell_type": "code",
   "execution_count": 2,
   "metadata": {},
   "outputs": [],
   "source": [
    "example = parse(\"\"\"\n",
    "0 <-> 2\n",
    "1 <-> 1\n",
    "2 <-> 0, 3, 4\n",
    "3 <-> 2, 4\n",
    "4 <-> 2, 3, 6\n",
    "5 <-> 6\n",
    "6 <-> 4, 5\n",
    "\"\"\")\n",
    "assert example == {\n",
    "    0: {2},\n",
    "    1: {1},\n",
    "    2: {0, 3, 4},\n",
    "    3: {2, 4},\n",
    "    4: {2, 3, 6},\n",
    "    5: {6},\n",
    "    6: {4, 5},\n",
    "}"
   ]
  },
  {
   "cell_type": "markdown",
   "metadata": {},
   "source": [
    "In this example, the following programs are in the group that contains program ID 0:"
   ]
  },
  {
   "cell_type": "code",
   "execution_count": 3,
   "metadata": {},
   "outputs": [],
   "source": [
    "g = group(example, 0)\n",
    "\n",
    "# by definition\n",
    "assert 0 in g\n",
    "\n",
    "# directly connected to program 0\n",
    "assert 2 in g\n",
    "\n",
    "# via program 2\n",
    "assert 3 in g\n",
    "\n",
    "# via program 2\n",
    "assert 4 in g\n",
    "\n",
    "# via program 6, then 4, then 2\n",
    "assert 5 in g\n",
    "\n",
    "# via programs 4, then 2\n",
    "assert 6 in g\n",
    "\n",
    "# therefore, a total of 6 programs are in this group; all but program 1, which has a pipe that connects it to itself\n",
    "assert len(g) == 6"
   ]
  },
  {
   "cell_type": "markdown",
   "metadata": {},
   "source": [
    "How many programs are in the group that contains program ID 0?"
   ]
  },
  {
   "cell_type": "code",
   "execution_count": 5,
   "metadata": {},
   "outputs": [
    {
     "data": {
      "text/plain": [
       "152"
      ]
     },
     "execution_count": 5,
     "metadata": {},
     "output_type": "execute_result"
    }
   ],
   "source": [
    "puzzle = parse(open('12.input').read())\n",
    "len(group(puzzle, 0))"
   ]
  },
  {
   "cell_type": "markdown",
   "metadata": {},
   "source": [
    "# Part Two\n",
    "\n",
    "There are more programs than just the ones in the group containing program ID 0.\n",
    "The rest of them have no way of reaching that group, and still might have no way of reaching each other.\n",
    "\n",
    "A group is a collection of programs that can all communicate via pipes either directly or indirectly.\n",
    "The programs you identified just a moment ago are all part of the same group.\n",
    "Now, they would like you to determine the total number of groups."
   ]
  },
  {
   "cell_type": "code",
   "execution_count": 6,
   "metadata": {},
   "outputs": [],
   "source": [
    "def groups(pipes):\n",
    "    remaining = set(pipes.keys())\n",
    "    gs = []\n",
    "    while remaining:\n",
    "        # find next connected component\n",
    "        i = remaining.pop()\n",
    "        g = group(pipes, i)\n",
    "        gs.append(g)\n",
    "\n",
    "        remaining = remaining - g\n",
    "    return gs"
   ]
  },
  {
   "cell_type": "markdown",
   "metadata": {},
   "source": [
    "In the example above, there were 2 groups: one consisting of programs 0,2,3,4,5,6, and the other consisting solely of program 1."
   ]
  },
  {
   "cell_type": "code",
   "execution_count": 8,
   "metadata": {},
   "outputs": [],
   "source": [
    "gs = groups(example)\n",
    "assert len(gs) == 2"
   ]
  },
  {
   "cell_type": "markdown",
   "metadata": {},
   "source": [
    "How many groups are there in total?"
   ]
  },
  {
   "cell_type": "code",
   "execution_count": 9,
   "metadata": {},
   "outputs": [
    {
     "data": {
      "text/plain": [
       "186"
      ]
     },
     "execution_count": 9,
     "metadata": {},
     "output_type": "execute_result"
    }
   ],
   "source": [
    "len(groups(puzzle))"
   ]
  }
 ],
 "metadata": {
  "kernelspec": {
   "display_name": "Python 3",
   "language": "python",
   "name": "python3"
  },
  "language_info": {
   "codemirror_mode": {
    "name": "ipython",
    "version": 3
   },
   "file_extension": ".py",
   "mimetype": "text/x-python",
   "name": "python",
   "nbconvert_exporter": "python",
   "pygments_lexer": "ipython3",
   "version": "3.6.4"
  }
 },
 "nbformat": 4,
 "nbformat_minor": 2
}
