{
 "cells": [
  {
   "cell_type": "markdown",
   "metadata": {},
   "source": [
    "# Day 7: Recursive Circus\n",
    "\n",
    "Wandering further through the circuits of the computer, you come upon a tower of programs that have gotten themselves into a bit of trouble. A recursive algorithm has gotten out of hand, and now they're balanced precariously in a large tower.\n",
    "\n",
    "One program at the bottom supports the entire tower. It's holding a large disc, and on the disc are balanced several more sub-towers. At the bottom of these sub-towers, standing on the bottom disc, are other programs, each holding their own disc, and so on. At the very tops of these sub-sub-sub-...-towers, many programs stand simply keeping the disc below them balanced but with no disc of their own.\n",
    "\n",
    "You offer to help, but first you need to understand the structure of these towers. You ask each program to yell out their name, their weight, and (if they're holding a disc) the names of the programs immediately above them balancing on that disc. You write this information down (your puzzle input). Unfortunately, in their panic, they don't do this in an orderly fashion; by the time you're done, you're not sure which program gave which information."
   ]
  },
  {
   "cell_type": "code",
   "execution_count": 1,
   "metadata": {},
   "outputs": [],
   "source": [
    "def build_tower(s):\n",
    "    # parse tree\n",
    "    vertices = {}\n",
    "    for line in s.strip().splitlines():\n",
    "        lhs, _, rhs = line.partition(' -> ')\n",
    "\n",
    "        name, weight = lhs.split(' ')\n",
    "        weight = int(weight[1:-1])\n",
    "        vertices[name] = {\n",
    "            'weight': weight,\n",
    "            'subtowers': set(rhs.split(', ')) if rhs else set()\n",
    "        }\n",
    "\n",
    "    # determine parents\n",
    "    for parent_name, info in vertices.items():\n",
    "        for child_name in info['subtowers']:\n",
    "            vertices[child_name]['below'] = parent_name\n",
    "\n",
    "    return vertices\n",
    "\n",
    "\n",
    "def bottom(tower):\n",
    "    bots = [name for name, info in tower.items() if 'below' not in info]\n",
    "    assert len(bots) == 1\n",
    "    return bots[0]"
   ]
  },
  {
   "cell_type": "markdown",
   "metadata": {},
   "source": [
    "For example, if your list is the following:"
   ]
  },
  {
   "cell_type": "code",
   "execution_count": 4,
   "metadata": {},
   "outputs": [
    {
     "name": "stdout",
     "output_type": "stream",
     "text": [
      "\n",
      "pbga (66)\n",
      "xhth (57)\n",
      "ebii (61)\n",
      "havc (66)\n",
      "ktlj (57)\n",
      "fwft (72) -> ktlj, cntj, xhth\n",
      "qoyq (66)\n",
      "padx (45) -> pbga, havc, qoyq\n",
      "tknk (41) -> ugml, padx, fwft\n",
      "jptl (61)\n",
      "ugml (68) -> gyxo, ebii, jptl\n",
      "gyxo (61)\n",
      "cntj (57)\n",
      "\n"
     ]
    }
   ],
   "source": [
    "example = \"\"\"\n",
    "pbga (66)\n",
    "xhth (57)\n",
    "ebii (61)\n",
    "havc (66)\n",
    "ktlj (57)\n",
    "fwft (72) -> ktlj, cntj, xhth\n",
    "qoyq (66)\n",
    "padx (45) -> pbga, havc, qoyq\n",
    "tknk (41) -> ugml, padx, fwft\n",
    "jptl (61)\n",
    "ugml (68) -> gyxo, ebii, jptl\n",
    "gyxo (61)\n",
    "cntj (57)\n",
    "\"\"\"\n",
    "print(example)"
   ]
  },
  {
   "cell_type": "markdown",
   "metadata": {},
   "source": [
    "...then you would be able to recreate the structure of the towers that looks like this:\n",
    "```\n",
    "                gyxo\n",
    "              /     \n",
    "         ugml - ebii\n",
    "       /      \\     \n",
    "      |         jptl\n",
    "      |        \n",
    "      |         pbga\n",
    "     /        /\n",
    "tknk --- padx - havc\n",
    "     \\        \\\n",
    "      |         qoyq\n",
    "      |             \n",
    "      |         ktlj\n",
    "       \\      /     \n",
    "         fwft - cntj\n",
    "              \\     \n",
    "                xhth\n",
    "```"
   ]
  },
  {
   "cell_type": "code",
   "execution_count": 5,
   "metadata": {},
   "outputs": [],
   "source": [
    "tower = build_tower(example)\n",
    "\n",
    "# In this example, `tknk` is at the bottom of the tower (the bottom program), ...\n",
    "bot = bottom(tower)\n",
    "assert bot == 'tknk'\n",
    "\n",
    "#... and is holding up `ugml`, `padx`, and `fwft`\n",
    "assert tower[bot]['subtowers'] == {'ugml', 'padx', 'fwft'}\n",
    "\n",
    "# Those programs are, in turn, holding up other programs; in this example, none of those programs are holding up\n",
    "# any other programs, and are all the tops of their own towers.\n",
    "for second in 'ugml', 'padx', 'fwft':\n",
    "    for third in tower[second]['subtowers']:\n",
    "        assert not tower[third]['subtowers']"
   ]
  },
  {
   "cell_type": "markdown",
   "metadata": {},
   "source": [
    "(The actual tower balancing in front of you is much larger.)\n",
    "\n",
    "Before you're ready to help them, you need to make sure your information is correct. What is the name of the bottom program?"
   ]
  },
  {
   "cell_type": "code",
   "execution_count": 6,
   "metadata": {},
   "outputs": [
    {
     "data": {
      "text/plain": [
       "'vgzejbd'"
      ]
     },
     "execution_count": 6,
     "metadata": {},
     "output_type": "execute_result"
    }
   ],
   "source": [
    "puzzle = open('07.input').read()\n",
    "bottom(build_tower(puzzle))"
   ]
  },
  {
   "cell_type": "markdown",
   "metadata": {},
   "source": [
    "## Part Two\n",
    "\n",
    "The programs explain the situation: they can't get down. Rather, they could get down, if they weren't expending all of their energy trying to keep the tower balanced. Apparently, one program has the wrong weight, and until it's fixed, they're stuck here.\n",
    "\n",
    "For any program holding a disc, each program standing on that disc forms a sub-tower. Each of those sub-towers are supposed to be the same weight, or the disc itself isn't balanced. The weight of a tower is the sum of the weights of the programs in that tower."
   ]
  },
  {
   "cell_type": "code",
   "execution_count": 7,
   "metadata": {},
   "outputs": [],
   "source": [
    "from collections import defaultdict\n",
    "\n",
    "\n",
    "def balance_children(tower, node=None):\n",
    "    if node is None:\n",
    "        node = bottom(tower)\n",
    "\n",
    "    # balance children's children first (and collect their weight)\n",
    "    for child in tower[node]['subtowers']:\n",
    "        result = balance_children(tower, child)\n",
    "        if result is not None:\n",
    "            return result\n",
    "\n",
    "    # compute weights of each child\n",
    "    ws = defaultdict(list)\n",
    "    for child in tower[node]['subtowers']:\n",
    "        w = tower[child]['weight'] + tower[child]['total_weight_of_children']\n",
    "        ws[w].append(child)\n",
    "\n",
    "    # unbalanced? find the (unique) mistake\n",
    "    assert len(ws) <= 2\n",
    "    if len(ws) == 2:\n",
    "        a, b = ws.keys()\n",
    "        assert len(ws[a]) == 1 or len(ws[b]) == 1\n",
    "        correct_total, bad_total = (a, b) if len(ws[b]) == 1 else (b, a)\n",
    "        bad_node = ws[bad_total][0]\n",
    "        correct_weight = tower[bad_node]['weight'] + (\n",
    "            correct_total - bad_total)\n",
    "        return bad_node, correct_weight\n",
    "\n",
    "    # set total weight of this node\n",
    "    tower[node]['total_weight_of_children'] = sum(\n",
    "        tower[child]['weight'] + tower[child]['total_weight_of_children']\n",
    "        for child in tower[node]['subtowers'])"
   ]
  },
  {
   "cell_type": "markdown",
   "metadata": {},
   "source": [
    "In the example above, this means that for `ugml`'s disc to be balanced, `gyxo`, `ebii`, and `jptl` must all have the same weight, and they do: 61.\n",
    "\n",
    "However, for `tknk` to be balanced, each of the programs standing on its disc and all programs above it must each match. This means that the following sums must all be the same:\n",
    "\n",
    "- `ugml + (gyxo + ebii + jptl) = 68 + (61 + 61 + 61) = 251`\n",
    "- `padx + (pbga + havc + qoyq) = 45 + (66 + 66 + 66) = 243`\n",
    "- `fwft + (ktlj + cntj + xhth) = 72 + (57 + 57 + 57) = 243`\n",
    "\n",
    "As you can see, `tknk`'s disc is unbalanced: `ugml`'s stack is heavier than the other two. Even though the nodes above `ugml` are balanced, `ugml` itself is too heavy: it needs to be 8 units lighter for its stack to weigh 243 and keep the towers balanced. If this change were made, its weight would be 60."
   ]
  },
  {
   "cell_type": "code",
   "execution_count": 8,
   "metadata": {},
   "outputs": [],
   "source": [
    "bad_node, correct_weight = balance_children(build_tower(example))\n",
    "assert bad_node == 'ugml' and correct_weight == 60"
   ]
  },
  {
   "cell_type": "markdown",
   "metadata": {},
   "source": [
    "Given that exactly one program is the wrong weight, what would its weight need to be to balance the entire tower?"
   ]
  },
  {
   "cell_type": "code",
   "execution_count": 9,
   "metadata": {},
   "outputs": [
    {
     "data": {
      "text/plain": [
       "('kiatxq', 1226)"
      ]
     },
     "execution_count": 9,
     "metadata": {},
     "output_type": "execute_result"
    }
   ],
   "source": [
    "balance_children(build_tower(puzzle))"
   ]
  }
 ],
 "metadata": {
  "kernelspec": {
   "display_name": "Python 3",
   "language": "python",
   "name": "python3"
  },
  "language_info": {
   "codemirror_mode": {
    "name": "ipython",
    "version": 3
   },
   "file_extension": ".py",
   "mimetype": "text/x-python",
   "name": "python",
   "nbconvert_exporter": "python",
   "pygments_lexer": "ipython3",
   "version": "3.6.4"
  }
 },
 "nbformat": 4,
 "nbformat_minor": 2
}
