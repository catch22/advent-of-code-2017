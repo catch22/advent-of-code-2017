{
 "cells": [
  {
   "cell_type": "markdown",
   "metadata": {},
   "source": [
    "# Day 9: Stream Processing\n",
    "\n",
    "A large stream blocks your path. According to the locals, it's not safe to cross the stream at the moment because it's full of garbage. You look down at the stream; rather than water, you discover that it's a stream of characters.\n",
    "\n",
    "You sit for a while and record part of the stream (your puzzle input).\n",
    "The characters represent **groups** - sequences that begin with `{` and end with `}`.\n",
    "Within a group, there are zero or more other things, separated by commas: either another **group** or **garbage**.\n",
    "Since groups can contain other groups, a `}` only closes the most-recently-opened unclosed group - that is, they are nestable.\n",
    "Your puzzle input represents a single, large group which itself contains many smaller ones.\n",
    "\n",
    "Sometimes, instead of a group, you will find **garbage**.\n",
    "Garbage begins with `<` and ends with `>`. Between those angle brackets, almost any character can appear, *including* `{` and `}`. Within garbage, `<` has *no* special meaning.\n",
    "\n",
    "In a futile attempt to clean up the garbage, some program has canceled some of the characters within it using `!`: inside garbage, any character that comes (immediately) after `!` should be ignored, including `<`, `>`, and even another `!`.\n",
    "\n",
    "You don't see any characters that deviate from these rules.\n",
    "Outside garbage, you only find well-formed groups, and garbage always terminates according to the rules above."
   ]
  },
  {
   "cell_type": "code",
   "execution_count": 1,
   "metadata": {},
   "outputs": [],
   "source": [
    "B = '{'\n",
    "E = '}'\n",
    "\n",
    "\n",
    "def G(content):\n",
    "    return {'t': 'garbage', 'c': content}\n",
    "\n",
    "\n",
    "def parse_group(s):\n",
    "    # start of group\n",
    "    if not s or s[0] != '{':\n",
    "        raise Exception('Expect {, got %s.' % (s[0] if s else 'EOF'))\n",
    "    s = s[1:]\n",
    "    yield B, s\n",
    "\n",
    "    first = True\n",
    "\n",
    "    while True:\n",
    "        if not s:\n",
    "            raise Exception('Expect %s or }, got EOF.' %\n",
    "                            ('{ or <' if first else 'comma'))\n",
    "\n",
    "        # end of group?\n",
    "        if s[0] == '}':\n",
    "            break\n",
    "\n",
    "        # need comma unless first\n",
    "        if not first:\n",
    "            if s[0] != ',':\n",
    "                raise Exception('Expect comma, got %s.' % s[0])\n",
    "            s = s[1:]\n",
    "\n",
    "        # expect subgroup or garbage\n",
    "        if s[0] == '{':\n",
    "            for tok, s in parse_group(s):\n",
    "                yield tok, s\n",
    "        elif s[0] == '<':\n",
    "            for tok, s in parse_garbage(s):\n",
    "                yield tok, s\n",
    "        else:\n",
    "            raise Exception('Expect { or <, got %s.' % s[0])\n",
    "        first = False\n",
    "\n",
    "    # end of group\n",
    "    yield E, s[1:]\n",
    "\n",
    "\n",
    "def parse_garbage(s):\n",
    "    # start of garbage\n",
    "    content = ''\n",
    "    if not s or s[0] != '<':\n",
    "        raise Exception('Expect <, got %s.' % (s[0] if s else 'EOF'))\n",
    "    s = s[1:]\n",
    "\n",
    "    while True:\n",
    "        if not s:\n",
    "            raise Exception('Expect garbage character, got EOF.')\n",
    "\n",
    "        # end of garbage?\n",
    "        if s[0] == '>':\n",
    "            break\n",
    "\n",
    "        # skip?\n",
    "        if s[0] == '!':\n",
    "            s = s[2:]\n",
    "        else:\n",
    "            content += s[0]\n",
    "            s = s[1:]\n",
    "\n",
    "    # emit token\n",
    "    yield G(content), s[1:]\n",
    "\n",
    "\n",
    "def parse(s):\n",
    "    for tok, s in parse_group(s):\n",
    "        yield tok\n",
    "    if s:\n",
    "        raise Exception('Expect EOF, got %s.' % s)"
   ]
  },
  {
   "cell_type": "markdown",
   "metadata": {},
   "source": [
    "Here are some self-contained pieces of garbage:"
   ]
  },
  {
   "cell_type": "code",
   "execution_count": 2,
   "metadata": {},
   "outputs": [],
   "source": [
    "p = lambda s: list(parse_garbage(s))\n",
    "\n",
    "# empty garbage\n",
    "assert p('<>') == [(G(''), '')]\n",
    "\n",
    "# garbage containing random characters\n",
    "assert p('<random characters>') == [(G('random characters'), '')]\n",
    "\n",
    "# the extra < are ignored\n",
    "assert p('<<<<>') == [(G('<<<'), '')]\n",
    "\n",
    "# the first > is canceled\n",
    "assert p('<{!>}>') == [(G('{}'), '')]\n",
    "\n",
    "# the second ! is canceled, allowing the > to terminate the garbage\n",
    "assert p('<!!>') == [(G(''), '')]\n",
    "\n",
    "# the second ! and the first > are canceled\n",
    "assert p('<!!!>>') == [(G(''), '')]\n",
    "\n",
    "# ends at the first >\n",
    "assert p('<{o\"i!a,<{i<a>') == [(G('{o\"i,<{i<a'), '')]"
   ]
  },
  {
   "cell_type": "markdown",
   "metadata": {},
   "source": [
    "Here are some examples of whole streams and the number of groups they contain:"
   ]
  },
  {
   "cell_type": "code",
   "execution_count": 3,
   "metadata": {},
   "outputs": [],
   "source": [
    "p = lambda s: list(parse(s))\n",
    "c = lambda s: sum(tok == B for tok in parse(s))\n",
    "\n",
    "# 1 group\n",
    "assert p('{}') == [B, E]\n",
    "assert c('{}') == 1\n",
    "\n",
    "# 3 groups\n",
    "assert p('{{{}}}') == [B, B, B, E, E, E]\n",
    "assert c('{{{}}}') == 3\n",
    "\n",
    "# also 3 groups\n",
    "assert p('{{},{}}') == [B, B, E, B, E, E]\n",
    "assert c('{{},{}}') == 3\n",
    "\n",
    "# 6 groups\n",
    "assert p('{{{},{},{{}}}}') == [B, B, B, E, B, E, B, B, E, E, E, E]\n",
    "assert c('{{{},{},{{}}}}') == 6\n",
    "\n",
    "# 1 group (which itself contains garbage).\n",
    "assert p('{<{},{},{{}}>}') == [B, G('{},{},{{}}'), E]\n",
    "assert c('{<{},{},{{}}>}') == 1\n",
    "\n",
    "# 1 group\n",
    "assert p('{<a>,<a>,<a>,<a>}') == [B, G('a'), G('a'), G('a'), G('a'), E]\n",
    "assert c('{<a>,<a>,<a>,<a>}') == 1\n",
    "\n",
    "# 5 groups\n",
    "assert p('{{<a>},{<a>},{<a>},{<a>}}') == [\n",
    "    B, B, G('a'), E, B,\n",
    "    G('a'), E, B, G('a'), E, B,\n",
    "    G('a'), E, E\n",
    "]\n",
    "assert c('{{<a>},{<a>},{<a>},{<a>}}') == 5\n",
    "\n",
    "# 2 groups (since all but the last > are canceled)\n",
    "assert p('{{<!>},{<!>},{<!>},{<a>}}') == [B, B, G('},{<},{<},{<a'), E, E]\n",
    "assert c('{{<!>},{<!>},{<!>},{<a>}}') == 2"
   ]
  },
  {
   "cell_type": "markdown",
   "metadata": {},
   "source": [
    "Your goal is to find the total score for all groups in your input. Each group is assigned a score which is one more than the score of the group that immediately contains it. (The outermost group gets a score of 1.)"
   ]
  },
  {
   "cell_type": "code",
   "execution_count": 4,
   "metadata": {},
   "outputs": [],
   "source": [
    "def score(s):\n",
    "    level = 1\n",
    "    total = 0\n",
    "    for tok in parse(s):\n",
    "        if tok == B:\n",
    "            total += level\n",
    "            level += 1\n",
    "        elif tok == E:\n",
    "            level -= 1\n",
    "    return total\n",
    "\n",
    "\n",
    "# score of 1\n",
    "assert score('{}') == 1\n",
    "\n",
    "# score of 1 + 2 + 3 = 6\n",
    "assert score('{{{}}}') == 6\n",
    "\n",
    "# score of 1 + 2 + 2 = 5\n",
    "assert score('{{},{}}') == 5\n",
    "\n",
    "# score of 1 + 2 + 3 + 3 + 3 + 4 = 16\n",
    "assert score('{{{},{},{{}}}}') == 16\n",
    "\n",
    "# score of 1\n",
    "assert score('{<a>,<a>,<a>,<a>}') == 1\n",
    "\n",
    "# score of 1 + 2 + 2 + 2 + 2 = 9\n",
    "assert score('{{<ab>},{<ab>},{<ab>},{<ab>}}') == 9\n",
    "\n",
    "# score of 1 + 2 + 2 + 2 + 2 = 9\n",
    "assert score('{{<!!>},{<!!>},{<!!>},{<!!>}}') == 9\n",
    "\n",
    "# score of 1 + 2 = 3\n",
    "assert score('{{<a!>},{<a!>},{<a!>},{<ab>}}') == 3"
   ]
  },
  {
   "cell_type": "markdown",
   "metadata": {},
   "source": [
    "What is the total score for all groups in your input?"
   ]
  },
  {
   "cell_type": "code",
   "execution_count": 5,
   "metadata": {},
   "outputs": [
    {
     "data": {
      "text/plain": [
       "21037"
      ]
     },
     "execution_count": 5,
     "metadata": {},
     "output_type": "execute_result"
    }
   ],
   "source": [
    "puzzle = open('09.input').read().strip()\n",
    "score(puzzle)"
   ]
  },
  {
   "cell_type": "markdown",
   "metadata": {},
   "source": [
    "## Part Two\n",
    "\n",
    "Now, you're ready to remove the garbage.\n",
    "\n",
    "To prove you've removed it, you need to count all of the characters within the garbage.\n",
    "The leading and trailing `<` and `>` don't count, nor do any canceled characters or the `!` doing the canceling."
   ]
  },
  {
   "cell_type": "code",
   "execution_count": 6,
   "metadata": {},
   "outputs": [],
   "source": [
    "def count_garbage(s):\n",
    "    total = 0\n",
    "    for tok in parse(s):\n",
    "        if isinstance(tok, dict) and tok['t'] == 'garbage':\n",
    "            total += len(tok['c'])\n",
    "    return total\n",
    "\n",
    "\n",
    "c = lambda s: count_garbage('{' + s + '}')\n",
    "\n",
    "# 0 characters\n",
    "assert c('<>') == 0\n",
    "\n",
    "# 17 characters\n",
    "assert c('<random characters>') == 17\n",
    "\n",
    "# 3 characters.\n",
    "assert c('<<<<>') == 3\n",
    "\n",
    "# 2 characters.\n",
    "assert c('<{!>}>') == 2\n",
    "\n",
    "# 0 characters\n",
    "assert c('<!!>') == 0\n",
    "\n",
    "# 0 characters\n",
    "assert c('<!!!>>') == 0\n",
    "\n",
    "# 10 characters\n",
    "assert c('<{o\"i!a,<{i<a>') == 10"
   ]
  },
  {
   "cell_type": "markdown",
   "metadata": {},
   "source": [
    "How many non-canceled characters are within the garbage in your puzzle input?"
   ]
  },
  {
   "cell_type": "code",
   "execution_count": 7,
   "metadata": {},
   "outputs": [
    {
     "data": {
      "text/plain": [
       "9495"
      ]
     },
     "execution_count": 7,
     "metadata": {},
     "output_type": "execute_result"
    }
   ],
   "source": [
    "count_garbage(puzzle)"
   ]
  }
 ],
 "metadata": {
  "kernelspec": {
   "display_name": "Python 3",
   "language": "python",
   "name": "python3"
  },
  "language_info": {
   "codemirror_mode": {
    "name": "ipython",
    "version": 3
   },
   "file_extension": ".py",
   "mimetype": "text/x-python",
   "name": "python",
   "nbconvert_exporter": "python",
   "pygments_lexer": "ipython3",
   "version": "3.6.4"
  }
 },
 "nbformat": 4,
 "nbformat_minor": 2
}
