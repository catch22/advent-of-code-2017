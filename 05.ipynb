{
 "cells": [
  {
   "cell_type": "markdown",
   "metadata": {},
   "source": [
    "# Day 5: A Maze of Twisty Trampolines, All Alike\n",
    "\n",
    "An urgent interrupt arrives from the CPU: it's trapped in a maze of jump instructions, and it would like assistance from any programs with spare cycles to help find the exit.\n",
    "\n",
    "The message includes a list of the offsets for each jump. Jumps are relative: -1 moves to the previous instruction, and 2 skips the next one. Start at the first instruction in the list. The goal is to follow the jumps until one leads outside the list.\n",
    "\n",
    "In addition, these instructions are a little strange; after each jump, the offset of that instruction increases by 1. So, if you come across an offset of 3, you would move three instructions forward, but change it to a 4 for the next time it is encountered."
   ]
  },
  {
   "cell_type": "code",
   "execution_count": 1,
   "metadata": {},
   "outputs": [],
   "source": [
    "def step_inplace(jumps, ip):\n",
    "    assert ip is not None\n",
    "    new_ip = ip + jumps[ip]\n",
    "    jumps[ip] += 1\n",
    "    return new_ip if new_ip < len(jumps) else None\n",
    "\n",
    "\n",
    "def how_many_steps(jumps, ip=0):\n",
    "    jumps = list(jumps)\n",
    "    steps = 0\n",
    "    while ip is not None:\n",
    "        ip = step_inplace(jumps, ip)\n",
    "        steps += 1\n",
    "    return steps"
   ]
  },
  {
   "cell_type": "markdown",
   "metadata": {},
   "source": [
    "For example, consider the following list of jump offsets:"
   ]
  },
  {
   "cell_type": "code",
   "execution_count": 2,
   "metadata": {},
   "outputs": [
    {
     "data": {
      "text/plain": [
       "[0, 3, 0, 1, -3]"
      ]
     },
     "execution_count": 2,
     "metadata": {},
     "output_type": "execute_result"
    }
   ],
   "source": [
    "example = [0, 3, 0, 1, -3]"
   ]
  },
  {
   "cell_type": "markdown",
   "metadata": {},
   "source": [
    "Positive jumps (\"forward\") move downward; negative jumps move upward. For legibility in this example, these offset values will be written all on one line, with the current instruction marked in parentheses. The following steps would be taken before an exit is found:"
   ]
  },
  {
   "cell_type": "code",
   "execution_count": 3,
   "metadata": {},
   "outputs": [],
   "source": [
    "# before we have taken any steps\n",
    "jumps, ip = list(example), 0\n",
    "\n",
    "# jump with offset 0 (that is, don't jump at all). fortunately, the instruction is then incremented to 1.\n",
    "ip = step_inplace(jumps, ip)\n",
    "assert jumps == [1, 3, 0, 1, -3] and ip == 0\n",
    "\n",
    "# step forward because of the instruction we just modified. The first instruction is incremented again, now to 2.\n",
    "ip = step_inplace(jumps, ip)\n",
    "assert jumps == [2, 3, 0, 1, -3] and ip == 1\n",
    "\n",
    "# jump all the way to the end; leave a 4 behind\n",
    "ip = step_inplace(jumps, ip)\n",
    "assert jumps == [2, 4, 0, 1, -3] and ip == 4\n",
    "\n",
    "# go back to where we just were; increment -3 to -2\n",
    "ip = step_inplace(jumps, ip)\n",
    "assert jumps == [2, 4, 0, 1, -2] and ip == 1\n",
    "\n",
    "# jump 4 steps forward, escaping the maze\n",
    "ip = step_inplace(jumps, ip)\n",
    "assert jumps == [2, 5, 0, 1, -2] and ip is None"
   ]
  },
  {
   "cell_type": "markdown",
   "metadata": {},
   "source": [
    "In this example, the exit is reached in 5 steps."
   ]
  },
  {
   "cell_type": "code",
   "execution_count": 4,
   "metadata": {},
   "outputs": [],
   "source": [
    "assert how_many_steps(example) == 5"
   ]
  },
  {
   "cell_type": "markdown",
   "metadata": {},
   "source": [
    "How many steps does it take to reach the exit?"
   ]
  },
  {
   "cell_type": "code",
   "execution_count": 5,
   "metadata": {},
   "outputs": [
    {
     "data": {
      "text/plain": [
       "374269"
      ]
     },
     "execution_count": 5,
     "metadata": {},
     "output_type": "execute_result"
    }
   ],
   "source": [
    "puzzle = [int(line) for line in open('05.input').read().strip().splitlines()]\n",
    "how_many_steps(puzzle)"
   ]
  },
  {
   "cell_type": "markdown",
   "metadata": {},
   "source": [
    "## Part 2\n",
    "\n",
    "Now, the jumps are even stranger:\n",
    "**after each jump, if the offset was three or more, instead decrease it by 1**.\n",
    "Otherwise, increase it by 1 as before."
   ]
  },
  {
   "cell_type": "code",
   "execution_count": 6,
   "metadata": {},
   "outputs": [],
   "source": [
    "def step_inplace(jumps, ip):\n",
    "    assert ip is not None\n",
    "    offset = jumps[ip]\n",
    "    new_ip = ip + offset\n",
    "    jumps[ip] += -1 if offset >= 3 else 1\n",
    "    return new_ip if new_ip < len(jumps) else None"
   ]
  },
  {
   "cell_type": "markdown",
   "metadata": {},
   "source": [
    "Using this rule with the above example, the process now takes 10 steps, and the offset values after finding the exit are left as 2 3 2 3 -1."
   ]
  },
  {
   "cell_type": "code",
   "execution_count": 7,
   "metadata": {},
   "outputs": [],
   "source": [
    "assert how_many_steps(example) == 10"
   ]
  },
  {
   "cell_type": "markdown",
   "metadata": {},
   "source": [
    "How many steps does it now take to reach the exit?"
   ]
  },
  {
   "cell_type": "code",
   "execution_count": 8,
   "metadata": {},
   "outputs": [
    {
     "name": "stdout",
     "output_type": "stream",
     "text": [
      "CPU times: user 14.3 s, sys: 79.9 ms, total: 14.3 s\n",
      "Wall time: 14.6 s\n"
     ]
    },
    {
     "data": {
      "text/plain": [
       "27720699"
      ]
     },
     "execution_count": 8,
     "metadata": {},
     "output_type": "execute_result"
    }
   ],
   "source": [
    "%%time\n",
    "how_many_steps(puzzle)"
   ]
  },
  {
   "cell_type": "markdown",
   "metadata": {},
   "source": [
    "Just for fun, let's see how fast [numba](https://numba.pydata.org) is..."
   ]
  },
  {
   "cell_type": "code",
   "execution_count": 9,
   "metadata": {},
   "outputs": [
    {
     "data": {
      "text/plain": [
       "CPUDispatcher(<function how_many_steps at 0x10f0a06a8>)"
      ]
     },
     "execution_count": 9,
     "metadata": {},
     "output_type": "execute_result"
    }
   ],
   "source": [
    "from numba import jit\n",
    "step_inplace = jit(step_inplace)\n",
    "how_many_steps = jit(how_many_steps)"
   ]
  },
  {
   "cell_type": "code",
   "execution_count": 10,
   "metadata": {},
   "outputs": [
    {
     "name": "stdout",
     "output_type": "stream",
     "text": [
      "CPU times: user 430 ms, sys: 10.9 ms, total: 441 ms\n",
      "Wall time: 445 ms\n"
     ]
    },
    {
     "data": {
      "text/plain": [
       "27720699"
      ]
     },
     "execution_count": 10,
     "metadata": {},
     "output_type": "execute_result"
    }
   ],
   "source": [
    "%%time\n",
    "how_many_steps(puzzle)"
   ]
  }
 ],
 "metadata": {
  "kernelspec": {
   "display_name": "Python 3",
   "language": "python",
   "name": "python3"
  },
  "language_info": {
   "codemirror_mode": {
    "name": "ipython",
    "version": 3
   },
   "file_extension": ".py",
   "mimetype": "text/x-python",
   "name": "python",
   "nbconvert_exporter": "python",
   "pygments_lexer": "ipython3",
   "version": "3.6.4"
  }
 },
 "nbformat": 4,
 "nbformat_minor": 2
}
