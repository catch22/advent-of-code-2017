{
 "cells": [
  {
   "cell_type": "markdown",
   "metadata": {},
   "source": [
    "# Day 20: Particle Swarm\n",
    "\n",
    "Suddenly, the GPU contacts you, asking for help. Someone has asked it to simulate too many particles, and it won't be able to finish them all in time to render the next frame at this rate.\n",
    "\n",
    "It transmits to you a buffer (your puzzle input) listing each particle in order (starting with particle 0, then particle 1, particle 2, and so on). For each particle, it provides the X, Y, and Z coordinates for the particle's position (`p`), velocity (`v`), and acceleration (`a`), each in the format `<X,Y,Z>`.\n",
    "\n",
    "Each tick, all particles are updated simultaneously. A particle's properties are updated in the following order:\n",
    "\n",
    "- Increase the `X` velocity by the `X` acceleration.\n",
    "- Increase the `Y` velocity by the `Y` acceleration.\n",
    "- Increase the `Z` velocity by the `Z` acceleration.\n",
    "- Increase the `X` position by the `X` velocity.\n",
    "- Increase the `Y` position by the `Y` velocity.\n",
    "- Increase the `Z` position by the `Z` velocity.\n",
    "\n",
    "Because of seemingly tenuous rationale involving z-buffering, the GPU would like to know which particle will stay closest to position `<0,0,0>` in the long term. Measure this using the Manhattan distance, which in this situation is simply the sum of the absolute values of a particle's `X`, `Y`, and `Z` position."
   ]
  },
  {
   "cell_type": "code",
   "execution_count": 1,
   "metadata": {},
   "outputs": [],
   "source": [
    "import numpy as np, copy\n",
    "\n",
    "\n",
    "def parse_var(s):\n",
    "    name = s[0]\n",
    "    assert s[1:3] == '=<' and s[-1] == '>'\n",
    "    return name, np.array([int(x) for x in s[3:-1].split(',')], dtype=int)\n",
    "\n",
    "\n",
    "def parse(s):\n",
    "    lines = s.strip().splitlines()\n",
    "    particles = []\n",
    "    for line in lines:\n",
    "        particle = {}\n",
    "        for var in line.split(', '):\n",
    "            k, v = parse_var(var)\n",
    "            particle[k] = v\n",
    "        particles.append(particle)\n",
    "    return particles\n",
    "\n",
    "\n",
    "def step(particles):\n",
    "    particles = copy.deepcopy(particles)\n",
    "    for p in particles:\n",
    "        p['v'] += p['a']\n",
    "        p['p'] += p['v']\n",
    "    return particles"
   ]
  },
  {
   "cell_type": "markdown",
   "metadata": {},
   "source": [
    "For example, suppose you are only given two particles, both of which stay entirely on the X-axis (for simplicity). \n",
    "\n",
    "Drawing the current states of particles 0 and 1 (in that order) with an adjacent a number line and diagram of current X positions (marked in parenthesis), the following would take place:"
   ]
  },
  {
   "cell_type": "code",
   "execution_count": 2,
   "metadata": {},
   "outputs": [],
   "source": [
    "def same(ps, qs):\n",
    "    if len(ps) != len(qs):\n",
    "        return False\n",
    "    for p, q in zip(ps, qs):\n",
    "        p = {k: tuple(v) for k, v in p.items()}\n",
    "        q = {k: tuple(v) for k, v in q.items()}\n",
    "        if p != q:\n",
    "            return False\n",
    "    return True\n",
    "\n",
    "\n",
    "#    -4 -3 -2 -1  0  1  2  3  4\n",
    "#                         (0)(1)\n",
    "example = parse(\"\"\"\n",
    "p=< 3,0,0>, v=< 2,0,0>, a=<-1,0,0>\n",
    "p=< 4,0,0>, v=< 0,0,0>, a=<-2,0,0>\n",
    "\"\"\")\n",
    "\n",
    "#    -4 -3 -2 -1  0  1  2  3  4\n",
    "#                      (1)   (0)\n",
    "expected = parse(\"\"\"\n",
    "p=< 4,0,0>, v=< 1,0,0>, a=<-1,0,0>\n",
    "p=< 2,0,0>, v=<-2,0,0>, a=<-2,0,0>\n",
    "\"\"\")\n",
    "particles = step(example)\n",
    "assert same(particles, expected)\n",
    "\n",
    "#    -4 -3 -2 -1  0  1  2  3  4\n",
    "#          (1)               (0)\n",
    "expected = parse(\"\"\"\n",
    "p=< 4,0,0>, v=< 0,0,0>, a=<-1,0,0>\n",
    "p=<-2,0,0>, v=<-4,0,0>, a=<-2,0,0>\n",
    "\"\"\")\n",
    "particles = step(particles)\n",
    "assert same(particles, expected)\n",
    "\n",
    "#    -4 -3 -2 -1  0  1  2  3  4\n",
    "#                         (0)\n",
    "expected = parse(\"\"\"\n",
    "p=< 3,0,0>, v=<-1,0,0>, a=<-1,0,0>\n",
    "p=<-8,0,0>, v=<-6,0,0>, a=<-2,0,0>\n",
    "\"\"\")\n",
    "particles = step(particles)\n",
    "assert same(particles, expected)"
   ]
  },
  {
   "cell_type": "markdown",
   "metadata": {},
   "source": [
    "At this point, particle 1 will never be closer to `<0,0,0>` than particle 0, and so, in the long run, particle 0 will stay closest."
   ]
  },
  {
   "cell_type": "code",
   "execution_count": 3,
   "metadata": {},
   "outputs": [],
   "source": [
    "def manhattan(v):\n",
    "    return np.sum(np.abs(v))\n",
    "\n",
    "\n",
    "def closest_in_long_run(particles):\n",
    "    # find those with smallest acceleration\n",
    "    min_a = np.min([manhattan(p['a']) for p in particles])\n",
    "    argmin_a = [\n",
    "        i for i, p in enumerate(particles) if manhattan(p['a']) == min_a\n",
    "    ]\n",
    "\n",
    "    # among those, find those with smallest velocity\n",
    "    min_v = np.min([manhattan(particles[i]['v']) for i in argmin_a])\n",
    "    argmin_v = [i for i in argmin_a if manhattan(particles[i]['v']) == min_v]\n",
    "\n",
    "    # assume there is only a single such particle\n",
    "    assert len(argmin_v) == 1\n",
    "    return argmin_v[0]\n",
    "\n",
    "\n",
    "assert closest_in_long_run(example) == 0"
   ]
  },
  {
   "cell_type": "markdown",
   "metadata": {},
   "source": [
    "Which particle will stay closest to position `<0,0,0>` in the long term"
   ]
  },
  {
   "cell_type": "code",
   "execution_count": 4,
   "metadata": {},
   "outputs": [
    {
     "data": {
      "text/plain": [
       "243"
      ]
     },
     "execution_count": 4,
     "metadata": {},
     "output_type": "execute_result"
    }
   ],
   "source": [
    "puzzle = parse(open('20.input').read())\n",
    "\n",
    "closest_in_long_run(puzzle)"
   ]
  },
  {
   "cell_type": "markdown",
   "metadata": {},
   "source": [
    "## Part Two\n",
    "\n",
    "To simplify the problem further, the GPU would like to remove any particles that collide. Particles collide if their positions ever exactly match. Because particles are updated simultaneously, more than two particles can collide at the same time and place. Once particles collide, they are removed and cannot collide with anything else after that tick."
   ]
  },
  {
   "cell_type": "code",
   "execution_count": 5,
   "metadata": {},
   "outputs": [],
   "source": [
    "from functools import reduce\n",
    "from collections import defaultdict\n",
    "\n",
    "ANY = 'ANY'\n",
    "\n",
    "\n",
    "def solve(a, b, c):\n",
    "    \"\"\"\n",
    "    return solutions to quadratic equation A*t^2 + B*t + C == 0.\n",
    "    returns ANY if any t is a solution (i.e., if A=B=C=0).\n",
    "    \"\"\"\n",
    "    # quadratic\n",
    "    if a:\n",
    "        if b**2 < 4 * a * c:\n",
    "            return set()\n",
    "        p, q = b / a, c / a\n",
    "        return {-p / 2 + np.sqrt(p**2 / 4 - q), -p / 2 - np.sqrt(p**2 / 4 - q)}\n",
    "\n",
    "    # linear\n",
    "    if b:\n",
    "        return {-c / b}\n",
    "\n",
    "    # constant\n",
    "    return set() if c else ANY\n",
    "\n",
    "\n",
    "def integers(ts):\n",
    "    \"\"\"return integer solutions in given set (or ANY when given ANY)\"\"\"\n",
    "    DIGITS = 8\n",
    "    if ts == ANY:\n",
    "        return ANY\n",
    "    ts = {round(t, DIGITS) for t in ts}\n",
    "    return {int(t) for t in ts if t == int(t)}\n",
    "\n",
    "\n",
    "def intersect(a, b):\n",
    "    return b if a == ANY else a if b == ANY else a & b\n",
    "\n",
    "\n",
    "def intersect_all(sets):\n",
    "    return reduce(intersect, sets)\n",
    "\n",
    "\n",
    "assert intersect_all([\n",
    "    integers(solve(1, 0, -4)),\n",
    "    integers(solve(0, 0, 0)),\n",
    "    integers(solve(0, 1, -2)),\n",
    "]) == {2}\n",
    "\n",
    "\n",
    "def collisions(particles):\n",
    "    \"\"\"return all potential collisions at integer times t >= 0, indexed by the collision time\"\"\"\n",
    "    result = defaultdict(set)\n",
    "    for i, p in enumerate(particles):\n",
    "        for j, q in enumerate(particles):\n",
    "            if i >= j: continue\n",
    "            # solve (a-a')*t**2 + ((a-a')+2*(v-v'))*t + 2*(p-p') == 0\n",
    "            a = p['a'] - q['a']\n",
    "            b = (p['a'] - q['a']) + 2 * (p['v'] - q['v'])\n",
    "            c = 2 * (p['p'] - q['p'])\n",
    "            ts = intersect_all([\n",
    "                integers(solve(a[0], b[0], c[0])),\n",
    "                integers(solve(a[1], b[1], c[1])),\n",
    "                integers(solve(a[2], b[2], c[2])),\n",
    "            ])\n",
    "\n",
    "            # add collision if it happens at nonnegative time\n",
    "            for t in ts:\n",
    "                if t >= 0:\n",
    "                    result[t].add(i)\n",
    "                    result[t].add(j)\n",
    "    return result"
   ]
  },
  {
   "cell_type": "markdown",
   "metadata": {},
   "source": [
    "For example:"
   ]
  },
  {
   "cell_type": "code",
   "execution_count": 6,
   "metadata": {},
   "outputs": [],
   "source": [
    "example = parse(\"\"\"\n",
    "p=<-6,0,0>, v=< 3,0,0>, a=< 0,0,0>\n",
    "p=<-4,0,0>, v=< 2,0,0>, a=< 0,0,0>\n",
    "p=<-2,0,0>, v=< 1,0,0>, a=< 0,0,0>\n",
    "p=< 3,0,0>, v=<-1,0,0>, a=< 0,0,0>\n",
    "\"\"\")\n",
    "\n",
    "assert collisions(example) == {2: {0, 1, 2}}"
   ]
  },
  {
   "cell_type": "markdown",
   "metadata": {},
   "source": [
    "Indeed:\n",
    "\n",
    "```\n",
    "p=<-6,0,0>, v=< 3,0,0>, a=< 0,0,0>    \n",
    "p=<-4,0,0>, v=< 2,0,0>, a=< 0,0,0>    -6 -5 -4 -3 -2 -1  0  1  2  3\n",
    "p=<-2,0,0>, v=< 1,0,0>, a=< 0,0,0>    (0)   (1)   (2)            (3)\n",
    "p=< 3,0,0>, v=<-1,0,0>, a=< 0,0,0>\n",
    "\n",
    "p=<-3,0,0>, v=< 3,0,0>, a=< 0,0,0>    \n",
    "p=<-2,0,0>, v=< 2,0,0>, a=< 0,0,0>    -6 -5 -4 -3 -2 -1  0  1  2  3\n",
    "p=<-1,0,0>, v=< 1,0,0>, a=< 0,0,0>             (0)(1)(2)      (3)   \n",
    "p=< 2,0,0>, v=<-1,0,0>, a=< 0,0,0>\n",
    "\n",
    "p=< 0,0,0>, v=< 3,0,0>, a=< 0,0,0>    \n",
    "p=< 0,0,0>, v=< 2,0,0>, a=< 0,0,0>    -6 -5 -4 -3 -2 -1  0  1  2  3\n",
    "p=< 0,0,0>, v=< 1,0,0>, a=< 0,0,0>                       X (3)      \n",
    "p=< 1,0,0>, v=<-1,0,0>, a=< 0,0,0>\n",
    "\n",
    "------destroyed by collision------    \n",
    "------destroyed by collision------    -6 -5 -4 -3 -2 -1  0  1  2  3\n",
    "------destroyed by collision------                      (3)         \n",
    "p=< 0,0,0>, v=<-1,0,0>, a=< 0,0,0>\n",
    "```\n",
    "\n",
    "In this example, particles 0, 1, and 2 are simultaneously destroyed at the time and place marked X. On the next tick, particle 3 passes through unharmed."
   ]
  },
  {
   "cell_type": "code",
   "execution_count": 7,
   "metadata": {},
   "outputs": [
    {
     "name": "stdout",
     "output_type": "stream",
     "text": [
      "t=2: {0, 1, 2} removed, 1 particles remaining\n"
     ]
    }
   ],
   "source": [
    "def resolve_collisions(particles):\n",
    "    cols = collisions(particles)\n",
    "    alive = set(range(len(particles)))\n",
    "    while cols:\n",
    "        # resolve earliest collision\n",
    "        t = min(cols)\n",
    "        alive -= cols[t]\n",
    "        print('t=%d: %r removed, %d particles remaining' % (t, cols[t],\n",
    "                                                            len(alive)))\n",
    "\n",
    "        # remove those particles from all later collisions\n",
    "        for t in list(cols.keys()):\n",
    "            rest = cols[t] & alive\n",
    "            if len(rest) > 1:\n",
    "                cols[t] = rest\n",
    "            else:\n",
    "                del cols[t]\n",
    "    return alive\n",
    "\n",
    "\n",
    "assert resolve_collisions(example) == {3}"
   ]
  },
  {
   "cell_type": "markdown",
   "metadata": {},
   "source": [
    "How many particles are left after all collisions are resolved?"
   ]
  },
  {
   "cell_type": "code",
   "execution_count": 8,
   "metadata": {},
   "outputs": [
    {
     "name": "stdout",
     "output_type": "stream",
     "text": [
      "t=10: {115, 116, 117, 118, 119, 120, 121} removed, 993 particles remaining\n",
      "t=12: {37, 38, 39, 40, 41, 42, 43, 44, 45, 46} removed, 983 particles remaining\n",
      "t=13: {87, 88, 89, 90, 91, 92} removed, 977 particles remaining\n",
      "t=14: {153, 311, 152, 93, 150, 151, 312, 313, 314, 315, 316, 317, 94} removed, 964 particles remaining\n",
      "t=15: {263, 264, 265, 266, 267, 268, 269, 270, 271, 272, 327, 329, 328, 331, 332, 333, 330} removed, 947 particles remaining\n",
      "t=16: {0, 1, 2, 3, 4, 14, 15, 16, 17, 18, 19, 20, 21, 22, 23} removed, 932 particles remaining\n",
      "t=17: {177, 178, 179, 180, 181, 182, 183, 184, 185, 186} removed, 922 particles remaining\n",
      "t=18: {5, 6, 7, 8, 9, 10, 11, 12, 13, 239, 240} removed, 911 particles remaining\n",
      "t=19: {251, 252} removed, 909 particles remaining\n",
      "t=20: {157, 158, 159, 32, 33, 34, 35, 36, 160, 161, 162, 163, 164, 165, 79, 80, 81, 82, 83, 84, 85, 86, 230, 231, 232, 233, 234, 235, 236, 237, 238} removed, 878 particles remaining\n",
      "t=21: {166, 167, 168, 169, 170, 171, 172, 173, 174, 175, 176, 53, 54, 55, 56, 57, 58, 59, 60, 105, 106, 107, 108, 109, 110, 111, 112} removed, 851 particles remaining\n",
      "t=22: {225, 226, 227, 228, 229, 241, 242, 243, 244, 245, 246} removed, 840 particles remaining\n",
      "t=23: {293, 294, 295, 296, 297, 298, 299, 300, 301, 24, 25, 26, 27, 28, 29, 30, 31} removed, 823 particles remaining\n",
      "t=24: {128, 129, 130, 289, 290, 291, 292, 197, 198, 199, 200, 201, 202, 203, 204, 122, 123, 124, 125, 126, 127} removed, 802 particles remaining\n",
      "t=25: {64, 65, 66, 67, 68, 61, 62, 63} removed, 794 particles remaining\n",
      "t=27: {205, 206, 207, 208, 209, 210, 211, 212, 336, 337, 338, 339, 340, 341, 342, 343} removed, 778 particles remaining\n",
      "t=28: {131, 132, 133, 134, 135, 136, 137, 138, 139} removed, 769 particles remaining\n",
      "t=29: {154, 155, 156} removed, 766 particles remaining\n",
      "t=30: {96, 97, 98, 99, 100, 101, 102, 103, 104, 95} removed, 756 particles remaining\n",
      "t=31: {273, 274, 275, 276, 277, 278, 279, 280, 281, 282} removed, 746 particles remaining\n",
      "t=32: {288, 259, 260, 261, 262, 302, 303, 304, 305, 306, 307, 308, 309, 310, 283, 284, 285, 286, 287} removed, 727 particles remaining\n",
      "t=33: {224, 140, 141, 142, 143, 144, 145, 213, 214, 215, 216, 217, 218, 219, 220, 221, 222, 223} removed, 709 particles remaining\n",
      "t=34: {113, 114, 247, 248, 249, 250} removed, 703 particles remaining\n",
      "t=35: {334, 335} removed, 701 particles remaining\n",
      "t=36: {256, 257, 258, 146, 147, 148, 149, 253, 254, 255} removed, 691 particles remaining\n",
      "t=38: {320, 321, 322, 323, 324, 325, 326, 318, 319, 344, 345, 346, 347, 348, 349, 350, 351} removed, 674 particles remaining\n",
      "t=39: {47, 48, 49, 50, 51, 52, 187, 188, 189, 190, 191, 192, 193, 194, 195, 196, 69, 70, 71, 72, 73, 74, 75, 76, 77, 78} removed, 648 particles remaining\n",
      "CPU times: user 30.7 s, sys: 161 ms, total: 30.9 s\n",
      "Wall time: 31.1 s\n"
     ]
    },
    {
     "data": {
      "text/plain": [
       "648"
      ]
     },
     "execution_count": 8,
     "metadata": {},
     "output_type": "execute_result"
    }
   ],
   "source": [
    "%%time\n",
    "len(resolve_collisions(puzzle))"
   ]
  }
 ],
 "metadata": {
  "kernelspec": {
   "display_name": "Python 3",
   "language": "python",
   "name": "python3"
  },
  "language_info": {
   "codemirror_mode": {
    "name": "ipython",
    "version": 3
   },
   "file_extension": ".py",
   "mimetype": "text/x-python",
   "name": "python",
   "nbconvert_exporter": "python",
   "pygments_lexer": "ipython3",
   "version": "3.6.4"
  }
 },
 "nbformat": 4,
 "nbformat_minor": 2
}
