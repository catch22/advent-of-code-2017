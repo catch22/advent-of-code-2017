{
 "cells": [
  {
   "cell_type": "markdown",
   "metadata": {},
   "source": [
    "# Day 18: Duet\n",
    "\n",
    "You discover a tablet containing some strange assembly code labeled simply \"Duet\". Rather than bother the sound card with it, you decide to run the code yourself. Unfortunately, you don't see any documentation, so you're left to figure out what the instructions mean on your own.\n",
    "\n",
    "It seems like the assembly is meant to operate on a set of registers that are each named with a single letter and that can each hold a single integer. You suppose each register should start with a value of 0.\n",
    "\n",
    "There aren't that many instructions, so it shouldn't be hard to figure out what they do. Here's what you determine:\n",
    "\n",
    "- `snd X` plays a sound with a frequency equal to the value of `X`.\n",
    "- `set X Y` sets register `X` to the value of `Y`.\n",
    "- `add X Y` increases register `X` by the value of `Y`.\n",
    "- `mul X Y` sets register `X` to the result of multiplying the value contained in register `X` by the value of `Y`.\n",
    "- `mod X Y` sets register `X` to the remainder of dividing the value contained in register `X` by the value of `Y` (that is, it sets `X` to the result of `X` modulo `Y`).\n",
    "- `rcv X` recovers the frequency of the last sound played, but only when the value of `X` is not zero. (If it is zero, the command does nothing.)\n",
    "- `jgz X Y` jumps with an offset of the value of `Y`, but only if the value of `X` is greater than zero. (An offset of `2` skips the next instruction, an offset of `-1` jumps to the previous instruction, and so on.)\n",
    "\n",
    "Many of the instructions can take either a *register* (a single letter) or a *number*.\n",
    "The value of a register is the integer it contains; the value of a number is that number.\n",
    "\n",
    "After each jump instruction, the program continues with the instruction to which the jump jumped. After any other instruction, the program continues with the next instruction. Continuing (or jumping) off either end of the program terminates it."
   ]
  },
  {
   "cell_type": "code",
   "execution_count": 1,
   "metadata": {},
   "outputs": [],
   "source": [
    "import string\n",
    "import collections\n",
    "\n",
    "\n",
    "def parse(s):\n",
    "    lines = s.strip().splitlines()\n",
    "    return [line.split() for line in lines]\n",
    "\n",
    "\n",
    "def run(code, default_regs=None):\n",
    "    LETTERS = string.ascii_letters\n",
    "    regs = collections.defaultdict(lambda: 0, default_regs\n",
    "                                   if default_regs is not None else {})\n",
    "\n",
    "    def set(x, y):\n",
    "        assert x in LETTERS\n",
    "        regs[x] = y\n",
    "\n",
    "    def get(x):\n",
    "        return regs[x] if x in LETTERS else int(x)\n",
    "\n",
    "    ip = 0\n",
    "    while 0 <= ip < len(code):\n",
    "        line = code[ip]\n",
    "        cmd, *args = line\n",
    "        if cmd == 'set':\n",
    "            assert len(args) == 2\n",
    "            set(args[0], get(args[1]))\n",
    "        elif cmd == 'add':\n",
    "            assert len(args) == 2\n",
    "            set(args[0], get(args[0]) + get(args[1]))\n",
    "        elif cmd == 'mul':\n",
    "            assert len(args) == 2\n",
    "            set(args[0], get(args[0]) * get(args[1]))\n",
    "        elif cmd == 'mod':\n",
    "            assert len(args) == 2\n",
    "            set(args[0], get(args[0]) % get(args[1]))\n",
    "        elif cmd == 'snd':\n",
    "            assert len(args) == 1\n",
    "            yield 'snd', get(args[0])\n",
    "        elif cmd == 'rcv':\n",
    "            assert len(args) == 1 and args[0] in LETTERS\n",
    "            x = yield 'rcv', get(args[0])\n",
    "            set(args[0], x)\n",
    "            yield\n",
    "        elif cmd == 'jgz':\n",
    "            assert len(args) == 2\n",
    "            if get(args[0]) > 0:\n",
    "                ip += get(args[1])\n",
    "                continue\n",
    "        else:\n",
    "            raise Exception('Unexpected command %r' % cmd)\n",
    "        ip += 1"
   ]
  },
  {
   "cell_type": "markdown",
   "metadata": {},
   "source": [
    "For example:"
   ]
  },
  {
   "cell_type": "code",
   "execution_count": 2,
   "metadata": {},
   "outputs": [
    {
     "data": {
      "text/plain": [
       "[['set', 'a', '1'],\n",
       " ['add', 'a', '2'],\n",
       " ['mul', 'a', 'a'],\n",
       " ['mod', 'a', '5'],\n",
       " ['snd', 'a'],\n",
       " ['set', 'a', '0'],\n",
       " ['rcv', 'a'],\n",
       " ['jgz', 'a', '-1'],\n",
       " ['set', 'a', '1'],\n",
       " ['jgz', 'a', '-2']]"
      ]
     },
     "execution_count": 2,
     "metadata": {},
     "output_type": "execute_result"
    }
   ],
   "source": [
    "example = parse(\"\"\"\n",
    "set a 1\n",
    "add a 2\n",
    "mul a a\n",
    "mod a 5\n",
    "snd a\n",
    "set a 0\n",
    "rcv a\n",
    "jgz a -1\n",
    "set a 1\n",
    "jgz a -2\n",
    "\"\"\")"
   ]
  },
  {
   "cell_type": "markdown",
   "metadata": {},
   "source": [
    "- The first four instructions set a to 1, add 2 to it, square it, and then set it to itself modulo 5, resulting in a value of 4.\n",
    "- Then, a sound with frequency 4 (the value of `a`) is played.\n",
    "- After that, `a` is set to `0`, causing the subsequent `rcv` and `jgz` instructions to both be skipped (`rcv` because `a` is 0, and `jgz` because `a` is not greater than 0).\n",
    "- Finally, `a` is set to 1, causing the next `jgz` instruction to activate, jumping back two instructions to another jump, which jumps again to the `rcv`, which ultimately triggers the recover operation.\n",
    "\n",
    "At the time the recover operation is executed, the frequency of the last sound played is 4."
   ]
  },
  {
   "cell_type": "code",
   "execution_count": 3,
   "metadata": {},
   "outputs": [],
   "source": [
    "def first_sound_received(code):\n",
    "    last = None\n",
    "    program = run(code)\n",
    "    for x, y in program:\n",
    "        if x == 'snd':\n",
    "            last = y\n",
    "        elif x == 'rcv':\n",
    "            program.send(y)\n",
    "            if y:\n",
    "                return last\n",
    "        else:\n",
    "            raise Exception('Unexpected message %r' % (x, y))\n",
    "\n",
    "\n",
    "assert first_sound_received(example) == 4"
   ]
  },
  {
   "cell_type": "markdown",
   "metadata": {},
   "source": [
    "What is the value of the recovered frequency (the value of the most recently played sound) the first time a `rcv` instruction is executed with a non-zero value?"
   ]
  },
  {
   "cell_type": "code",
   "execution_count": 4,
   "metadata": {},
   "outputs": [
    {
     "data": {
      "text/plain": [
       "3188"
      ]
     },
     "execution_count": 4,
     "metadata": {},
     "output_type": "execute_result"
    }
   ],
   "source": [
    "puzzle = parse(open('18.input').read())\n",
    "first_sound_received(puzzle)"
   ]
  },
  {
   "cell_type": "markdown",
   "metadata": {},
   "source": [
    "## Part Two\n",
    "\n",
    "As you congratulate yourself for a job well done, you notice that the documentation has been on the back of the tablet this entire time. While you actually got most of the instructions correct, there are a few key differences. This assembly code isn't about sound at all - it's meant to be run twice at the same time.\n",
    "\n",
    "Each running copy of the program has its own set of registers and follows the code independently - in fact, the programs don't even necessarily run at the same speed. To coordinate, they use the send (`snd`) and receive (`rcv`) instructions:\n",
    "\n",
    "- `snd X` sends the value of `X` to the other program. These values wait in a queue until that program is ready to receive them. Each program has its own message queue, so a program can never receive a message it sent.\n",
    "- `rcv X` receives the next value and stores it in register `X`. If no values are in the queue, the program waits for a value to be sent to it. Programs do not continue to the next instruction until they have received a value. Values are received in the order they are sent.\n",
    "\n",
    "Each program also has its own program ID (one 0 and the other 1); the register `p` should begin with this value.\n",
    "\n",
    "For example:"
   ]
  },
  {
   "cell_type": "code",
   "execution_count": 5,
   "metadata": {},
   "outputs": [
    {
     "data": {
      "text/plain": [
       "[['snd', '1'],\n",
       " ['snd', '2'],\n",
       " ['snd', 'p'],\n",
       " ['rcv', 'a'],\n",
       " ['rcv', 'b'],\n",
       " ['rcv', 'c'],\n",
       " ['rcv', 'd']]"
      ]
     },
     "execution_count": 5,
     "metadata": {},
     "output_type": "execute_result"
    }
   ],
   "source": [
    "example = parse(\"\"\"\n",
    "snd 1\n",
    "snd 2\n",
    "snd p\n",
    "rcv a\n",
    "rcv b\n",
    "rcv c\n",
    "rcv d\n",
    "\"\"\")"
   ]
  },
  {
   "cell_type": "markdown",
   "metadata": {},
   "source": [
    "Both programs begin by sending three values to the other. Program 0 sends 1, 2, 0; program 1 sends 1, 2, 1. Then, each program receives a value (both 1) and stores it in `a`, receives another value (both 2) and stores it in `b`, and then each receives the program ID of the other program (program 0 receives 1; program 1 receives 0) and stores it in `c`. Each program now sees a different value in its own copy of register `c`.\n",
    "\n",
    "Finally, both programs try to `rcv` a fourth time, but no data is waiting for either of them, and they reach a deadlock. When this happens, both programs terminate."
   ]
  },
  {
   "cell_type": "code",
   "execution_count": 6,
   "metadata": {},
   "outputs": [
    {
     "data": {
      "text/plain": [
       "('deadlock', {0: 3, 1: 3})"
      ]
     },
     "execution_count": 6,
     "metadata": {},
     "output_type": "execute_result"
    }
   ],
   "source": [
    "def run_in_parallel(code):\n",
    "    programs = {p: run(code, {'p': p}) for p in [0, 1]}\n",
    "    stdin = {p: [] for p in programs}\n",
    "    sent_stats = {p: 0 for p in programs}\n",
    "    alive = set(programs.keys())  # programs that are not waiting for input\n",
    "    done = set()  # programs that have terminated\n",
    "    while alive - done:\n",
    "        # step first program that is alive and has not terminated\n",
    "        p = list(alive - done)[0]\n",
    "        try:\n",
    "            x, y = next(programs[p])\n",
    "        except StopIteration:\n",
    "            done.add(p)\n",
    "\n",
    "        q = 1 - p  # the other program\n",
    "        if x == 'snd':\n",
    "            sent_stats[p] += 1\n",
    "            if q in alive:\n",
    "                stdin[q].append(y)\n",
    "            else:\n",
    "                programs[q].send(y)\n",
    "                alive.add(q)\n",
    "        elif x == 'rcv':\n",
    "            if stdin[p]:\n",
    "                y = stdin[p].pop(0)\n",
    "                programs[p].send(y)\n",
    "            else:\n",
    "                alive.remove(p)\n",
    "        else:\n",
    "            raise Exception('Unexpected message %r' % (x, y))\n",
    "    return 'deadlock' if len(done) < 2 else 'done', sent_stats\n",
    "\n",
    "run_in_parallel(example)"
   ]
  },
  {
   "cell_type": "markdown",
   "metadata": {},
   "source": [
    "It should be noted that it would be equally valid for the programs to run at different speeds; for example, program 0 might have sent all three values and then stopped at the first `rcv` before program 1 executed even its first instruction.\n",
    "\n",
    "Once both of your programs have terminated (regardless of what caused them to do so), how many times did program 1 send a value?"
   ]
  },
  {
   "cell_type": "code",
   "execution_count": 7,
   "metadata": {},
   "outputs": [
    {
     "data": {
      "text/plain": [
       "('deadlock', {0: 7239, 1: 7112})"
      ]
     },
     "execution_count": 7,
     "metadata": {},
     "output_type": "execute_result"
    }
   ],
   "source": [
    "run_in_parallel(puzzle)"
   ]
  }
 ],
 "metadata": {
  "kernelspec": {
   "display_name": "Python 3",
   "language": "python",
   "name": "python3"
  },
  "language_info": {
   "codemirror_mode": {
    "name": "ipython",
    "version": 3
   },
   "file_extension": ".py",
   "mimetype": "text/x-python",
   "name": "python",
   "nbconvert_exporter": "python",
   "pygments_lexer": "ipython3",
   "version": "3.6.4"
  }
 },
 "nbformat": 4,
 "nbformat_minor": 2
}
