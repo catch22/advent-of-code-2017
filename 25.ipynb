{
 "cells": [
  {
   "cell_type": "markdown",
   "metadata": {},
   "source": [
    "# Day 25: The Halting Problem\n",
    "\n",
    "Following the twisty passageways deeper and deeper into the CPU, you finally reach the core of the computer. Here, in the expansive central chamber, you find a grand apparatus that fills the entire room, suspended nanometers above your head.\n",
    "\n",
    "You had always imagined CPUs to be noisy, chaotic places, bustling with activity. Instead, the room is quiet, motionless, and dark.\n",
    "\n",
    "Suddenly, you and the CPU's garbage collector startle each other. \"It's not often we get many visitors here!\", he says. You inquire about the stopped machinery.\n",
    "\n",
    "\"It stopped milliseconds ago; not sure why. I'm a garbage collector, not a doctor.\" You ask what the machine is for.\n",
    "\n",
    "\"Programs these days, don't know their origins. That's the Turing machine! It's what makes the whole computer work.\" You try to explain that Turing machines are merely models of computation, but he cuts you off. \"No, see, that's just what they want you to think. Ultimately, inside every CPU, there's a Turing machine driving the whole thing! Too bad this one's broken. We're doomed!\"\n",
    "\n",
    "You ask how you can help. \"Well, unfortunately, the only way to get the computer running again would be to create a whole new Turing machine from scratch, but there's no way you can-\" He notices the look on your face, gives you a curious glance, shrugs, and goes back to sweeping the floor.\n",
    "\n",
    "You find the Turing machine blueprints (your puzzle input) on a tablet in a nearby pile of debris. Looking back up at the broken Turing machine above, you can start to identify its parts:\n",
    "\n",
    "- A tape which contains 0 repeated infinitely to the left and right.\n",
    "- A cursor, which can move left or right along the tape and read or write values at its current position.\n",
    "- A set of states, each containing rules about what to do based on the current value under the cursor.\n",
    "\n",
    "Each slot on the tape has two possible values: 0 (the starting value for all slots) and 1. Based on whether the cursor is pointing at a 0 or a 1, the current state says what value to write at the current position of the cursor, whether to move the cursor left or right one slot, and which state to use next."
   ]
  },
  {
   "cell_type": "code",
   "execution_count": 1,
   "metadata": {},
   "outputs": [],
   "source": [
    "import io, re\n",
    "from collections import defaultdict\n",
    "\n",
    "\n",
    "def match(template, s):\n",
    "    m = re.match(template, s)\n",
    "    if m is None:\n",
    "        raise Exception('Expected %r, got %r.' % (template, s))\n",
    "    return m.group(1)\n",
    "\n",
    "\n",
    "def parse(f):\n",
    "    if isinstance(f, str):\n",
    "        f = io.StringIO(f.strip())\n",
    "\n",
    "    # read header\n",
    "    start_state = match(r'^Begin in state (\\w+).$', f.readline())\n",
    "    steps_until_checksum = int(\n",
    "        match(r'^Perform a diagnostic checksum after (\\d+) steps.$',\n",
    "              f.readline()))\n",
    "    assert not f.readline().strip()\n",
    "\n",
    "    # read rules\n",
    "    rules = defaultdict(dict)\n",
    "    while f:\n",
    "        state = match(r'^In state (\\w+):$', f.readline())\n",
    "        while True:\n",
    "            line = f.readline()\n",
    "            if not line.strip():\n",
    "                break\n",
    "            value = int(match(r'^  If the current value is (\\d+):$', line))\n",
    "            new_value = int(\n",
    "                match(r'^    - Write the value (\\d+).$', f.readline()))\n",
    "            move_to = match(r'^    - Move one slot to the (\\w+).$',\n",
    "                            f.readline())\n",
    "            new_state = match(r'^    - Continue with state (\\w+).$',\n",
    "                              f.readline())\n",
    "            rules[state][value] = {\n",
    "                'new_value': new_value,\n",
    "                'move_to': move_to,\n",
    "                'new_state': new_state\n",
    "            }\n",
    "        if line == '':\n",
    "            break\n",
    "\n",
    "    return {\n",
    "        'start_state': start_state,\n",
    "        'steps_until_checksum': steps_until_checksum,\n",
    "        'rules': rules\n",
    "    }\n",
    "\n",
    "\n",
    "def run(blueprint):\n",
    "    current_state = blueprint['start_state']\n",
    "    current_slot = 0\n",
    "    tape = defaultdict(int)\n",
    "    while True:\n",
    "        yield {'tape': tape, 'slot': current_slot, 'state': current_state}\n",
    "\n",
    "        # look up rule\n",
    "        current_value = tape[current_slot]\n",
    "        rule = blueprint['rules'][current_state][current_value]\n",
    "\n",
    "        # update tape, state, slot\n",
    "        tape[current_slot] = rule['new_value']\n",
    "        current_state = rule['new_state']\n",
    "        assert rule['move_to'] in ['left', 'right']\n",
    "        current_slot += 1 if rule['move_to'] == 'right' else -1"
   ]
  },
  {
   "cell_type": "markdown",
   "metadata": {},
   "source": [
    "For example, suppose you found the following blueprint:"
   ]
  },
  {
   "cell_type": "code",
   "execution_count": 2,
   "metadata": {},
   "outputs": [
    {
     "data": {
      "text/plain": [
       "{'rules': defaultdict(dict,\n",
       "             {'A': {0: {'move_to': 'right', 'new_state': 'B', 'new_value': 1},\n",
       "               1: {'move_to': 'left', 'new_state': 'B', 'new_value': 0}},\n",
       "              'B': {0: {'move_to': 'left', 'new_state': 'A', 'new_value': 1},\n",
       "               1: {'move_to': 'right', 'new_state': 'A', 'new_value': 1}}}),\n",
       " 'start_state': 'A',\n",
       " 'steps_until_checksum': 6}"
      ]
     },
     "execution_count": 2,
     "metadata": {},
     "output_type": "execute_result"
    }
   ],
   "source": [
    "example = parse(\"\"\"\n",
    "Begin in state A.\n",
    "Perform a diagnostic checksum after 6 steps.\n",
    "\n",
    "In state A:\n",
    "  If the current value is 0:\n",
    "    - Write the value 1.\n",
    "    - Move one slot to the right.\n",
    "    - Continue with state B.\n",
    "  If the current value is 1:\n",
    "    - Write the value 0.\n",
    "    - Move one slot to the left.\n",
    "    - Continue with state B.\n",
    "\n",
    "In state B:\n",
    "  If the current value is 0:\n",
    "    - Write the value 1.\n",
    "    - Move one slot to the left.\n",
    "    - Continue with state A.\n",
    "  If the current value is 1:\n",
    "    - Write the value 1.\n",
    "    - Move one slot to the right.\n",
    "    - Continue with state A.\n",
    "\"\"\")"
   ]
  },
  {
   "cell_type": "markdown",
   "metadata": {},
   "source": [
    "Running it until the number of steps required to take the listed diagnostic checksum would result in the following tape configurations (with the cursor marked in square brackets):"
   ]
  },
  {
   "cell_type": "code",
   "execution_count": 3,
   "metadata": {},
   "outputs": [],
   "source": [
    "tm = run(example)\n",
    "tape = lambda s: [s['tape'][i] for i in range(-3, 3)]\n",
    "\n",
    "# ... 0  0  0 [0] 0  0 ... (before any steps; about to run state A)\n",
    "s = next(tm)\n",
    "assert tape(s) == [0, 0, 0, 0, 0, 0] and s['slot'] == 0 and s['state'] == 'A'\n",
    "\n",
    "# ... 0  0  0  1 [0] 0 ... (after 1 step;     about to run state B)\n",
    "s = next(tm)\n",
    "assert tape(s) == [0, 0, 0, 1, 0, 0] and s['slot'] == 1 and s['state'] == 'B'\n",
    "\n",
    "# ... 0  0  0 [1] 1  0 ... (after 2 steps;    about to run state A)\n",
    "s = next(tm)\n",
    "assert tape(s) == [0, 0, 0, 1, 1, 0] and s['slot'] == 0 and s['state'] == 'A'\n",
    "\n",
    "# ... 0  0 [0] 0  1  0 ... (after 3 steps;    about to run state B)\n",
    "s = next(tm)\n",
    "assert tape(s) == [0, 0, 0, 0, 1, 0] and s['slot'] == -1 and s['state'] == 'B'\n",
    "\n",
    "# ... 0 [0] 1  0  1  0 ... (after 4 steps;    about to run state A)\n",
    "s = next(tm)\n",
    "assert tape(s) == [0, 0, 1, 0, 1, 0] and s['slot'] == -2 and s['state'] == 'A'\n",
    "\n",
    "# ... 0  1 [1] 0  1  0 ... (after 5 steps;    about to run state B)\n",
    "s = next(tm)\n",
    "assert tape(s) == [0, 1, 1, 0, 1, 0] and s['slot'] == -1 and s['state'] == 'B'\n",
    "\n",
    "# ... 0  1  1 [0] 1  0 ... (after 6 steps;    about to run state A)\n",
    "s = next(tm)\n",
    "assert tape(s) == [0, 1, 1, 0, 1, 0] and s['slot'] == 0 and s['state'] == 'A'"
   ]
  },
  {
   "cell_type": "markdown",
   "metadata": {},
   "source": [
    "The CPU can confirm that the Turing machine is working by taking a diagnostic checksum after a specific number of steps (given in the blueprint). Once the specified number of steps have been executed, the Turing machine should pause; once it does, count the number of times 1 appears on the tape. In the above example, the diagnostic checksum is 3."
   ]
  },
  {
   "cell_type": "code",
   "execution_count": 4,
   "metadata": {},
   "outputs": [],
   "source": [
    "def checksum(blueprint):\n",
    "    for i, s in enumerate(run(blueprint)):\n",
    "        if i == blueprint['steps_until_checksum']:\n",
    "            break\n",
    "    return sum(s['tape'].values())\n",
    "\n",
    "\n",
    "assert checksum(example) == 3"
   ]
  },
  {
   "cell_type": "markdown",
   "metadata": {},
   "source": [
    "Recreate the Turing machine and save the computer! What is the diagnostic checksum it produces once it's working again?"
   ]
  },
  {
   "cell_type": "code",
   "execution_count": 5,
   "metadata": {},
   "outputs": [
    {
     "name": "stdout",
     "output_type": "stream",
     "text": [
      "5744\n",
      "CPU times: user 8.12 s, sys: 61.6 ms, total: 8.19 s\n",
      "Wall time: 8.24 s\n"
     ]
    }
   ],
   "source": [
    "%%time\n",
    "puzzle = parse(open('25.input'))\n",
    "print(checksum(puzzle))"
   ]
  }
 ],
 "metadata": {
  "kernelspec": {
   "display_name": "Python 3",
   "language": "python",
   "name": "python3"
  },
  "language_info": {
   "codemirror_mode": {
    "name": "ipython",
    "version": 3
   },
   "file_extension": ".py",
   "mimetype": "text/x-python",
   "name": "python",
   "nbconvert_exporter": "python",
   "pygments_lexer": "ipython3",
   "version": "3.6.4"
  }
 },
 "nbformat": 4,
 "nbformat_minor": 2
}
