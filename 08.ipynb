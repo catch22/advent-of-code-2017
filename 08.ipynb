{
 "cells": [
  {
   "cell_type": "markdown",
   "metadata": {},
   "source": [
    "# Day 8: I Heard You Like Registers\n",
    "\n",
    "You receive a signal directly from the CPU. Because of your recent assistance with jump instructions, it would like you to compute the result of a series of unusual register instructions.\n",
    "\n",
    "Each instruction consists of several parts: the register to modify, whether to increase or decrease that register's value, the amount by which to increase or decrease it, and a condition. If the condition fails, skip the instruction without modifying the register. The registers all start at 0."
   ]
  },
  {
   "cell_type": "code",
   "execution_count": 1,
   "metadata": {},
   "outputs": [],
   "source": [
    "from collections import defaultdict\n",
    "import operator\n",
    "\n",
    "\n",
    "def parse(s):\n",
    "    insts = []\n",
    "    for line in s.strip().splitlines():\n",
    "        cmd, cond = [w.split() for w in line.strip().split(' if ')]\n",
    "        cmd = {'reg': cmd[0], 'op': cmd[1], 'val': int(cmd[2])}\n",
    "        cond = {'reg': cond[0], 'cmp': cond[1], 'val': int(cond[2])}\n",
    "        inst = {'cmd': cmd, 'cond': cond}\n",
    "        insts.append(inst)\n",
    "    return insts\n",
    "\n",
    "\n",
    "OP = {\n",
    "    'inc': lambda x, y: x + y,\n",
    "    'dec': lambda x, y: x - y,\n",
    "}\n",
    "\n",
    "CMP = {\n",
    "    '==': operator.eq,\n",
    "    '!=': operator.ne,\n",
    "    '>': operator.gt,\n",
    "    '<': operator.lt,\n",
    "    '>=': operator.ge,\n",
    "    '<=': operator.le\n",
    "}\n",
    "\n",
    "\n",
    "def run(insts):\n",
    "    regs = defaultdict(lambda: 0)\n",
    "    yield regs\n",
    "    \n",
    "    for inst in insts:\n",
    "        # skip if condition is not met\n",
    "        cond = inst['cond']\n",
    "        if not CMP[cond['cmp']](regs[cond['reg']], cond['val']):\n",
    "            continue\n",
    "\n",
    "        # execute operation\n",
    "        cmd = inst['cmd']\n",
    "        regs[cmd['reg']] = OP[cmd['op']](regs[cmd['reg']], cmd['val'])\n",
    "        yield regs\n",
    "\n",
    "def highest_value(insts):\n",
    "    for regs in run(insts):\n",
    "        pass\n",
    "    return max(regs.values())"
   ]
  },
  {
   "cell_type": "markdown",
   "metadata": {},
   "source": [
    "The instructions look like this:"
   ]
  },
  {
   "cell_type": "code",
   "execution_count": 2,
   "metadata": {},
   "outputs": [
    {
     "data": {
      "text/plain": [
       "[{'cmd': {'op': 'inc', 'reg': 'b', 'val': 5},\n",
       "  'cond': {'cmp': '>', 'reg': 'a', 'val': 1}},\n",
       " {'cmd': {'op': 'inc', 'reg': 'a', 'val': 1},\n",
       "  'cond': {'cmp': '<', 'reg': 'b', 'val': 5}},\n",
       " {'cmd': {'op': 'dec', 'reg': 'c', 'val': -10},\n",
       "  'cond': {'cmp': '>=', 'reg': 'a', 'val': 1}},\n",
       " {'cmd': {'op': 'inc', 'reg': 'c', 'val': -20},\n",
       "  'cond': {'cmp': '==', 'reg': 'c', 'val': 10}}]"
      ]
     },
     "execution_count": 2,
     "metadata": {},
     "output_type": "execute_result"
    }
   ],
   "source": [
    "example = parse(\"\"\"\n",
    "b inc 5 if a > 1\n",
    "a inc 1 if b < 5\n",
    "c dec -10 if a >= 1\n",
    "c inc -20 if c == 10\n",
    "\"\"\")"
   ]
  },
  {
   "cell_type": "markdown",
   "metadata": {},
   "source": [
    "These instructions would be processed as follows:\n",
    "\n",
    "- Because `a` starts at 0, it is not greater than 1, and so `b` is not modified.\n",
    "- `a` is increased by 1 (to 1) because `b` is less than 5 (it is 0).\n",
    "- `c` is decreased by -10 (to 10) because `a` is now greater than or equal to 1 (it is 1).\n",
    "- `c` is increased by -20 (to -10) because `c` is equal to 10.\n",
    "\n",
    "After this process, the largest value in any register is 1."
   ]
  },
  {
   "cell_type": "code",
   "execution_count": 3,
   "metadata": {},
   "outputs": [],
   "source": [
    "assert highest_value(example) == 1"
   ]
  },
  {
   "cell_type": "markdown",
   "metadata": {},
   "source": [
    "You might also encounter `<=` (less than or equal to) or `!=` (not equal to). However, the CPU doesn't have the bandwidth to tell you what all the registers are named, and leaves that to you to determine."
   ]
  },
  {
   "cell_type": "markdown",
   "metadata": {},
   "source": [
    "What is the largest value in any register after completing the instructions in your puzzle input?"
   ]
  },
  {
   "cell_type": "code",
   "execution_count": 4,
   "metadata": {},
   "outputs": [
    {
     "data": {
      "text/plain": [
       "5946"
      ]
     },
     "execution_count": 4,
     "metadata": {},
     "output_type": "execute_result"
    }
   ],
   "source": [
    "puzzle = parse(open('08.input').read())\n",
    "highest_value(puzzle)"
   ]
  },
  {
   "cell_type": "markdown",
   "metadata": {},
   "source": [
    "## Part Two\n",
    "\n",
    "To be safe, the CPU also needs to know the highest value held in any register during this process so that it can decide how much memory to allocate to these operations."
   ]
  },
  {
   "cell_type": "code",
   "execution_count": 5,
   "metadata": {},
   "outputs": [],
   "source": [
    "def highest_value(insts):\n",
    "    return max(max(regs.values()) if regs else 0 for regs in run(insts))"
   ]
  },
  {
   "cell_type": "markdown",
   "metadata": {},
   "source": [
    "For example, in the above instructions, the highest value ever held was 10 (in register `c` after the third instruction was evaluated)."
   ]
  },
  {
   "cell_type": "code",
   "execution_count": 6,
   "metadata": {},
   "outputs": [],
   "source": [
    "assert highest_value(example) == 10"
   ]
  },
  {
   "cell_type": "code",
   "execution_count": 7,
   "metadata": {},
   "outputs": [
    {
     "data": {
      "text/plain": [
       "6026"
      ]
     },
     "execution_count": 7,
     "metadata": {},
     "output_type": "execute_result"
    }
   ],
   "source": [
    "highest_value(puzzle)"
   ]
  }
 ],
 "metadata": {
  "kernelspec": {
   "display_name": "Python 3",
   "language": "python",
   "name": "python3"
  },
  "language_info": {
   "codemirror_mode": {
    "name": "ipython",
    "version": 3
   },
   "file_extension": ".py",
   "mimetype": "text/x-python",
   "name": "python",
   "nbconvert_exporter": "python",
   "pygments_lexer": "ipython3",
   "version": "3.6.4"
  }
 },
 "nbformat": 4,
 "nbformat_minor": 2
}
