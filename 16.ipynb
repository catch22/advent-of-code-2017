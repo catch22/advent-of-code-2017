{
 "cells": [
  {
   "cell_type": "markdown",
   "metadata": {},
   "source": [
    "# Day 16: Permutation Promenade\n",
    "\n",
    "You come upon a very unusual sight; a group of programs here appear to be dancing.\n",
    "\n",
    "There are sixteen programs in total, named `a` through `p`.\n",
    "They start by standing in a line: `a` stands in position 0, `b` stands in position 1, and so on until `p`, which stands in position 15.\n",
    "\n",
    "The programs' dance consists of a sequence of dance moves:\n",
    "- Spin, written `sX`, makes X programs move from the end to the front, but maintain their order otherwise. (For example, `s3` on `abcde` produces `cdeab`).\n",
    "- Exchange, written `xA/B`, makes the programs at positions `A` and `B` swap places.\n",
    "- Partner, written `pA/B`, makes the programs named `A` and `B` swap places."
   ]
  },
  {
   "cell_type": "code",
   "execution_count": 1,
   "metadata": {},
   "outputs": [],
   "source": [
    "def spin(s, X):\n",
    "    return s[-X:] + s[:-X]\n",
    "\n",
    "\n",
    "def exchange(s, A, B):\n",
    "    A, B = min(A, B), max(A, B)\n",
    "    return s[:A] + s[B] + s[A + 1:B] + s[A] + s[B + 1:]\n",
    "\n",
    "\n",
    "def partner(s, A, B):\n",
    "    return exchange(s, s.index(A), s.index(B))\n",
    "\n",
    "\n",
    "def step(s, cmd):\n",
    "    if cmd[0] == 's':\n",
    "        X = int(cmd[1:])\n",
    "        assert 's%d' % X == cmd\n",
    "        return spin(s, X)\n",
    "    elif cmd[0] == 'x':\n",
    "        A, B = map(int, cmd[1:].split('/'))\n",
    "        assert 'x%d/%d' % (A, B) == cmd\n",
    "        return exchange(s, A, B)\n",
    "    elif cmd[0] == 'p':\n",
    "        A, B = cmd[1:].split('/')\n",
    "        assert 'p%s/%s' % (A, B) == cmd\n",
    "        return partner(s, A, B)\n",
    "    else:\n",
    "        raise Exception('Unexpected command %r' % cmd)\n",
    "\n",
    "\n",
    "assert spin('abcde', 3) == step('abcde', 's3') == 'cdeab'\n",
    "assert exchange('abcde', 2, 4) == step('abcde', 'x2/4') == 'abedc'\n",
    "assert partner('abcde', 'e', 'c') == step('abcde', 'pe/c') == 'abedc'"
   ]
  },
  {
   "cell_type": "markdown",
   "metadata": {},
   "source": [
    "For example, with only five programs standing in a line (`abcde`), they could do the following dance:"
   ]
  },
  {
   "cell_type": "code",
   "execution_count": 2,
   "metadata": {},
   "outputs": [],
   "source": [
    "example = ['s1', 'x3/4', 'pe/b']\n",
    "s = 'abcde'\n",
    "\n",
    "# a spin of size 1\n",
    "s = step(s, example[0])\n",
    "assert s == 'eabcd'\n",
    "\n",
    "# swapping the last two programs\n",
    "s = step(s, example[1])\n",
    "assert s == 'eabdc'\n",
    "\n",
    "# pe/b, swapping programs e and b\n",
    "s = step(s, example[2])\n",
    "assert s == 'baedc'"
   ]
  },
  {
   "cell_type": "markdown",
   "metadata": {},
   "source": [
    "After finishing their dance, the programs end up in order `baedc`."
   ]
  },
  {
   "cell_type": "code",
   "execution_count": 3,
   "metadata": {},
   "outputs": [],
   "source": [
    "import string\n",
    "\n",
    "\n",
    "def run(n, cmds, s=None):\n",
    "    if s is None:\n",
    "        s = string.ascii_lowercase[:n]\n",
    "    for cmd in cmds:\n",
    "        s = step(s, cmd)\n",
    "    return s\n",
    "\n",
    "\n",
    "assert run(5, example) == 'baedc'"
   ]
  },
  {
   "cell_type": "markdown",
   "metadata": {},
   "source": [
    "You watch the dance for a while and record their dance moves (your puzzle input). In what order are the programs standing after their dance?"
   ]
  },
  {
   "cell_type": "code",
   "execution_count": 4,
   "metadata": {},
   "outputs": [
    {
     "data": {
      "text/plain": [
       "'jkmflcgpdbonihea'"
      ]
     },
     "execution_count": 4,
     "metadata": {},
     "output_type": "execute_result"
    }
   ],
   "source": [
    "puzzle = open('16.input').read().strip().split(',')\n",
    "run(16, puzzle)"
   ]
  },
  {
   "cell_type": "markdown",
   "metadata": {},
   "source": [
    "# Part Two\n",
    "\n",
    "Now that you're starting to get a feel for the dance moves, you turn your attention to the dance as a whole.\n",
    "\n",
    "Keeping the positions they ended up in from their previous dance, the programs perform it again and again: including the first dance, a total of one billion (`1000000000`) times.\n",
    "\n",
    "In the example above, their second dance would begin with the order `baedc`, and use the same dance moves:\n",
    "\n",
    "- `s1`, a spin of size 1: `cbaed`.\n",
    "- `x3/4`, swapping the last two programs: `cbade`.\n",
    "- `pe/b`, swapping programs e and b: `ceadb`."
   ]
  },
  {
   "cell_type": "code",
   "execution_count": 5,
   "metadata": {},
   "outputs": [],
   "source": [
    "def repeat(n, cmds, r):\n",
    "    s = None\n",
    "    for _ in range(r):\n",
    "        s = run(n, cmds, s)\n",
    "    return s\n",
    "\n",
    "\n",
    "assert repeat(5, example, 2) == 'ceadb'"
   ]
  },
  {
   "cell_type": "markdown",
   "metadata": {},
   "source": [
    "Find a cycle (where we return to the starting point):"
   ]
  },
  {
   "cell_type": "code",
   "execution_count": 6,
   "metadata": {},
   "outputs": [],
   "source": [
    "def find_cycle(n, cmds):\n",
    "    start = string.ascii_lowercase[:n]\n",
    "    s = str(start)\n",
    "    i = 0\n",
    "    while True:\n",
    "        s = run(n, cmds, s)\n",
    "        i += 1\n",
    "        if s == start:\n",
    "            return i\n",
    "\n",
    "\n",
    "assert find_cycle(5, example) == 4\n",
    "assert repeat(5, example, 4) == 'abcde'"
   ]
  },
  {
   "cell_type": "markdown",
   "metadata": {},
   "source": [
    "In what order are the programs standing after their billion dances?"
   ]
  },
  {
   "cell_type": "code",
   "execution_count": 7,
   "metadata": {},
   "outputs": [
    {
     "data": {
      "text/plain": [
       "'ajcdefghpkblmion'"
      ]
     },
     "execution_count": 7,
     "metadata": {},
     "output_type": "execute_result"
    }
   ],
   "source": [
    "repeat(16, puzzle, 1_000_000_000 % find_cycle(16, puzzle))"
   ]
  }
 ],
 "metadata": {
  "kernelspec": {
   "display_name": "Python 3",
   "language": "python",
   "name": "python3"
  },
  "language_info": {
   "codemirror_mode": {
    "name": "ipython",
    "version": 3
   },
   "file_extension": ".py",
   "mimetype": "text/x-python",
   "name": "python",
   "nbconvert_exporter": "python",
   "pygments_lexer": "ipython3",
   "version": "3.6.4"
  }
 },
 "nbformat": 4,
 "nbformat_minor": 2
}
