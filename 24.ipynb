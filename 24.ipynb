{
 "cells": [
  {
   "cell_type": "markdown",
   "metadata": {},
   "source": [
    "# Day 24: Electromagnetic Moat\n",
    "\n",
    "The CPU itself is a large, black building surrounded by a bottomless pit. Enormous metal tubes extend outward from the side of the building at regular intervals and descend down into the void. There's no way to cross, but you need to get inside.\n",
    "\n",
    "No way, of course, other than building a bridge out of the magnetic components strewn about nearby.\n",
    "\n",
    "Each component has two ports, one on each end. The ports come in all different types, and only matching types can be connected. You take an inventory of the components by their port types (your puzzle input). Each port is identified by the number of pins it uses; more pins mean a stronger connection for your bridge. A `3/7` component, for example, has a type-3 port on one side, and a type-7 port on the other.\n",
    "\n",
    "Your side of the pit is metallic; a perfect surface to connect a magnetic, zero-pin port. Because of this, the first port you use must be of type 0. It doesn't matter what type of port you end with; your goal is just to make the bridge as strong as possible.\n",
    "\n",
    "The strength of a bridge is the sum of the port types in each component. For example, if your bridge is made of components `0/3`, `3/7`, and `7/4`, your bridge has a strength of `0+3 + 3+7 + 7+4 = 24`."
   ]
  },
  {
   "cell_type": "code",
   "execution_count": 1,
   "metadata": {},
   "outputs": [],
   "source": [
    "def parse(s):\n",
    "    components = set()\n",
    "    for line in s.strip().splitlines():\n",
    "        a, b = line.split('/')\n",
    "        a, b = int(a), int(b)\n",
    "        components.add((a, b))\n",
    "    return components\n",
    "\n",
    "\n",
    "def bridges(components, start=0):\n",
    "    components = set(components)\n",
    "    result = []\n",
    "    for a, b in components:\n",
    "        if a != start and b != start: continue\n",
    "        rest = set(components)\n",
    "        rest.remove((a, b))\n",
    "\n",
    "        orig = a, b\n",
    "        if a != start:\n",
    "            a, b = b, a\n",
    "\n",
    "        result.append((orig, ))\n",
    "\n",
    "        for B in bridges(rest, b):\n",
    "            result.append((orig, ) + B)\n",
    "    return result"
   ]
  },
  {
   "cell_type": "markdown",
   "metadata": {},
   "source": [
    "For example, suppose you had the following components:"
   ]
  },
  {
   "cell_type": "code",
   "execution_count": 2,
   "metadata": {},
   "outputs": [
    {
     "data": {
      "text/plain": [
       "{(0, 1), (0, 2), (2, 2), (2, 3), (3, 4), (3, 5), (9, 10), (10, 1)}"
      ]
     },
     "execution_count": 2,
     "metadata": {},
     "output_type": "execute_result"
    }
   ],
   "source": [
    "example = parse(\"\"\"\n",
    "0/2\n",
    "2/2\n",
    "2/3\n",
    "3/4\n",
    "3/5\n",
    "0/1\n",
    "10/1\n",
    "9/10\n",
    "\"\"\")"
   ]
  },
  {
   "cell_type": "markdown",
   "metadata": {},
   "source": [
    "With them, you could make the following valid bridges:\n",
    "\n",
    "(Note how, as shown by `10/1`, order of ports within a component doesn't matter. However, you may only use each port on a component once.)"
   ]
  },
  {
   "cell_type": "code",
   "execution_count": 3,
   "metadata": {},
   "outputs": [
    {
     "name": "stdout",
     "output_type": "stream",
     "text": [
      "0/1\n",
      "0/1--10/1\n",
      "0/1--10/1--9/10\n",
      "0/2\n",
      "0/2--2/2\n",
      "0/2--2/2--2/3\n",
      "0/2--2/2--2/3--3/4\n",
      "0/2--2/2--2/3--3/5\n",
      "0/2--2/3\n",
      "0/2--2/3--3/4\n",
      "0/2--2/3--3/5\n"
     ]
    }
   ],
   "source": [
    "got = '\\n'.join(\n",
    "    sorted('--'.join('%d/%d' % c for c in b) for b in bridges(example)))\n",
    "print(got)\n",
    "\n",
    "expected = \"\"\"\n",
    "0/1\n",
    "0/1--10/1\n",
    "0/1--10/1--9/10\n",
    "0/2\n",
    "0/2--2/3\n",
    "0/2--2/3--3/4\n",
    "0/2--2/3--3/5\n",
    "0/2--2/2\n",
    "0/2--2/2--2/3\n",
    "0/2--2/2--2/3--3/4\n",
    "0/2--2/2--2/3--3/5\n",
    "\"\"\"\n",
    "expected = '\\n'.join(sorted(expected.strip().splitlines()))\n",
    "assert got == expected"
   ]
  },
  {
   "cell_type": "markdown",
   "metadata": {},
   "source": [
    "Of these bridges, the strongest one is `0/1--10/1--9/10`; it has a strength of `0+1 + 1+10 + 10+9 = 31`."
   ]
  },
  {
   "cell_type": "code",
   "execution_count": 4,
   "metadata": {},
   "outputs": [],
   "source": [
    "def strength(b):\n",
    "    return sum(sum(b, ()))\n",
    "\n",
    "\n",
    "assert max([strength(b) for b in bridges(example)]) == 31"
   ]
  },
  {
   "cell_type": "markdown",
   "metadata": {},
   "source": [
    "What is the strength of the strongest bridge you can make with the components you have available?"
   ]
  },
  {
   "cell_type": "code",
   "execution_count": 5,
   "metadata": {},
   "outputs": [
    {
     "name": "stdout",
     "output_type": "stream",
     "text": [
      "1940\n",
      "CPU times: user 14.6 s, sys: 436 ms, total: 15 s\n",
      "Wall time: 15.3 s\n"
     ]
    }
   ],
   "source": [
    "%%time\n",
    "puzzle = parse(open('24.input').read())\n",
    "print(max([strength(b) for b in bridges(puzzle)]))"
   ]
  },
  {
   "cell_type": "markdown",
   "metadata": {},
   "source": [
    "## Part Two\n",
    "\n",
    "The bridge you've built isn't long enough; you can't jump the rest of the way.\n",
    "\n",
    "In the example above, there are two longest bridges:\n",
    "\n",
    "```\n",
    "0/2--2/2--2/3--3/4\n",
    "0/2--2/2--2/3--3/5\n",
    "```\n",
    "\n",
    "Of them, the one which uses the `3/5` component is stronger; its strength is `0+2 + 2+2 + 2+3 + 3+5 = 19`."
   ]
  },
  {
   "cell_type": "code",
   "execution_count": 6,
   "metadata": {},
   "outputs": [],
   "source": [
    "s = max([(len(b), strength(b)) for b in bridges(example)])\n",
    "assert s[0] == 4 and s[1] == 19"
   ]
  },
  {
   "cell_type": "markdown",
   "metadata": {},
   "source": [
    "What is the strength of the longest bridge you can make? If you can make multiple bridges of the longest length, pick the strongest one."
   ]
  },
  {
   "cell_type": "code",
   "execution_count": 7,
   "metadata": {},
   "outputs": [
    {
     "name": "stdout",
     "output_type": "stream",
     "text": [
      "1928\n",
      "CPU times: user 13.9 s, sys: 351 ms, total: 14.2 s\n",
      "Wall time: 14.3 s\n"
     ]
    }
   ],
   "source": [
    "%%time\n",
    "s = max([(len(b), strength(b)) for b in bridges(puzzle)])\n",
    "print(s[1])"
   ]
  }
 ],
 "metadata": {
  "kernelspec": {
   "display_name": "Python 3",
   "language": "python",
   "name": "python3"
  },
  "language_info": {
   "codemirror_mode": {
    "name": "ipython",
    "version": 3
   },
   "file_extension": ".py",
   "mimetype": "text/x-python",
   "name": "python",
   "nbconvert_exporter": "python",
   "pygments_lexer": "ipython3",
   "version": "3.6.4"
  }
 },
 "nbformat": 4,
 "nbformat_minor": 2
}
