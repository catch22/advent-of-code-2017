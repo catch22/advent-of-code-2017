{
 "cells": [
  {
   "cell_type": "markdown",
   "metadata": {},
   "source": [
    "# Day 14: Disk Defragmentation\n",
    "\n",
    "Suddenly, a scheduled job activates the system's disk defragmenter. Were the situation different, you might sit and watch it for a while, but today, you just don't have that kind of time. It's soaking up valuable system resources that are needed elsewhere, and so the only option is to help it finish its task as soon as possible.\n",
    "\n",
    "The disk in question consists of a 128x128 grid; each square of the grid is either free or used.\n",
    "On this disk, the state of the grid is tracked by the bits in a sequence of knot hashes."
   ]
  },
  {
   "cell_type": "code",
   "execution_count": 1,
   "metadata": {},
   "outputs": [],
   "source": [
    "%run '10.ipynb'"
   ]
  },
  {
   "cell_type": "markdown",
   "metadata": {},
   "source": [
    "A total of 128 knot hashes are calculated, each corresponding to a single row in the grid; each hash contains 128 bits which correspond to individual grid squares. Each bit of a hash indicates whether that square is free (`0`) or used (`1`).\n",
    "\n",
    "The hash inputs are a key string (your puzzle input), a dash, and a number from 0 to 127 corresponding to the row. For example, if your key string were `flqrgnkx`, then the first row would be given by the bits of the knot hash of `flqrgnkx-0`, the second row from the bits of the knot hash of `flqrgnkx-1`, and so on until the last row, `flqrgnkx-127`.\n",
    "\n",
    "The output of a knot hash is traditionally represented by 32 hexadecimal digits; each of these digits correspond to 4 bits, for a total of 4 * 32 = 128 bits. To convert to bits, turn each hexadecimal digit to its equivalent binary value, high-bit first: `0` becomes `0000`, `1` becomes `0001`, `e` becomes `1110`, `f` becomes `1111`, and so on; a hash that begins with `a0c2017...` in hexadecimal would begin with `10100000110000100000000101110000...` in binary."
   ]
  },
  {
   "cell_type": "code",
   "execution_count": 2,
   "metadata": {},
   "outputs": [],
   "source": [
    "HEX_BITS = {\n",
    "    ord(format(i, 'x')): format(i, '04b').replace('0', '.').replace('1', '#')\n",
    "    for i in range(16)\n",
    "}\n",
    "\n",
    "\n",
    "def grid(key):\n",
    "    rows = []\n",
    "    for row in range(128):\n",
    "        s = elve_hash('%s-%d' % (key, row))\n",
    "        rows.append(''.join(HEX_BITS[x] for x in s))\n",
    "    return rows\n",
    "\n",
    "\n",
    "def count_squares(key):\n",
    "    return sum(row.count('#') for row in grid(key))"
   ]
  },
  {
   "cell_type": "markdown",
   "metadata": {},
   "source": [
    "Continuing this process, the first 8 rows and columns for key `flqrgnkx` appear as follows, using `#` to denote used squares, and `.` to denote free ones:"
   ]
  },
  {
   "cell_type": "code",
   "execution_count": 3,
   "metadata": {},
   "outputs": [],
   "source": [
    "example = 'flqrgnkx'\n",
    "g = [row[:8] for row in grid(example)[:8]]\n",
    "assert g == [\n",
    "    '##.#.#..',\n",
    "    '.#.#.#.#',\n",
    "    '....#.#.',\n",
    "    '#.#.##.#',\n",
    "    '.##.#...',\n",
    "    '##..#..#',\n",
    "    '.#...#..',\n",
    "    '##.#.##.',\n",
    "]"
   ]
  },
  {
   "cell_type": "markdown",
   "metadata": {},
   "source": [
    "In this example, 8108 squares are used across the entire 128x128 grid."
   ]
  },
  {
   "cell_type": "code",
   "execution_count": 4,
   "metadata": {},
   "outputs": [],
   "source": [
    "assert count_squares(example) == 8108"
   ]
  },
  {
   "cell_type": "markdown",
   "metadata": {},
   "source": [
    "Given your actual key string, how many squares are used?"
   ]
  },
  {
   "cell_type": "code",
   "execution_count": 5,
   "metadata": {},
   "outputs": [
    {
     "data": {
      "text/plain": [
       "8292"
      ]
     },
     "execution_count": 5,
     "metadata": {},
     "output_type": "execute_result"
    }
   ],
   "source": [
    "puzzle = 'ugkiagan'\n",
    "count_squares(puzzle)"
   ]
  },
  {
   "cell_type": "markdown",
   "metadata": {},
   "source": [
    "## Part Two\n",
    "\n",
    "Now, all the defragmenter needs to know is the number of regions. A region is a group of used squares that are all adjacent, not including diagonals. Every used square is in exactly one region: lone used squares form their own isolated regions, while several adjacent squares all count as a single region."
   ]
  },
  {
   "cell_type": "code",
   "execution_count": 6,
   "metadata": {},
   "outputs": [],
   "source": [
    "def neighbors(i, j):\n",
    "    yield i + 1, j\n",
    "    yield i - 1, j\n",
    "    yield i, j + 1\n",
    "    yield i, j - 1\n",
    "\n",
    "\n",
    "def count_regions(g):\n",
    "    # collect coordinates of all squares\n",
    "    squares = {(i, j)\n",
    "               for i, row in enumerate(g) for j, x in enumerate(row)\n",
    "               if x == '#'}\n",
    "    regions = 0\n",
    "    while squares:\n",
    "        # grow next region\n",
    "        todo = {squares.pop()}\n",
    "        while todo:\n",
    "            i, j = todo.pop()\n",
    "            for n in neighbors(i, j):\n",
    "                if n in squares:\n",
    "                    squares.remove(n)\n",
    "                    todo.add(n)\n",
    "        regions += 1\n",
    "    return regions"
   ]
  },
  {
   "cell_type": "markdown",
   "metadata": {},
   "source": [
    "\n",
    "In the example above, the following nine regions are visible, each marked with a distinct digit:\n",
    "\n",
    "```\n",
    "11.2.3..-->\n",
    ".1.2.3.4   \n",
    "....5.6.   \n",
    "7.8.55.9   \n",
    ".88.5...   \n",
    "88..5..8   \n",
    ".8...8..   \n",
    "88.8.88.-->\n",
    "|      |   \n",
    "V      V   \n",
    "```\n",
    "\n",
    "Of particular interest is the region marked `8`; while it does not appear contiguous in this small view, all of the squares marked `8` are connected when considering the whole 128x128 grid. In total, in this example, 1242 regions are present."
   ]
  },
  {
   "cell_type": "code",
   "execution_count": 7,
   "metadata": {},
   "outputs": [],
   "source": [
    "assert count_regions(grid(example)) == 1242"
   ]
  },
  {
   "cell_type": "markdown",
   "metadata": {},
   "source": [
    "How many regions are present given your key string?"
   ]
  },
  {
   "cell_type": "code",
   "execution_count": 8,
   "metadata": {},
   "outputs": [
    {
     "data": {
      "text/plain": [
       "1069"
      ]
     },
     "execution_count": 8,
     "metadata": {},
     "output_type": "execute_result"
    }
   ],
   "source": [
    "count_regions(grid(puzzle))"
   ]
  }
 ],
 "metadata": {
  "kernelspec": {
   "display_name": "Python 3",
   "language": "python",
   "name": "python3"
  },
  "language_info": {
   "codemirror_mode": {
    "name": "ipython",
    "version": 3
   },
   "file_extension": ".py",
   "mimetype": "text/x-python",
   "name": "python",
   "nbconvert_exporter": "python",
   "pygments_lexer": "ipython3",
   "version": "3.6.4"
  }
 },
 "nbformat": 4,
 "nbformat_minor": 2
}
