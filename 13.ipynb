{
 "cells": [
  {
   "cell_type": "markdown",
   "metadata": {},
   "source": [
    "# Day 13: Packet Scanners\n",
    "\n",
    "You need to cross a vast firewall.\n",
    "The firewall consists of several layers, each with a security scanner that moves back and forth across the layer.\n",
    "To succeed, you must not be detected by a scanner.\n",
    "\n",
    "By studying the firewall briefly, you are able to record (in your puzzle input) the depth of each layer and the range of the scanning area for the scanner within it, written as depth: range.\n",
    "Each layer has a thickness of exactly 1.\n",
    "A layer at depth 0 begins immediately inside the firewall; a layer at depth 1 would start immediately after that."
   ]
  },
  {
   "cell_type": "code",
   "execution_count": 1,
   "metadata": {},
   "outputs": [],
   "source": [
    "def parse(s):\n",
    "    layers = {}\n",
    "    for line in s.strip().splitlines():\n",
    "        d, r = line.split(': ')\n",
    "        layers[int(d)] = int(r)\n",
    "    return layers"
   ]
  },
  {
   "cell_type": "markdown",
   "metadata": {},
   "source": [
    "For example, suppose you've recorded the following:"
   ]
  },
  {
   "cell_type": "code",
   "execution_count": 2,
   "metadata": {},
   "outputs": [
    {
     "data": {
      "text/plain": [
       "{0: 3, 1: 2, 4: 4, 6: 4}"
      ]
     },
     "execution_count": 2,
     "metadata": {},
     "output_type": "execute_result"
    }
   ],
   "source": [
    "example = parse(\"\"\"\n",
    "0: 3\n",
    "1: 2\n",
    "4: 4\n",
    "6: 4\n",
    "\"\"\")"
   ]
  },
  {
   "cell_type": "markdown",
   "metadata": {},
   "source": [
    "This means that there is a layer immediately inside the firewall (with range 3), a second layer immediately after that (with range 2), a third layer which begins at depth 4 (with range 4), and a fourth layer which begins at depth 6 (also with range 4). Visually, it might look like this:\n",
    "\n",
    "```\n",
    " 0   1   2   3   4   5   6\n",
    "[ ] [ ] ... ... [ ] ... [ ]\n",
    "[ ] [ ]         [ ]     [ ]\n",
    "[ ]             [ ]     [ ]\n",
    "                [ ]     [ ]\n",
    "```\n",
    "\n",
    "Within each layer, a security scanner moves back and forth within its range. Each security scanner starts at the top and moves down until it reaches the bottom, then moves up until it reaches the top, and repeats. A security scanner takes one picosecond to move one step."
   ]
  },
  {
   "cell_type": "code",
   "execution_count": 3,
   "metadata": {},
   "outputs": [],
   "source": [
    "def scanners(layers, t):\n",
    "    \"\"\"Return pseudo-position of scanners at time t.\n",
    "    The pseudo-position is between 0...2(r-1)-1, where values between 0...r-1 refer to the downward journey and\n",
    "    values between r...2(r-1)-1 to the upward journey.\n",
    "    Pseudo-position 0 is the topmost position.\"\"\"\n",
    "    return {d: t % (2 * (r - 1)) for d, r in layers.items()}"
   ]
  },
  {
   "cell_type": "markdown",
   "metadata": {},
   "source": [
    "Drawing scanners as S, the first few picoseconds look like this:"
   ]
  },
  {
   "cell_type": "code",
   "execution_count": 4,
   "metadata": {},
   "outputs": [],
   "source": [
    "# picosecond 0\n",
    "#  0   1   2   3   4   5   6\n",
    "# [S] [S] ... ... [S] ... [S]\n",
    "# [ ] [ ]         [ ]     [ ]\n",
    "# [ ]             [ ]     [ ]\n",
    "#                 [ ]     [ ]\n",
    "assert scanners(example, 0) == {0: 0, 1: 0, 4: 0, 6: 0}\n",
    "\n",
    "# Picosecond 1:\n",
    "#  0   1   2   3   4   5   6\n",
    "# [ ] [ ] ... ... [ ] ... [ ]\n",
    "# [S] [S]         [S]     [S]\n",
    "# [ ]             [ ]     [ ]\n",
    "#                 [ ]     [ ]\n",
    "assert scanners(example, 1) == {0: 1, 1: 1, 4: 1, 6: 1}\n",
    "\n",
    "# Picosecond 2:\n",
    "# 0   1   2   3   4   5   6\n",
    "# [ ] [S] ... ... [ ] ... [ ]\n",
    "# [ ] [ ]         [ ]     [ ]\n",
    "# [S]             [S]     [S]\n",
    "#                 [ ]     [ ]\n",
    "assert scanners(example, 2) == {0: 2, 1: 0, 4: 2, 6: 2}\n",
    "\n",
    "# Picosecond 3:\n",
    "# 0   1   2   3   4   5   6\n",
    "# [ ] [ ] ... ... [ ] ... [ ]\n",
    "# [S] [S]         [ ]     [ ]\n",
    "# [ ]             [ ]     [ ]\n",
    "#                 [S]     [S]\n",
    "assert scanners(example, 3) == {\n",
    "    0: 3,  # == 1\n",
    "    1: 1,\n",
    "    4: 3,\n",
    "    6: 3\n",
    "}"
   ]
  },
  {
   "cell_type": "markdown",
   "metadata": {},
   "source": [
    "Your plan is to hitch a ride on a packet about to move through the firewall. The packet will travel along the top of each layer, and it moves at one layer per picosecond. Each picosecond, the packet moves one layer forward (its first move takes it into layer 0), and then the scanners move one step. If there is a scanner at the top of the layer as your packet enters it, you are caught. (If a scanner moves into the top of its layer while you are there, you are not caught: it doesn't have time to notice you before you leave.)"
   ]
  },
  {
   "cell_type": "code",
   "execution_count": 5,
   "metadata": {},
   "outputs": [],
   "source": [
    "def caught(layers, delay=0):\n",
    "    # layers at depth d are reached at time delay+d\n",
    "    return (d for (d, r) in layers.items() if (delay + d) % (2 * (r - 1)) == 0)"
   ]
  },
  {
   "cell_type": "markdown",
   "metadata": {},
   "source": [
    "If you were to do this in the configuration above, marking your current position with parentheses, your passage through the firewall would look like this:\n",
    "\n",
    "Initial state:\n",
    "```\n",
    " 0   1   2   3   4   5   6\n",
    "[S] [S] ... ... [S] ... [S]\n",
    "[ ] [ ]         [ ]     [ ]\n",
    "[ ]             [ ]     [ ]\n",
    "                [ ]     [ ]\n",
    "```\n",
    "\n",
    "Picosecond 0:\n",
    "```\n",
    " 0   1   2   3   4   5   6\n",
    "(S) [S] ... ... [S] ... [S]\n",
    "[ ] [ ]         [ ]     [ ]\n",
    "[ ]             [ ]     [ ]\n",
    "                [ ]     [ ]\n",
    "\n",
    " 0   1   2   3   4   5   6\n",
    "( ) [ ] ... ... [ ] ... [ ]\n",
    "[S] [S]         [S]     [S]\n",
    "[ ]             [ ]     [ ]\n",
    "                [ ]     [ ]\n",
    "```\n",
    "\n",
    "Picosecond 1:\n",
    "```\n",
    " 0   1   2   3   4   5   6\n",
    "[ ] ( ) ... ... [ ] ... [ ]\n",
    "[S] [S]         [S]     [S]\n",
    "[ ]             [ ]     [ ]\n",
    "                [ ]     [ ]\n",
    "\n",
    " 0   1   2   3   4   5   6\n",
    "[ ] (S) ... ... [ ] ... [ ]\n",
    "[ ] [ ]         [ ]     [ ]\n",
    "[S]             [S]     [S]\n",
    "                [ ]     [ ]\n",
    "```\n",
    "\n",
    "Picosecond 2:\n",
    "```\n",
    " 0   1   2   3   4   5   6\n",
    "[ ] [S] (.) ... [ ] ... [ ]\n",
    "[ ] [ ]         [ ]     [ ]\n",
    "[S]             [S]     [S]\n",
    "                [ ]     [ ]\n",
    "\n",
    " 0   1   2   3   4   5   6\n",
    "[ ] [ ] (.) ... [ ] ... [ ]\n",
    "[S] [S]         [ ]     [ ]\n",
    "[ ]             [ ]     [ ]\n",
    "                [S]     [S]\n",
    "```\n",
    "\n",
    "Picosecond 3:\n",
    "```\n",
    " 0   1   2   3   4   5   6\n",
    "[ ] [ ] ... (.) [ ] ... [ ]\n",
    "[S] [S]         [ ]     [ ]\n",
    "[ ]             [ ]     [ ]\n",
    "                [S]     [S]\n",
    "\n",
    " 0   1   2   3   4   5   6\n",
    "[S] [S] ... (.) [ ] ... [ ]\n",
    "[ ] [ ]         [ ]     [ ]\n",
    "[ ]             [S]     [S]\n",
    "                [ ]     [ ]\n",
    "```\n",
    "\n",
    "Picosecond 4:\n",
    "```\n",
    " 0   1   2   3   4   5   6\n",
    "[S] [S] ... ... ( ) ... [ ]\n",
    "[ ] [ ]         [ ]     [ ]\n",
    "[ ]             [S]     [S]\n",
    "                [ ]     [ ]\n",
    "\n",
    " 0   1   2   3   4   5   6\n",
    "[ ] [ ] ... ... ( ) ... [ ]\n",
    "[S] [S]         [S]     [S]\n",
    "[ ]             [ ]     [ ]\n",
    "                [ ]     [ ]\n",
    "```\n",
    "\n",
    "Picosecond 5:\n",
    "```\n",
    " 0   1   2   3   4   5   6\n",
    "[ ] [ ] ... ... [ ] (.) [ ]\n",
    "[S] [S]         [S]     [S]\n",
    "[ ]             [ ]     [ ]\n",
    "                [ ]     [ ]\n",
    "\n",
    " 0   1   2   3   4   5   6\n",
    "[ ] [S] ... ... [S] (.) [S]\n",
    "[ ] [ ]         [ ]     [ ]\n",
    "[S]             [ ]     [ ]\n",
    "                [ ]     [ ]\n",
    "```\n",
    "\n",
    "Picosecond 6:\n",
    "```\n",
    " 0   1   2   3   4   5   6\n",
    "[ ] [S] ... ... [S] ... (S)\n",
    "[ ] [ ]         [ ]     [ ]\n",
    "[S]             [ ]     [ ]\n",
    "                [ ]     [ ]\n",
    "\n",
    " 0   1   2   3   4   5   6\n",
    "[ ] [ ] ... ... [ ] ... ( )\n",
    "[S] [S]         [S]     [S]\n",
    "[ ]             [ ]     [ ]\n",
    "                [ ]     [ ]\n",
    "```\n",
    "\n",
    "In this situation, you are caught in layers 0 and 6, because your packet entered the layer when its scanner was at the top when you entered it. You are not caught in layer 1, since the scanner moved into the top of the layer once you were already there."
   ]
  },
  {
   "cell_type": "code",
   "execution_count": 6,
   "metadata": {},
   "outputs": [],
   "source": [
    "assert list(caught(example)) == [0, 6]"
   ]
  },
  {
   "cell_type": "markdown",
   "metadata": {},
   "source": [
    "The severity of getting caught on a layer is equal to its depth multiplied by its range. (Ignore layers in which you do not get caught.) The severity of the whole trip is the sum of these values. In the example above, the trip severity is $0\\times 3 + 6\\times 4 = 24$."
   ]
  },
  {
   "cell_type": "code",
   "execution_count": 7,
   "metadata": {},
   "outputs": [],
   "source": [
    "def severity_of_trip(layers):\n",
    "    return sum([d * layers[d] for d in caught(layers)])\n",
    "\n",
    "\n",
    "assert severity_of_trip(example) == 24"
   ]
  },
  {
   "cell_type": "markdown",
   "metadata": {},
   "source": [
    "Given the details of the firewall you've recorded, if you leave immediately, what is the severity of your whole trip?"
   ]
  },
  {
   "cell_type": "code",
   "execution_count": 8,
   "metadata": {},
   "outputs": [
    {
     "data": {
      "text/plain": [
       "632"
      ]
     },
     "execution_count": 8,
     "metadata": {},
     "output_type": "execute_result"
    }
   ],
   "source": [
    "puzzle = parse(open('13.input').read())\n",
    "severity_of_trip(puzzle)"
   ]
  },
  {
   "cell_type": "markdown",
   "metadata": {},
   "source": [
    "# Part Two\n",
    "\n",
    "Now, you need to pass through the firewall without being caught - easier said than done.\n",
    "\n",
    "You can't control the speed of the packet, but you can delay it any number of picoseconds. For each picosecond you delay the packet before beginning your trip, all security scanners move one step. You're not in the firewall during this time; you don't enter layer 0 until you stop delaying the packet.\n",
    "\n",
    "In the example above, if you delay 10 picoseconds (picoseconds 0 - 9), you won't get caught:\n",
    "\n",
    "State after delaying:\n",
    "```\n",
    " 0   1   2   3   4   5   6\n",
    "[ ] [S] ... ... [ ] ... [ ]\n",
    "[ ] [ ]         [ ]     [ ]\n",
    "[S]             [S]     [S]\n",
    "                [ ]     [ ]\n",
    "```\n",
    "\n",
    "Picosecond 10:\n",
    "```\n",
    " 0   1   2   3   4   5   6\n",
    "( ) [S] ... ... [ ] ... [ ]\n",
    "[ ] [ ]         [ ]     [ ]\n",
    "[S]             [S]     [S]\n",
    "                [ ]     [ ]\n",
    "\n",
    " 0   1   2   3   4   5   6\n",
    "( ) [ ] ... ... [ ] ... [ ]\n",
    "[S] [S]         [S]     [S]\n",
    "[ ]             [ ]     [ ]\n",
    "                [ ]     [ ]\n",
    "```\n",
    "\n",
    "Picosecond 11:\n",
    "```\n",
    " 0   1   2   3   4   5   6\n",
    "[ ] ( ) ... ... [ ] ... [ ]\n",
    "[S] [S]         [S]     [S]\n",
    "[ ]             [ ]     [ ]\n",
    "                [ ]     [ ]\n",
    "\n",
    " 0   1   2   3   4   5   6\n",
    "[S] (S) ... ... [S] ... [S]\n",
    "[ ] [ ]         [ ]     [ ]\n",
    "[ ]             [ ]     [ ]\n",
    "                [ ]     [ ]\n",
    "```\n",
    "\n",
    "Picosecond 12:\n",
    "```\n",
    " 0   1   2   3   4   5   6\n",
    "[S] [S] (.) ... [S] ... [S]\n",
    "[ ] [ ]         [ ]     [ ]\n",
    "[ ]             [ ]     [ ]\n",
    "                [ ]     [ ]\n",
    "\n",
    " 0   1   2   3   4   5   6\n",
    "[ ] [ ] (.) ... [ ] ... [ ]\n",
    "[S] [S]         [S]     [S]\n",
    "[ ]             [ ]     [ ]\n",
    "                [ ]     [ ]\n",
    "```\n",
    "\n",
    "Picosecond 13:\n",
    "```\n",
    " 0   1   2   3   4   5   6\n",
    "[ ] [ ] ... (.) [ ] ... [ ]\n",
    "[S] [S]         [S]     [S]\n",
    "[ ]             [ ]     [ ]\n",
    "                [ ]     [ ]\n",
    "\n",
    " 0   1   2   3   4   5   6\n",
    "[ ] [S] ... (.) [ ] ... [ ]\n",
    "[ ] [ ]         [ ]     [ ]\n",
    "[S]             [S]     [S]\n",
    "                [ ]     [ ]\n",
    "```\n",
    "\n",
    "Picosecond 14:\n",
    "```\n",
    " 0   1   2   3   4   5   6\n",
    "[ ] [S] ... ... ( ) ... [ ]\n",
    "[ ] [ ]         [ ]     [ ]\n",
    "[S]             [S]     [S]\n",
    "                [ ]     [ ]\n",
    "\n",
    " 0   1   2   3   4   5   6\n",
    "[ ] [ ] ... ... ( ) ... [ ]\n",
    "[S] [S]         [ ]     [ ]\n",
    "[ ]             [ ]     [ ]\n",
    "                [S]     [S]\n",
    "```\n",
    "\n",
    "Picosecond 15:\n",
    "```\n",
    " 0   1   2   3   4   5   6\n",
    "[ ] [ ] ... ... [ ] (.) [ ]\n",
    "[S] [S]         [ ]     [ ]\n",
    "[ ]             [ ]     [ ]\n",
    "                [S]     [S]\n",
    "\n",
    " 0   1   2   3   4   5   6\n",
    "[S] [S] ... ... [ ] (.) [ ]\n",
    "[ ] [ ]         [ ]     [ ]\n",
    "[ ]             [S]     [S]\n",
    "                [ ]     [ ]\n",
    "```\n",
    "\n",
    "Picosecond 16:\n",
    "```\n",
    " 0   1   2   3   4   5   6\n",
    "[S] [S] ... ... [ ] ... ( )\n",
    "[ ] [ ]         [ ]     [ ]\n",
    "[ ]             [S]     [S]\n",
    "                [ ]     [ ]\n",
    "\n",
    " 0   1   2   3   4   5   6\n",
    "[ ] [ ] ... ... [ ] ... ( )\n",
    "[S] [S]         [S]     [S]\n",
    "[ ]             [ ]     [ ]\n",
    "                [ ]     [ ]\n",
    "```"
   ]
  },
  {
   "cell_type": "code",
   "execution_count": 9,
   "metadata": {},
   "outputs": [],
   "source": [
    "assert next(caught(example, 10), None) is None"
   ]
  },
  {
   "cell_type": "markdown",
   "metadata": {},
   "source": [
    "Because all smaller delays would get you caught, the fewest number of picoseconds you would need to delay to get through safely is 10."
   ]
  },
  {
   "cell_type": "code",
   "execution_count": 10,
   "metadata": {},
   "outputs": [],
   "source": [
    "def min_delay(layers):\n",
    "    delay = 0\n",
    "    while next(caught(layers, delay), None) is not None:\n",
    "        delay += 1\n",
    "    return delay\n",
    "\n",
    "\n",
    "assert min_delay(example) == 10"
   ]
  },
  {
   "cell_type": "markdown",
   "metadata": {},
   "source": [
    "What is the fewest number of picoseconds that you need to delay the packet to pass through the firewall without being caught?"
   ]
  },
  {
   "cell_type": "code",
   "execution_count": 11,
   "metadata": {},
   "outputs": [
    {
     "name": "stdout",
     "output_type": "stream",
     "text": [
      "CPU times: user 5.3 s, sys: 23 ms, total: 5.32 s\n",
      "Wall time: 5.36 s\n"
     ]
    },
    {
     "data": {
      "text/plain": [
       "3849742"
      ]
     },
     "execution_count": 11,
     "metadata": {},
     "output_type": "execute_result"
    }
   ],
   "source": [
    "%%time\n",
    "min_delay(puzzle)"
   ]
  }
 ],
 "metadata": {
  "kernelspec": {
   "display_name": "Python 3",
   "language": "python",
   "name": "python3"
  },
  "language_info": {
   "codemirror_mode": {
    "name": "ipython",
    "version": 3
   },
   "file_extension": ".py",
   "mimetype": "text/x-python",
   "name": "python",
   "nbconvert_exporter": "python",
   "pygments_lexer": "ipython3",
   "version": "3.6.4"
  }
 },
 "nbformat": 4,
 "nbformat_minor": 2
}
