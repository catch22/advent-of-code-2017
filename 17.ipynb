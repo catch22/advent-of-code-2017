{
 "cells": [
  {
   "cell_type": "markdown",
   "metadata": {},
   "source": [
    "# Day 17: Spinlock\n",
    "\n",
    "Suddenly, whirling in the distance, you notice what looks like a massive, pixelated hurricane: a deadly spinlock. This spinlock isn't just consuming computing power, but memory, too; vast, digital mountains are being ripped from the ground and consumed by the vortex.\n",
    "\n",
    "If you don't move quickly, fixing that printer will be the least of your problems.\n",
    "\n",
    "This spinlock's algorithm is simple but efficient, quickly consuming everything in its path. It starts with a circular buffer containing only the value 0, which it marks as the current position. It then steps forward through the circular buffer some number of steps (your puzzle input) before inserting the first new value, 1, after the value it stopped on. The inserted value becomes the current position. Then, it steps forward from there the same number of steps, and wherever it stops, inserts after it the second new value, 2, and uses that as the new current position again.\n",
    "\n",
    "It repeats this process of stepping forward, inserting a new value, and using the location of the inserted value as the new current position a total of 2017 times, inserting 2017 as its final operation, and ending with a total of 2018 values (including 0) in the circular buffer."
   ]
  },
  {
   "cell_type": "code",
   "execution_count": 1,
   "metadata": {},
   "outputs": [],
   "source": [
    "def step(buffer, pos, steps):\n",
    "    n = len(buffer)\n",
    "    pos = ((pos + steps) % n) + 1\n",
    "    return buffer[:pos] + [n] + buffer[pos:], pos\n",
    "\n",
    "\n",
    "def run(steps, repetitions=2017):\n",
    "    buffer, pos = [0], 0\n",
    "    for _ in range(repetitions):\n",
    "        buffer, pos = step(buffer, pos, steps)\n",
    "    return buffer, pos"
   ]
  },
  {
   "cell_type": "markdown",
   "metadata": {},
   "source": [
    "For example, if the spinlock were to step 3 times per insert, the circular buffer would begin to evolve like this:"
   ]
  },
  {
   "cell_type": "code",
   "execution_count": 2,
   "metadata": {},
   "outputs": [],
   "source": [
    "example = 3\n",
    "buffer, pos = [0], 0\n",
    "\n",
    "# the spinlock steps forward three times `(0, 0, 0)`, and then inserts the first value, 1, after it. 1 becomes the current position.\n",
    "buffer, pos = step(buffer, pos, example)\n",
    "assert buffer == [0, 1] and pos == 1\n",
    "\n",
    "# the spinlock steps forward three times `(0, 1, 0)`, and then inserts the second value, 2, after it. 2 becomes the current position.\n",
    "buffer, pos = step(buffer, pos, example)\n",
    "assert buffer == [0, 2, 1] and pos == 1\n",
    "\n",
    "# the spinlock steps forward three times `(1, 0, 2)`, and then inserts the third value, 3, after it. 3 becomes the current position.\n",
    "buffer, pos = step(buffer, pos, example)\n",
    "assert buffer == [0, 2, 3, 1] and pos == 2\n",
    "\n",
    "# and so on...\n",
    "buffer, pos = step(buffer, pos, example)\n",
    "assert buffer == [0, 2, 4, 3, 1] and pos == 2\n",
    "\n",
    "buffer, pos = step(buffer, pos, example)\n",
    "assert buffer == [0, 5, 2, 4, 3, 1] and pos == 1\n",
    "\n",
    "buffer, pos = step(buffer, pos, example)\n",
    "assert buffer == [0, 5, 2, 4, 3, 6, 1] and pos == 5\n",
    "\n",
    "buffer, pos = step(buffer, pos, example)\n",
    "assert buffer == [0, 5, 7, 2, 4, 3, 6, 1] and pos == 2\n",
    "\n",
    "buffer, pos = step(buffer, pos, example)\n",
    "assert buffer == [0, 5, 7, 2, 4, 3, 8, 6, 1] and pos == 6\n",
    "\n",
    "buffer, pos = step(buffer, pos, example)\n",
    "assert buffer == [0, 9, 5, 7, 2, 4, 3, 8, 6, 1] and pos == 1"
   ]
  },
  {
   "cell_type": "markdown",
   "metadata": {},
   "source": [
    "Eventually, after 2017 insertions, the section of the circular buffer near the last insertion looks like this:"
   ]
  },
  {
   "cell_type": "code",
   "execution_count": 3,
   "metadata": {},
   "outputs": [],
   "source": [
    "buffer, pos = [0], 0\n",
    "for _ in range(2017):\n",
    "    buffer, pos = step(buffer, pos, example)\n",
    "\n",
    "assert buffer[pos - 3:pos + 4] == [1512, 1134, 151, 2017, 638, 1513, 851]"
   ]
  },
  {
   "cell_type": "markdown",
   "metadata": {},
   "source": [
    "Perhaps, if you can identify the value that will ultimately be after the last value written (`2017`), you can short-circuit the spinlock. In this example, that would be `638`."
   ]
  },
  {
   "cell_type": "code",
   "execution_count": 4,
   "metadata": {},
   "outputs": [],
   "source": [
    "buffer, pos = run(example)\n",
    "assert buffer[(pos + 1) % len(buffer)] == 638"
   ]
  },
  {
   "cell_type": "markdown",
   "metadata": {},
   "source": [
    "What is the value __after 2017__ in your completed circular buffer?"
   ]
  },
  {
   "cell_type": "code",
   "execution_count": 5,
   "metadata": {},
   "outputs": [
    {
     "data": {
      "text/plain": [
       "1506"
      ]
     },
     "execution_count": 5,
     "metadata": {},
     "output_type": "execute_result"
    }
   ],
   "source": [
    "puzzle = 359\n",
    "buffer, pos = run(puzzle)\n",
    "buffer[(pos + 1) % len(buffer)]"
   ]
  },
  {
   "cell_type": "markdown",
   "metadata": {},
   "source": [
    "## Part Two\n",
    "\n",
    "The spinlock does not short-circuit. Instead, it gets more angry. At least, you assume that's what happened; it's spinning significantly faster than it was a moment ago.\n",
    "\n",
    "You have good news and bad news.\n",
    "\n",
    "The good news is that you have improved calculations for how to stop the spinlock. They indicate that you actually need to identify the value after 0 in the current state of the circular buffer.\n",
    "\n",
    "The bad news is that while you were determining this, the spinlock has just finished inserting its fifty millionth value (`50_000_000`).\n",
    "\n",
    "What is the value __after 0__ the moment `50_000_000` is inserted?"
   ]
  },
  {
   "cell_type": "code",
   "execution_count": 6,
   "metadata": {},
   "outputs": [],
   "source": [
    "def step(n, steps, pos, second):\n",
    "    \"\"\"return new position and the current value after 0 (i.e., the new second entry of the list)\"\"\"\n",
    "    pos = ((pos + steps) % n) + 1\n",
    "    return pos, n if pos == 1 else second\n",
    "\n",
    "\n",
    "def run(steps, repetitions):\n",
    "    pos, second = 0, None\n",
    "    for n in range(1, repetitions + 1):\n",
    "        pos, second = step(n, steps, pos, second)\n",
    "    return second\n",
    "\n",
    "\n",
    "expect = [1, 2, 2, 2, 5, 5, 5, 5, 9]\n",
    "assert [run(example, i) for i in range(1, 9 + 1)] == expect"
   ]
  },
  {
   "cell_type": "code",
   "execution_count": 7,
   "metadata": {},
   "outputs": [
    {
     "name": "stdout",
     "output_type": "stream",
     "text": [
      "CPU times: user 16.6 s, sys: 82.8 ms, total: 16.7 s\n",
      "Wall time: 16.8 s\n"
     ]
    },
    {
     "data": {
      "text/plain": [
       "39479736"
      ]
     },
     "execution_count": 7,
     "metadata": {},
     "output_type": "execute_result"
    }
   ],
   "source": [
    "%%time\n",
    "run(puzzle, 50_000_000)"
   ]
  }
 ],
 "metadata": {
  "kernelspec": {
   "display_name": "Python 3",
   "language": "python",
   "name": "python3"
  },
  "language_info": {
   "codemirror_mode": {
    "name": "ipython",
    "version": 3
   },
   "file_extension": ".py",
   "mimetype": "text/x-python",
   "name": "python",
   "nbconvert_exporter": "python",
   "pygments_lexer": "ipython3",
   "version": "3.6.4"
  }
 },
 "nbformat": 4,
 "nbformat_minor": 2
}
