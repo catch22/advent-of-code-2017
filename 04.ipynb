{
 "cells": [
  {
   "cell_type": "markdown",
   "metadata": {},
   "source": [
    "# Day 4: High-Entropy Passphrases\n",
    "\n",
    "A new system policy has been put in place that requires all accounts to use a passphrase instead of simply a password. A passphrase consists of a series of words (lowercase letters) separated by spaces.\n",
    "\n",
    "To ensure security, a valid passphrase must contain no duplicate words."
   ]
  },
  {
   "cell_type": "code",
   "execution_count": 1,
   "metadata": {},
   "outputs": [],
   "source": [
    "def is_valid(passphrase):\n",
    "    words = passphrase.strip().split()\n",
    "    return len(words) == len(set(words))"
   ]
  },
  {
   "cell_type": "markdown",
   "metadata": {},
   "source": [
    "For example:"
   ]
  },
  {
   "cell_type": "code",
   "execution_count": 2,
   "metadata": {},
   "outputs": [],
   "source": [
    "assert is_valid('aa bb cc dd ee')\n",
    "assert not is_valid('aa bb cc dd aa')  # the word aa appears more than once.\n",
    "assert is_valid('aa bb cc dd aaa')  # aa and aaa count as different words."
   ]
  },
  {
   "cell_type": "markdown",
   "metadata": {},
   "source": [
    "The system's full passphrase list is available as your puzzle input."
   ]
  },
  {
   "cell_type": "code",
   "execution_count": 3,
   "metadata": {},
   "outputs": [
    {
     "data": {
      "text/plain": [
       "['bdwdjjo avricm cjbmj ran lmfsom ivsof',\n",
       " 'mxonybc fndyzzi gmdp gdfyoi inrvhr kpuueel wdpga vkq',\n",
       " 'bneh ylltsc vhryov lsd hmruxy ebnh pdln vdprrky',\n",
       " 'fumay zbccai qymavw zwoove hqpd rcxyvy',\n",
       " 'bcuo khhkkro mpt dxrebym qwum zqp lhmbma esmr qiyomu']"
      ]
     },
     "execution_count": 3,
     "metadata": {},
     "output_type": "execute_result"
    }
   ],
   "source": [
    "puzzle = open('04.input').read().strip().splitlines()\n",
    "puzzle[:5]"
   ]
  },
  {
   "cell_type": "markdown",
   "metadata": {},
   "source": [
    "How many passphrases are valid?"
   ]
  },
  {
   "cell_type": "code",
   "execution_count": 4,
   "metadata": {},
   "outputs": [
    {
     "data": {
      "text/plain": [
       "455"
      ]
     },
     "execution_count": 4,
     "metadata": {},
     "output_type": "execute_result"
    }
   ],
   "source": [
    "sum(is_valid(p) for p in puzzle)"
   ]
  },
  {
   "cell_type": "markdown",
   "metadata": {},
   "source": [
    "## Part Two"
   ]
  },
  {
   "cell_type": "markdown",
   "metadata": {},
   "source": [
    "For added security, yet another system policy has been put in place. Now, a valid passphrase must contain no two words that are anagrams of each other - that is, a passphrase is invalid if any word's letters can be rearranged to form any other word in the passphrase."
   ]
  },
  {
   "cell_type": "code",
   "execution_count": 5,
   "metadata": {},
   "outputs": [],
   "source": [
    "def is_valid(passphrase):\n",
    "    words = passphrase.strip().split()\n",
    "    words = [str(sorted(w)) for w in words]\n",
    "    return len(words) == len(set(words))"
   ]
  },
  {
   "cell_type": "markdown",
   "metadata": {},
   "source": [
    "For example:"
   ]
  },
  {
   "cell_type": "code",
   "execution_count": 6,
   "metadata": {},
   "outputs": [],
   "source": [
    "assert is_valid('abcde fghij')\n",
    "\n",
    "# the letters from the third word can be rearranged to form the first word\n",
    "assert not is_valid('abcde xyz ecdab')\n",
    "\n",
    "# all letters need to be used when forming another word\n",
    "assert is_valid('a ab abc abd abf abj')\n",
    "\n",
    "assert is_valid('iiii oiii ooii oooi oooo')\n",
    "\n",
    "# any of these words can be rearranged to form any other word.\n",
    "assert not is_valid('oiii ioii iioi iiio')"
   ]
  },
  {
   "cell_type": "markdown",
   "metadata": {},
   "source": [
    "Under this new system policy, how many passphrases are valid?"
   ]
  },
  {
   "cell_type": "code",
   "execution_count": 7,
   "metadata": {},
   "outputs": [
    {
     "data": {
      "text/plain": [
       "186"
      ]
     },
     "execution_count": 7,
     "metadata": {},
     "output_type": "execute_result"
    }
   ],
   "source": [
    "sum(is_valid(p) for p in puzzle)"
   ]
  }
 ],
 "metadata": {
  "kernelspec": {
   "display_name": "Python 3",
   "language": "python",
   "name": "python3"
  },
  "language_info": {
   "codemirror_mode": {
    "name": "ipython",
    "version": 3
   },
   "file_extension": ".py",
   "mimetype": "text/x-python",
   "name": "python",
   "nbconvert_exporter": "python",
   "pygments_lexer": "ipython3",
   "version": "3.6.4"
  }
 },
 "nbformat": 4,
 "nbformat_minor": 2
}
