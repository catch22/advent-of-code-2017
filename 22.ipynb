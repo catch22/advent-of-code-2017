{
 "cells": [
  {
   "cell_type": "markdown",
   "metadata": {},
   "source": [
    "# Day 22: Sporifica Virus\n",
    "\n",
    "Diagnostics indicate that the local grid computing cluster has been contaminated with the Sporifica Virus. The grid computing cluster is a seemingly-infinite two-dimensional grid of compute nodes. Each node is either clean or infected by the virus.\n",
    "\n",
    "To prevent overloading the nodes (which would render them useless to the virus) or detection by system administrators, exactly one virus carrier moves through the network, infecting or cleaning nodes as it moves. The virus carrier is always located on a single node in the network (the current node) and keeps track of the direction it is facing.\n",
    "\n",
    "To avoid detection, the virus carrier works in bursts; in each burst, it wakes up, does some work, and goes back to sleep. The following steps are all executed in order one time each burst:\n",
    "\n",
    "- If the current node is infected, it turns to its right. Otherwise, it turns to its left. (Turning is done in-place; the current node does not change.)\n",
    "- If the current node is clean, it becomes infected. Otherwise, it becomes cleaned. (This is done after the node is considered for the purposes of changing direction.)\n",
    "- The virus carrier moves forward one node in the direction it is facing.\n",
    "- Diagnostics have also provided a map of the node infection status (your puzzle input). Clean nodes are shown as `.`; infected nodes are shown as `#`. This map only shows the center of the grid; there are many more nodes beyond those shown, but none of them are currently infected.\n",
    "\n",
    "The virus carrier begins in the middle of the map facing up."
   ]
  },
  {
   "cell_type": "code",
   "execution_count": 1,
   "metadata": {},
   "outputs": [],
   "source": [
    "import numpy as np\n",
    "\n",
    "CLOCKWISE = ['up', 'right', 'down', 'left']\n",
    "DELTA = {'up': (-1, 0), 'down': (1, 0), 'left': (0, -1), 'right': (0, 1)}\n",
    "TRANSITIONS = {\n",
    "    '#': ('.', +1),\n",
    "    '.': ('#', -1),\n",
    "}\n",
    "\n",
    "\n",
    "def parse(s):\n",
    "    return np.array([list(row) for row in s.strip().splitlines()])\n",
    "\n",
    "\n",
    "def pretty_print(info):\n",
    "    out = [list(' %s ' % ' '.join(row)) for row in info['map']]\n",
    "    pos = info['pos']\n",
    "    out[pos[0]][2 * pos[1]] = '['\n",
    "    out[pos[0]][2 * pos[1] + 2] = ']'\n",
    "    print('\\n'.join(''.join(row) for row in out))\n",
    "\n",
    "\n",
    "def run(map, n):\n",
    "    map = map.copy()\n",
    "\n",
    "    # start in the center of the map, facing upwards\n",
    "    assert map.shape[0] % 2 == 1 and map.shape[1] % 2 == 1\n",
    "    pos = map.shape[0] // 2, map.shape[1] // 2\n",
    "    dir = 'up'\n",
    "\n",
    "    # run simulation\n",
    "    infections = 0\n",
    "    for _ in range(n):\n",
    "        # determine new cell content and direction\n",
    "        map[pos], rel_dir = TRANSITIONS[map[pos]]\n",
    "        dir = CLOCKWISE[(CLOCKWISE.index(dir) + rel_dir) % 4]\n",
    "\n",
    "        # count infection\n",
    "        if map[pos] == '#':\n",
    "            infections += 1\n",
    "\n",
    "        # update position\n",
    "        delta = DELTA[dir]\n",
    "        pos = pos[0] + delta[0], pos[1] + delta[1]\n",
    "\n",
    "        # grow map?\n",
    "        if not (0 <= pos[0] < map.shape[0] and 0 <= pos[1] < map.shape[1]):\n",
    "            new_map = np.full((map.shape[0] + 2, map.shape[1] + 2), '.')\n",
    "            new_map[1:-1, 1:-1] = map\n",
    "            map = new_map\n",
    "            pos = pos[0] + 1, pos[1] + 1\n",
    "\n",
    "    return {'map': map, 'pos': pos, 'dir': dir, 'infections': infections}"
   ]
  },
  {
   "cell_type": "markdown",
   "metadata": {},
   "source": [
    "For example, suppose you are given a map like this:"
   ]
  },
  {
   "cell_type": "code",
   "execution_count": 2,
   "metadata": {},
   "outputs": [
    {
     "name": "stdout",
     "output_type": "stream",
     "text": [
      " . . # \n",
      " #[.]. \n",
      " . . . \n"
     ]
    }
   ],
   "source": [
    "example = parse(\"\"\"\n",
    "..#\n",
    "#..\n",
    "...\n",
    "\"\"\")\n",
    "pretty_print(run(example, 0))"
   ]
  },
  {
   "cell_type": "markdown",
   "metadata": {},
   "source": [
    "The virus carrier is on a clean node, so it turns left, infects the node, and moves left:"
   ]
  },
  {
   "cell_type": "code",
   "execution_count": 3,
   "metadata": {},
   "outputs": [
    {
     "name": "stdout",
     "output_type": "stream",
     "text": [
      " . . # \n",
      "[#]# . \n",
      " . . . \n"
     ]
    }
   ],
   "source": [
    "pretty_print(run(example, 1))"
   ]
  },
  {
   "cell_type": "markdown",
   "metadata": {},
   "source": [
    "The virus carrier is on an infected node, so it turns right, cleans the node, and moves up:"
   ]
  },
  {
   "cell_type": "code",
   "execution_count": 4,
   "metadata": {},
   "outputs": [
    {
     "name": "stdout",
     "output_type": "stream",
     "text": [
      "[.]. # \n",
      " . # . \n",
      " . . . \n"
     ]
    }
   ],
   "source": [
    "pretty_print(run(example, 2))"
   ]
  },
  {
   "cell_type": "markdown",
   "metadata": {},
   "source": [
    "Four times in a row, the virus carrier finds a clean, infects it, turns left, and moves forward, ending in the same place and still facing up:"
   ]
  },
  {
   "cell_type": "code",
   "execution_count": 5,
   "metadata": {},
   "outputs": [
    {
     "name": "stdout",
     "output_type": "stream",
     "text": [
      " . . . . . \n",
      " #[#]. # . \n",
      " # # # . . \n",
      " . . . . . \n",
      " . . . . . \n"
     ]
    }
   ],
   "source": [
    "pretty_print(run(example, 2 + 4))"
   ]
  },
  {
   "cell_type": "markdown",
   "metadata": {},
   "source": [
    "Now on the same node as before, it sees an infection, which causes it to turn right, clean the node, and move forward:"
   ]
  },
  {
   "cell_type": "code",
   "execution_count": 6,
   "metadata": {},
   "outputs": [
    {
     "name": "stdout",
     "output_type": "stream",
     "text": [
      " . . . . . \n",
      " # .[.]# . \n",
      " # # # . . \n",
      " . . . . . \n",
      " . . . . . \n"
     ]
    }
   ],
   "source": [
    "pretty_print(run(example, 2 + 4 + 1))"
   ]
  },
  {
   "cell_type": "markdown",
   "metadata": {},
   "source": [
    "After the above actions, a total of 7 bursts of activity had taken place. Of them, 5 bursts of activity caused an infection."
   ]
  },
  {
   "cell_type": "code",
   "execution_count": 7,
   "metadata": {},
   "outputs": [],
   "source": [
    "assert run(example, 7)['infections'] == 5"
   ]
  },
  {
   "cell_type": "markdown",
   "metadata": {},
   "source": [
    "After a total of 70, the grid looks like this, with the virus carrier facing up:"
   ]
  },
  {
   "cell_type": "code",
   "execution_count": 8,
   "metadata": {},
   "outputs": [
    {
     "name": "stdout",
     "output_type": "stream",
     "text": [
      " . . . . . # # . . \n",
      " . . . . # . . # . \n",
      " . . . # . . . . # \n",
      " . . # . #[.]. . # \n",
      " . . # . # . . # . \n",
      " . . . . . # # . . \n",
      " . . . . . . . . . \n",
      " . . . . . . . . . \n",
      " . . . . . . . . . \n"
     ]
    }
   ],
   "source": [
    "pretty_print(run(example, 70))"
   ]
  },
  {
   "cell_type": "markdown",
   "metadata": {},
   "source": [
    "By this time, 41 bursts of activity caused an infection (though most of those nodes have since been cleaned)."
   ]
  },
  {
   "cell_type": "code",
   "execution_count": 9,
   "metadata": {},
   "outputs": [],
   "source": [
    "assert run(example, 70)['infections'] == 41"
   ]
  },
  {
   "cell_type": "markdown",
   "metadata": {},
   "source": [
    "After a total of 10000 bursts of activity, 5587 bursts will have caused an infection."
   ]
  },
  {
   "cell_type": "code",
   "execution_count": 10,
   "metadata": {},
   "outputs": [],
   "source": [
    "assert run(example, 10_000)['infections'] == 5587"
   ]
  },
  {
   "cell_type": "markdown",
   "metadata": {},
   "source": [
    "Given your actual map, after 10000 bursts of activity, how many bursts cause a node to become infected? (Do not count nodes that begin infected.)"
   ]
  },
  {
   "cell_type": "code",
   "execution_count": 11,
   "metadata": {},
   "outputs": [
    {
     "data": {
      "text/plain": [
       "5404"
      ]
     },
     "execution_count": 11,
     "metadata": {},
     "output_type": "execute_result"
    }
   ],
   "source": [
    "puzzle = parse(open('22.input').read())\n",
    "run(puzzle, 10_000)['infections']"
   ]
  },
  {
   "cell_type": "markdown",
   "metadata": {},
   "source": [
    "# Part Two\n",
    "\n",
    "As you go to remove the virus from the infected nodes, it evolves to resist your attempt.\n",
    "\n",
    "Now, before it infects a clean node, it will weaken it to disable your defenses. If it encounters an infected node, it will instead flag the node to be cleaned in the future. So:\n",
    "\n",
    "- Clean nodes become weakened.\n",
    "- Weakened nodes become infected.\n",
    "- Infected nodes become flagged.\n",
    "- Flagged nodes become clean.\n",
    "- Every node is always in exactly one of the above states.\n",
    "\n",
    "The virus carrier still functions in a similar way, but now uses the following logic during its bursts of action:\n",
    "\n",
    "- Decide which way to turn based on the current node:\n",
    "  - If it is clean, it turns left.\n",
    "  - If it is weakened, it does not turn, and will continue moving in the same direction.\n",
    "  - If it is infected, it turns right.\n",
    "  - If it is flagged, it reverses direction, and will go back the way it came.\n",
    "- Modify the state of the current node, as described above.\n",
    "- The virus carrier moves forward one node in the direction it is facing."
   ]
  },
  {
   "cell_type": "code",
   "execution_count": 12,
   "metadata": {},
   "outputs": [
    {
     "data": {
      "text/plain": [
       "{'#': ('F', 1), '.': ('W', -1), 'F': ('.', 2), 'W': ('#', 0)}"
      ]
     },
     "execution_count": 12,
     "metadata": {},
     "output_type": "execute_result"
    }
   ],
   "source": [
    "TRANSITIONS = {\n",
    "    '.': ('W', -1),\n",
    "    'W': ('#', 0),\n",
    "    '#': ('F', +1),\n",
    "    'F': ('.', 2),\n",
    "}"
   ]
  },
  {
   "cell_type": "markdown",
   "metadata": {},
   "source": [
    "Start with the same map (still using `.` for clean and `#` for infected) and still with the virus carrier starting in the middle and facing up.\n",
    "\n",
    "Using the same initial state as the previous example, and drawing weakened as `W` and flagged as `F`, the middle of the infinite grid looks like this, with the virus carrier's position again marked with `[ ]`:"
   ]
  },
  {
   "cell_type": "code",
   "execution_count": 13,
   "metadata": {},
   "outputs": [
    {
     "name": "stdout",
     "output_type": "stream",
     "text": [
      " . . # \n",
      " #[.]. \n",
      " . . . \n"
     ]
    }
   ],
   "source": [
    "pretty_print(run(example, 0))"
   ]
  },
  {
   "cell_type": "markdown",
   "metadata": {},
   "source": [
    "This is the same as before, since no initial nodes are weakened or flagged. The virus carrier is on a clean node, so it still turns left, instead weakens the node, and moves left:"
   ]
  },
  {
   "cell_type": "code",
   "execution_count": 14,
   "metadata": {},
   "outputs": [
    {
     "name": "stdout",
     "output_type": "stream",
     "text": [
      " . . # \n",
      "[#]W . \n",
      " . . . \n"
     ]
    }
   ],
   "source": [
    "pretty_print(run(example, 1))"
   ]
  },
  {
   "cell_type": "markdown",
   "metadata": {},
   "source": [
    "The virus carrier is on an infected node, so it still turns right, instead flags the node, and moves up:"
   ]
  },
  {
   "cell_type": "code",
   "execution_count": 15,
   "metadata": {},
   "outputs": [
    {
     "name": "stdout",
     "output_type": "stream",
     "text": [
      "[.]. # \n",
      " F W . \n",
      " . . . \n"
     ]
    }
   ],
   "source": [
    "pretty_print(run(example, 2))"
   ]
  },
  {
   "cell_type": "markdown",
   "metadata": {},
   "source": [
    "This process repeats three more times, ending on the previously-flagged node and facing right:"
   ]
  },
  {
   "cell_type": "code",
   "execution_count": 16,
   "metadata": {},
   "outputs": [
    {
     "name": "stdout",
     "output_type": "stream",
     "text": [
      " . . . . . \n",
      " W W . # . \n",
      " W[F]W . . \n",
      " . . . . . \n",
      " . . . . . \n"
     ]
    }
   ],
   "source": [
    "pretty_print(run(example, 2 + 3))"
   ]
  },
  {
   "cell_type": "markdown",
   "metadata": {},
   "source": [
    "Finding a flagged node, it reverses direction and cleans the node:"
   ]
  },
  {
   "cell_type": "code",
   "execution_count": 17,
   "metadata": {},
   "outputs": [
    {
     "name": "stdout",
     "output_type": "stream",
     "text": [
      " . . . . . \n",
      " W W . # . \n",
      "[W]. W . . \n",
      " . . . . . \n",
      " . . . . . \n"
     ]
    }
   ],
   "source": [
    "pretty_print(run(example, 2 + 3 + 1))"
   ]
  },
  {
   "cell_type": "markdown",
   "metadata": {},
   "source": [
    "The weakened node becomes infected, and it continues in the same direction:"
   ]
  },
  {
   "cell_type": "code",
   "execution_count": 18,
   "metadata": {},
   "outputs": [
    {
     "name": "stdout",
     "output_type": "stream",
     "text": [
      " . . . . . . . \n",
      " . . . . . . . \n",
      " . W W . # . . \n",
      "[.]# . W . . . \n",
      " . . . . . . . \n",
      " . . . . . . . \n",
      " . . . . . . . \n"
     ]
    }
   ],
   "source": [
    "pretty_print(run(example, 2 + 3 + 2))"
   ]
  },
  {
   "cell_type": "markdown",
   "metadata": {},
   "source": [
    "Of the first 100 bursts, 26 will result in infection."
   ]
  },
  {
   "cell_type": "code",
   "execution_count": 19,
   "metadata": {},
   "outputs": [],
   "source": [
    "assert run(example, 100)['infections'] == 26"
   ]
  },
  {
   "cell_type": "markdown",
   "metadata": {},
   "source": [
    "Unfortunately, another feature of this evolved virus is speed; of the first 10_000_000 bursts, 2_511_944 will result in infection."
   ]
  },
  {
   "cell_type": "code",
   "execution_count": 20,
   "metadata": {},
   "outputs": [
    {
     "name": "stdout",
     "output_type": "stream",
     "text": [
      "CPU times: user 20.9 s, sys: 162 ms, total: 21 s\n",
      "Wall time: 21.3 s\n"
     ]
    }
   ],
   "source": [
    "%%time\n",
    "assert run(example, 10_000_000)['infections'] == 2_511_944"
   ]
  },
  {
   "cell_type": "markdown",
   "metadata": {},
   "source": [
    "Given your actual map, after 10_000_000 bursts of activity, how many bursts cause a node to become infected? (Do not count nodes that begin infected.)"
   ]
  },
  {
   "cell_type": "code",
   "execution_count": 21,
   "metadata": {},
   "outputs": [
    {
     "name": "stdout",
     "output_type": "stream",
     "text": [
      "CPU times: user 20.3 s, sys: 114 ms, total: 20.5 s\n",
      "Wall time: 20.7 s\n"
     ]
    },
    {
     "data": {
      "text/plain": [
       "2511672"
      ]
     },
     "execution_count": 21,
     "metadata": {},
     "output_type": "execute_result"
    }
   ],
   "source": [
    "%%time\n",
    "run(puzzle, 10_000_000)['infections']"
   ]
  }
 ],
 "metadata": {
  "kernelspec": {
   "display_name": "Python 3",
   "language": "python",
   "name": "python3"
  },
  "language_info": {
   "codemirror_mode": {
    "name": "ipython",
    "version": 3
   },
   "file_extension": ".py",
   "mimetype": "text/x-python",
   "name": "python",
   "nbconvert_exporter": "python",
   "pygments_lexer": "ipython3",
   "version": "3.6.4"
  }
 },
 "nbformat": 4,
 "nbformat_minor": 2
}
